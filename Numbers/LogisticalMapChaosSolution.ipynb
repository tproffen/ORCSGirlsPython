{
  "cells": [
    {
      "cell_type": "markdown",
      "metadata": {
        "id": "view-in-github",
        "colab_type": "text"
      },
      "source": [
        "<a href=\"https://colab.research.google.com/github/tproffen/ORCSGirlsPython/blob/master/Numbers/LogisticalMapChaosSolution.ipynb\" target=\"_parent\"><img src=\"https://colab.research.google.com/assets/colab-badge.svg\" alt=\"Open In Colab\"/></a>"
      ]
    },
    {
      "cell_type": "markdown",
      "id": "22d1b0d3-e46c-46c7-95b7-ab811ec01214",
      "metadata": {
        "id": "22d1b0d3-e46c-46c7-95b7-ab811ec01214"
      },
      "source": [
        "*italicized text*<img src=\"https://github.com/tproffen/ORCSGirlsPython/blob/master/Images/Logo.png?raw=1\" width=\"10%\" align=\"right\" hpsace=\"50\">\n",
        "\n",
        "# Fun with Equations\n",
        "\n",
        "Let us play with  numbers and unlock the secrets of the logistical map. Please make sure you run the cell with the setup commands below before running any other code in this notebook.\n"
      ]
    },
    {
      "cell_type": "code",
      "execution_count": null,
      "id": "ae5bed58-b902-4b6f-aeda-d8176ea32fbd",
      "metadata": {
        "id": "ae5bed58-b902-4b6f-aeda-d8176ea32fbd"
      },
      "outputs": [],
      "source": [
        "!curl -s -o setup.sh https://raw.githubusercontent.com/tproffen/ORCSGirlsPython/master/Numbers/Helpers/setup_activities.sh\n",
        "!bash setup.sh\n",
        "from Helpers.helpers import *"
      ]
    },
    {
      "cell_type": "markdown",
      "id": "89cdca52-4d8e-4683-ba7a-510ec9ee63eb",
      "metadata": {
        "id": "89cdca52-4d8e-4683-ba7a-510ec9ee63eb"
      },
      "source": [
        "## Simple line\n",
        "\n",
        "Before we start with the actual equation for the logistical map, let us look at a simple line. The equation for a line is simply\n",
        "\n",
        "$y=m*x + b$\n",
        "\n",
        "where $m$ is the slope and $b$ is the y-axis intercept."
      ]
    },
    {
      "cell_type": "code",
      "execution_count": null,
      "id": "dd33b5f5-30e7-4080-b78a-72b1c348b396",
      "metadata": {
        "id": "dd33b5f5-30e7-4080-b78a-72b1c348b396"
      },
      "outputs": [],
      "source": [
        "def calculateLine(m,b):\n",
        "  xmin = -5.0                        # Smallest x value to calculate the function\n",
        "  xmax =  5.0                        # Largest x value to calculate the function\n",
        "  dx = 0.05                          # Step size in x\n",
        "\n",
        "  xvals = []                         # Empty list for x values\n",
        "  yvals = []                         # Empty list for y values\n",
        "\n",
        "  for x in np.arange(xmin,xmax,dx):  # Loop over points in x\n",
        "\n",
        "      y = m*x + b                    # Calculate the y-value\n",
        "\n",
        "      xvals.append(x)                # Add x valaue to the list\n",
        "      yvals.append(y)                # Add y valaue to the list\n",
        "\n",
        "  return xvals,yvals                 # Return the values"
      ]
    },
    {
      "cell_type": "markdown",
      "id": "6deb7f7c-a1cf-49e4-866d-aad6739a7982",
      "metadata": {
        "id": "6deb7f7c-a1cf-49e4-866d-aad6739a7982"
      },
      "source": [
        "Now we can use the function to make our plot. In order to explore our functions, we can add sliders to change the values of $m$ and $b$ and see how th egraph changes. Below is the code. Feel free to make changes to the vaklues or limits."
      ]
    },
    {
      "cell_type": "code",
      "execution_count": null,
      "id": "c7858283-4493-4e95-baf8-1efa726fbf99",
      "metadata": {
        "id": "c7858283-4493-4e95-baf8-1efa726fbf99"
      },
      "outputs": [],
      "source": [
        "sliders = [\n",
        "  PlotSlider(name=\"m\",value=1,max_value=10,min_value=-10,step_value=0.1),\n",
        "  PlotSlider(name=\"b\",value=1,max_value=10,min_value=-10,step_value=0.1)\n",
        "]\n",
        "graph = InteractivePlot(calculateLine,sliders)\n",
        "graph.show()"
      ]
    },
    {
      "cell_type": "markdown",
      "id": "0f1fda63-f15b-41ad-869c-b7b232e42710",
      "metadata": {
        "id": "0f1fda63-f15b-41ad-869c-b7b232e42710"
      },
      "source": [
        "## Now the fun - the Logistic Map\n",
        "\n",
        "We have discussed the logistical map in the class. There is also <a href=\"https://youtu.be/ovJcsL7vyrk\">this video</a> we saw parts of in class.\n",
        "\n",
        "Here is the equation:\n",
        "$x_{n+1} = r x_{n}(1 - x_{n})$\n",
        "\n",
        "Following the notation used in class, $r$ stands for the growth rate and $x$ is population. This is not the actual number, but the fraction of the maximum possible population, so it ranges from 0 to 1."
      ]
    },
    {
      "cell_type": "markdown",
      "id": "91db613b-5d53-468c-a0d3-7e31b267bc98",
      "metadata": {
        "id": "91db613b-5d53-468c-a0d3-7e31b267bc98"
      },
      "source": [
        "#### Step 1: Visualize the function\n",
        "\n",
        "Let's define a function `calculateGrowth` and plot how the population next year depends on the population this year. It is very similar to the line, just the line with the equation is different and we use a different range in $x$ to visualize."
      ]
    },
    {
      "cell_type": "code",
      "execution_count": null,
      "id": "6286097e-3ca8-4995-8962-92e401b39c13",
      "metadata": {
        "id": "6286097e-3ca8-4995-8962-92e401b39c13"
      },
      "outputs": [],
      "source": [
        "def calculateGrowth(r):\n",
        "  xmin = 0.0                         # Smallest x value to calculate the function\n",
        "  xmax = 1.0                         # Largest x value to calculate the function\n",
        "  dx = 0.01                          # Step size in x\n",
        "\n",
        "  xvals = []                         # Empty list for x values\n",
        "  yvals = []                         # Empty list for y values\n",
        "\n",
        "  for x in np.arange(xmin,xmax,dx):  # Loop over points in x\n",
        "\n",
        "      y = r*x*(1-x)                  # Calculate the y-value\n",
        "\n",
        "      xvals.append(x)                # Add x valaue to the list\n",
        "      yvals.append(y)                # Add y valaue to the list\n",
        "\n",
        "  return xvals,yvals                 # Return the values"
      ]
    },
    {
      "cell_type": "markdown",
      "source": [
        "Like before, we can create an interactive plot with sliders. In this case we are just varying the growth rate $r$."
      ],
      "metadata": {
        "id": "S-INbSCYoLSJ"
      },
      "id": "S-INbSCYoLSJ"
    },
    {
      "cell_type": "code",
      "execution_count": null,
      "id": "69080ecc-7bb9-4ac8-a306-fccaf197f286",
      "metadata": {
        "id": "69080ecc-7bb9-4ac8-a306-fccaf197f286"
      },
      "outputs": [],
      "source": [
        "sliders = [\n",
        "  PlotSlider(name=\"r\",value=2.0,max_value=3.0,min_value=0.0,step_value=0.05),\n",
        "]\n",
        "graph = InteractivePlot(calculateGrowth,sliders)\n",
        "graph.xtitle = \"x_n\"\n",
        "graph.ytitle = \"x_n+1\"\n",
        "graph.ymax = 0.7\n",
        "graph.show()"
      ]
    },
    {
      "cell_type": "markdown",
      "id": "a32d5ed5-4838-4c98-983c-f607c77a6838",
      "metadata": {
        "id": "a32d5ed5-4838-4c98-983c-f607c77a6838"
      },
      "source": [
        "Woohoo, just like in the video. We have a 'single hump function' with a negative feedback, meaning when the population gets too big the dowturn of the parabula will reduce the population as you can see on the graph."
      ]
    },
    {
      "cell_type": "markdown",
      "id": "80d351f2-0432-4789-a3b2-67ec08c1003a",
      "metadata": {
        "id": "80d351f2-0432-4789-a3b2-67ec08c1003a"
      },
      "source": [
        "#### Step 2: Behaviour as time goes on\n",
        "\n",
        "We are most interested in the long term behaviour of the function as we repeatley call it. In other words what happens to the population after a long time. In the function below we calculate the value of $x_{n} = r x_{n-1}(1 - x_{n-1})$ for all $n$. Note that we have rewritten this so the value we calculate os $n$ and it depends on the earlier value $n-1$ which is how we implement it by using the list element `[-1]`. We also pass an argument $nmax$ which determined for how many generations we canculate the function. Now rather that calculating the value in one line, we *iterate* over the logistical map function $nmax$ times and record the result as `yvals` for each iteration.\n",
        "\n",
        "Below is the function `calculateGrowthTime`."
      ]
    },
    {
      "cell_type": "code",
      "execution_count": null,
      "id": "d8d5dde3-86af-4168-9c6e-56b595eb9685",
      "metadata": {
        "id": "d8d5dde3-86af-4168-9c6e-56b595eb9685"
      },
      "outputs": [],
      "source": [
        "def calculateGrowthTime(x0, r,nmax):\n",
        "  nmax = int(nmax)\n",
        "\n",
        "  # First point\n",
        "  yvals=[x0]\n",
        "  xvals=[0]\n",
        "\n",
        "  for i in range(1,nmax):                    # Loop to the maximum number nmax we want.\n",
        "    xvals.append(i)\n",
        "    yvals.append(r*yvals[-1]*(1-yvals[-1]))  # Append the calculated value\n",
        "\n",
        "  return xvals,yvals                         # Return all values"
      ]
    },
    {
      "cell_type": "markdown",
      "source": [
        "And as before we now create the interactive plot. Note we now have three parameters we want to vary: the initial popuation $x0$, the growth rate $r$ and the number of generation $nmax$ which you can think of as time it like in the example we think of it as population per year."
      ],
      "metadata": {
        "id": "AOmdFIlhpKr9"
      },
      "id": "AOmdFIlhpKr9"
    },
    {
      "cell_type": "code",
      "source": [
        "sliders = [\n",
        "  PlotSlider(name=\"x0\",  value=0.4,max_value=0.9,min_value=0.1,step_value=0.05),\n",
        "  PlotSlider(name=\"r\",   value=2.2,max_value=4.0,min_value=0.5,step_value=0.05),\n",
        "  PlotSlider(name=\"nmax\",value=200,max_value=500,min_value= 20,step_value=0.05),\n",
        "]\n",
        "graph = InteractivePlot(calculateGrowthTime,sliders)\n",
        "graph.xtitle = \"Time\"\n",
        "graph.ytitle = \"Population\"\n",
        "graph.ymax = 1.0\n",
        "graph.ymin = 0.0\n",
        "graph.mode = \"lines+markers\"\n",
        "\n",
        "graph.show()"
      ],
      "metadata": {
        "id": "SG-uxA9ytxGc"
      },
      "id": "SG-uxA9ytxGc",
      "execution_count": null,
      "outputs": []
    },
    {
      "cell_type": "markdown",
      "id": "ba907da3-942d-42de-8f6a-d5c9d981df9a",
      "metadata": {
        "id": "ba907da3-942d-42de-8f6a-d5c9d981df9a"
      },
      "source": [
        "\n",
        "**Stop here and explore**\n",
        "\n",
        "<hr>\n",
        "Explore how the function depends on `x0` and `r`. Anything spooky 😨 You might need to turn on autoscale (one of the buttons on top of the plot) is the function disappears from view. Share findings in the chat.\n",
        "<hr>\n"
      ]
    },
    {
      "cell_type": "markdown",
      "id": "4e8f5a38-1b92-43ec-a1fa-bf825d26e942",
      "metadata": {
        "id": "4e8f5a38-1b92-43ec-a1fa-bf825d26e942"
      },
      "source": [
        "#### Step 3: Exploring as function of growth rate $r$\n",
        "\n",
        "You might have seen strange behaviour for certain values of $r$, so next we explore the resulting populations after some time. Basically we want to see the limit values for the population as a function or growth rate $r$.\n",
        "\n",
        "Because there are multiple values the function oscillates around, we simply loop over $r$ and then plot the last `nplot` points in a scatter plot.\n",
        "\n",
        "Below is the code for the calculation. It calls the function `calculateGrowthTime` you completed earlier. But now the loop is over $r$ and we keep the points from index `nplot` which should be large enough so the function has settled in its behavior. For the plotting to work we need to resort the lists which is done with the `np.array(vals).ravel()` commands."
      ]
    },
    {
      "cell_type": "code",
      "execution_count": null,
      "id": "662c6100-b787-4613-86a0-a603a11164bb",
      "metadata": {
        "id": "662c6100-b787-4613-86a0-a603a11164bb"
      },
      "outputs": [],
      "source": [
        "x0 = 0.4                  # Starting population\n",
        "nmax  = 300               # Maximum value of n for calculate\n",
        "nplot = 200               # First point to plot, so we plot nplot:nmax\n",
        "rmin  = 2.9               # Starting growth rate r for graph\n",
        "rmax  = 4.0               # Ending growth rate r for graph\n",
        "npts  = 2000              # Number of points\n",
        "\n",
        "dr = (rmax-rmin) / npts\n",
        "\n",
        "rvals=[]         # List for values of r\n",
        "lvals=[]         # List for resulting values of x (there will be nmax values for each r)\n",
        "\n",
        "for r in np.arange(rmin,rmax,dr):                             # Loop over r\n",
        "    lvals.append(calculateGrowthTime(x0,r,nmax)[1][nplot:]) # Getting list of x starting at nplot\n",
        "    rvals.append([r]*(nmax-nplot))                            # We need the same number of r's so\n",
        "                                                              # lists are the same length\n",
        "\n",
        "# Now we need to turn the list of lists into one contineous list for plotting\n",
        "lvals = np.array(lvals).ravel()\n",
        "rvals = np.array(rvals).ravel()"
      ]
    },
    {
      "cell_type": "markdown",
      "source": [
        "This might take a moment. Let us see how many data points we have created."
      ],
      "metadata": {
        "id": "FiGZiu1EsEKu"
      },
      "id": "FiGZiu1EsEKu"
    },
    {
      "cell_type": "code",
      "source": [
        "print (len(rvals))"
      ],
      "metadata": {
        "id": "wfsnZ21IQlnY"
      },
      "id": "wfsnZ21IQlnY",
      "execution_count": null,
      "outputs": []
    },
    {
      "cell_type": "markdown",
      "id": "8835e382-3c76-40eb-a898-0fe30711fdca",
      "metadata": {
        "id": "8835e382-3c76-40eb-a898-0fe30711fdca"
      },
      "source": [
        "All that is left is to plot. Adjust marker size and color below. Also explore changing nmax, nplot and the step size in r above and rerun the cells. Enjoy."
      ]
    },
    {
      "cell_type": "code",
      "execution_count": null,
      "id": "153c32a6-1064-4843-a1c5-81fe454fcaaa",
      "metadata": {
        "id": "153c32a6-1064-4843-a1c5-81fe454fcaaa"
      },
      "outputs": [],
      "source": [
        "layout = go.Layout(xaxis_title='Growth rate r', yaxis_title='Population limit', width=800, height=600)\n",
        "data = go.Scattergl(x=rvals, y=lvals, mode='markers', marker=dict(size=1, color='red'))\n",
        "graph = go.FigureWidget(data=[data], layout=layout)"
      ]
    },
    {
      "cell_type": "code",
      "source": [
        "display(graph)"
      ],
      "metadata": {
        "id": "hBG2Bpk1Qf66"
      },
      "id": "hBG2Bpk1Qf66",
      "execution_count": null,
      "outputs": []
    },
    {
      "cell_type": "markdown",
      "source": [
        "\n",
        "You can save the image and show it to everyone. Not only have you explored the logistical map (that is what the equation is called), but you also created **chaos**."
      ],
      "metadata": {
        "id": "ytk7-1rdB6Qx"
      },
      "id": "ytk7-1rdB6Qx"
    }
  ],
  "metadata": {
    "kernelspec": {
      "display_name": "Python 3 (ipykernel)",
      "language": "python",
      "name": "python3"
    },
    "language_info": {
      "codemirror_mode": {
        "name": "ipython",
        "version": 3
      },
      "file_extension": ".py",
      "mimetype": "text/x-python",
      "name": "python",
      "nbconvert_exporter": "python",
      "pygments_lexer": "ipython3",
      "version": "3.9.7"
    },
    "colab": {
      "provenance": [],
      "include_colab_link": true
    }
  },
  "nbformat": 4,
  "nbformat_minor": 5
}