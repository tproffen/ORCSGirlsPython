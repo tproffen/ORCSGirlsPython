{
  "cells": [
    {
      "cell_type": "markdown",
      "metadata": {
        "id": "view-in-github",
        "colab_type": "text"
      },
      "source": [
        "<a href=\"https://colab.research.google.com/github/tproffen/ORCSGirlsPython/blob/master/Numbers/ChaosAndFractals-Plotly.ipynb\" target=\"_parent\"><img src=\"https://colab.research.google.com/assets/colab-badge.svg\" alt=\"Open In Colab\"/></a>"
      ]
    },
    {
      "cell_type": "markdown",
      "id": "22d1b0d3-e46c-46c7-95b7-ab811ec01214",
      "metadata": {
        "id": "22d1b0d3-e46c-46c7-95b7-ab811ec01214"
      },
      "source": [
        "<img src=\"https://github.com/tproffen/ORCSGirlsPython/blob/master/Images/Logo.png?raw=1\" width=\"10%\" align=\"right\" hpsace=\"50\">\n",
        "\n",
        "# Numbers and Chaos\n",
        "\n",
        "## Activity: The Logistical Map\n",
        "\n",
        "Let us play with  numbers and unlock the secrets of the logistical map. Please make sure you run the cell with the setup commands below before running any other code in this notebook.\n"
      ]
    },
    {
      "cell_type": "code",
      "execution_count": 38,
      "id": "ae5bed58-b902-4b6f-aeda-d8176ea32fbd",
      "metadata": {
        "id": "ae5bed58-b902-4b6f-aeda-d8176ea32fbd"
      },
      "outputs": [],
      "source": [
        "import ipywidgets as widgets\n",
        "import plotly.graph_objects as go\n",
        "import numpy as np\n",
        "\n",
        "from google.colab import output"
      ]
    },
    {
      "cell_type": "markdown",
      "id": "89cdca52-4d8e-4683-ba7a-510ec9ee63eb",
      "metadata": {
        "id": "89cdca52-4d8e-4683-ba7a-510ec9ee63eb"
      },
      "source": [
        "### Simple plotting\n",
        "\n",
        "First we look at `Plotly` and how to graph data. In the past we have used `matplotlib`, but here we want to create interactive plots in Google Colab, so we use `Plotly` instead. Let us start with a simple line. The equation for a line is simply\n",
        "\n",
        "$y=m*x + b$\n",
        "\n",
        "where $m$ is the slope and $b$ is the y-axis intercept. Because we want to easily recalculate the points of the line for plotting, we create a function that takes the slope $m$ and intercept $b$, the range we want to cover in x (as xmin, xmax and dx) and returns a list of x and y values."
      ]
    },
    {
      "cell_type": "code",
      "execution_count": 32,
      "id": "dd33b5f5-30e7-4080-b78a-72b1c348b396",
      "metadata": {
        "id": "dd33b5f5-30e7-4080-b78a-72b1c348b396"
      },
      "outputs": [],
      "source": [
        "def line(m,b,xmin,xmax,dx):\n",
        "    xvals = []                         # Empty list for x values\n",
        "    yvals = []                         # Empty list for y values\n",
        "    for x in np.arange(xmin,xmax,dx):  # Loop over points in x\n",
        "        xvals.append(x)                # Add x vlaue to the list\n",
        "        yvals.append(m*x+b)            # Calculate y and add to the list\n",
        "    return xvals, yvals                # return both lists"
      ]
    },
    {
      "cell_type": "markdown",
      "id": "6deb7f7c-a1cf-49e4-866d-aad6739a7982",
      "metadata": {
        "id": "6deb7f7c-a1cf-49e4-866d-aad6739a7982"
      },
      "source": [
        "Now we use that function to calculate the points and call it everytime the slider is moved. The code below will create sliders for $m$ and $b$ and allow the plot to be changed interactively :)"
      ]
    },
    {
      "cell_type": "code",
      "execution_count": 37,
      "id": "c7858283-4493-4e95-baf8-1efa726fbf99",
      "metadata": {
        "id": "c7858283-4493-4e95-baf8-1efa726fbf99",
        "colab": {
          "base_uri": "https://localhost:8080/",
          "height": 617,
          "referenced_widgets": [
            "70c6abd65ec54463b4ae284540f31e8c",
            "fdd80ae4aefe497f97c0477c74e85f6a",
            "9592f3a84e174bf4a504086e03a91aa0",
            "b647c5edbe4b44c296f70fbc4d18acab",
            "4fb3c5ed38f74be08404bf8c9afa7851",
            "0501ff5347c749a2bd01b23a992eb3d8",
            "72a3efbfa485429b95e5f352f629a8a7",
            "b24154c05bb94abcb40c502a994ad791",
            "a87cacafc96a471284a5b250dff14827",
            "6a086f13899642a89af9fba7046d7c3a",
            "16bbdd4c26a54e0ea00bf961b465ea7c"
          ]
        },
        "outputId": "2b0a1ebe-6eb7-404c-a9b1-514520550e59"
      },
      "outputs": [
        {
          "output_type": "display_data",
          "data": {
            "text/plain": [
              "HBox(children=(FigureWidget({\n",
              "    'data': [{'mode': 'lines',\n",
              "              'name': 'Line',\n",
              "              'type…"
            ],
            "application/vnd.jupyter.widget-view+json": {
              "version_major": 2,
              "version_minor": 0,
              "model_id": "70c6abd65ec54463b4ae284540f31e8c"
            }
          },
          "metadata": {
            "application/vnd.jupyter.widget-view+json": {
              "colab": {
                "custom_widget_manager": {
                  "url": "https://ssl.gstatic.com/colaboratory-static/widgets/colab-cdn-widget-manager/b3e629b1971e1542/manager.min.js"
                }
              }
            }
          }
        }
      ],
      "source": [
        "# Set ranges\n",
        "xmin = -4.0\n",
        "xmax = 4.0\n",
        "dx = 0.05\n",
        "\n",
        "(x,y) = line(1,0,xmin,xmax,dx)      # Initial line\n",
        "\n",
        "# Making the graph\n",
        "layout = go.Layout(title='Line Graph', yaxis_range=[min(y),max(y)], width=800, height=600)\n",
        "data = go.Scatter(x=x, y=y, mode=\"lines\", name='Line', xaxis='x', yaxis='y')\n",
        "output.enable_custom_widget_manager()\n",
        "graph = go.FigureWidget(data=[data], layout=layout)\n",
        "\n",
        "# update routine\n",
        "def update(change):\n",
        "    (graph.data[0].x, graph.data[0].y) = line(mSlider.value, bSlider.value, xmin, xmax, dx)\n",
        "\n",
        "# Making the sliders\n",
        "mSlider = widgets.FloatSlider(value=1.0, min=-5, max=5.0, step=0.1, description='Slope m:', continuous_update=True, readout=True, readout_format='.1f')\n",
        "bSlider = widgets.FloatSlider(value=1.0, min=-5, max=5.0, step=0.1, description='Intercept b:', continuous_update=True, readout=True, readout_format='.1f')\n",
        "mSlider.observe(update, names='value')\n",
        "bSlider.observe(update, names='value')\n",
        "sliders = widgets.VBox([mSlider,bSlider])\n",
        "\n",
        "display(widgets.HBox([graph,sliders]))"
      ]
    },
    {
      "cell_type": "markdown",
      "id": "0f1fda63-f15b-41ad-869c-b7b232e42710",
      "metadata": {
        "id": "0f1fda63-f15b-41ad-869c-b7b232e42710"
      },
      "source": [
        "# Now the fun - the Logistic Map\n",
        "\n",
        "You have heard about the logisicatl map in the class or you can watch <a href=\"https://youtu.be/ovJcsL7vyrk\">this awesome video</a>.\n",
        "\n",
        "Here is the equation:\n",
        "$x_{n+1} = r x_{n}(1 - x_{n})$\n",
        "\n",
        "Following the notation used in class, $r$ stands for the growth rate and $x$ is population. This is not the actual number, but the fraction of the maximum possible population, so it ranges from 0 to 1."
      ]
    },
    {
      "cell_type": "markdown",
      "id": "91db613b-5d53-468c-a0d3-7e31b267bc98",
      "metadata": {
        "id": "91db613b-5d53-468c-a0d3-7e31b267bc98"
      },
      "source": [
        "#### Step 1: Visualize the function\n",
        "\n",
        "Let's define a function `growth` and plot how the population next year depends on the population this year;"
      ]
    },
    {
      "cell_type": "code",
      "execution_count": null,
      "id": "6286097e-3ca8-4995-8962-92e401b39c13",
      "metadata": {
        "id": "6286097e-3ca8-4995-8962-92e401b39c13"
      },
      "outputs": [],
      "source": [
        "def growth(x,r):\n",
        "    return r*x*(1-x)"
      ]
    },
    {
      "cell_type": "code",
      "execution_count": null,
      "id": "69080ecc-7bb9-4ac8-a306-fccaf197f286",
      "metadata": {
        "id": "69080ecc-7bb9-4ac8-a306-fccaf197f286"
      },
      "outputs": [],
      "source": [
        "r = 2.0   # Growth rate of 2\n",
        "x = 0.4   # Initial population 40% (or 0.4) of the possible maximum\n",
        "\n",
        "xpts = np.arange(0.0,1.1,0.1)           # Values for x from 0 to 1 (note the 1.1)\n",
        "ypts = [growth(x,r) for x in xpts]      # One line loop to calculate all the y's\n",
        "\n",
        "fig, ax = plt.subplots(figsize=(6,4))   # Making the new plot\n",
        "plt.xlabel('x_n')\n",
        "plt.ylabel('x_n+1')\n",
        "\n",
        "ax.plot(xpts,ypts)"
      ]
    },
    {
      "cell_type": "markdown",
      "id": "a32d5ed5-4838-4c98-983c-f607c77a6838",
      "metadata": {
        "id": "a32d5ed5-4838-4c98-983c-f607c77a6838"
      },
      "source": [
        "Woohoo, just like in the video. He have a 'single hump function' with a negative feedback, meaning when the population gets too big the dowturn of the parabula will reduce the population as you can see on the graph."
      ]
    },
    {
      "cell_type": "markdown",
      "id": "80d351f2-0432-4789-a3b2-67ec08c1003a",
      "metadata": {
        "id": "80d351f2-0432-4789-a3b2-67ec08c1003a"
      },
      "source": [
        "#### Step 2: Behaviour as time goes on\n",
        "\n",
        "We are most interested in the long term behaviour of the function as we repeatley call it. In other words what happens to the population after a long time. In the function below we calculate the value of $x_{n} = r x_{n-1}(1 - x_{n-1})$ for all $n$. Note that we have rewritten this so the value we calculate os $n$ and it depends on the earlier value $n-1$ which is how we implement it by using the list element `[-1]`."
      ]
    },
    {
      "cell_type": "code",
      "execution_count": null,
      "id": "d8d5dde3-86af-4168-9c6e-56b595eb9685",
      "metadata": {
        "id": "d8d5dde3-86af-4168-9c6e-56b595eb9685"
      },
      "outputs": [],
      "source": [
        "def growthtime(x0,r,nmax):\n",
        "    vals=[x0]                                  # First element is the initial pop.\n",
        "    for i in range(nmax-1):                    # Loop to the maximum number nmax we want.\n",
        "                                               #   the -1 is because we already added x0\n",
        "        vals.append(r*vals[-1]*(1-vals[-1]))   # Append the calculated vale\n",
        "    return vals                                # Return all values"
      ]
    },
    {
      "cell_type": "code",
      "execution_count": null,
      "id": "4d516a6a-3f1b-4b6f-bfb5-97196980e373",
      "metadata": {
        "id": "4d516a6a-3f1b-4b6f-bfb5-97196980e373"
      },
      "outputs": [],
      "source": [
        "fig, ax = plt.subplots(figsize=(6,4))\n",
        "plt.xlabel('Time')\n",
        "plt.ylabel('Population')\n",
        "\n",
        "@widgets.interact(x0=(0.1,0.9,0.1),r=(0.5,4.0,0.01))\n",
        "def update(x0=0.4, r=1.2):\n",
        "    [l.remove() for l in ax.lines]\n",
        "    ax.plot(growthtime(x0,r,100), color=\"blue\", marker='o')    # Adding some markers"
      ]
    },
    {
      "cell_type": "markdown",
      "id": "ba907da3-942d-42de-8f6a-d5c9d981df9a",
      "metadata": {
        "id": "ba907da3-942d-42de-8f6a-d5c9d981df9a"
      },
      "source": [
        "Explore how the function depends on `x0` and `r`. Anything spooky 😨"
      ]
    },
    {
      "cell_type": "markdown",
      "id": "4e8f5a38-1b92-43ec-a1fa-bf825d26e942",
      "metadata": {
        "id": "4e8f5a38-1b92-43ec-a1fa-bf825d26e942"
      },
      "source": [
        "#### Step 3: Exploring as function of growth rate $r$\n",
        "\n",
        "You might have seen strange behaviour for certain values of $r$, so next we explore the resulting populations after some time. Because there are multiple values the function oscillates around, we simply loop ofer $r$ and then plot the last `nplot` points ion a scatter plot."
      ]
    },
    {
      "cell_type": "code",
      "execution_count": null,
      "id": "662c6100-b787-4613-86a0-a603a11164bb",
      "metadata": {
        "id": "662c6100-b787-4613-86a0-a603a11164bb"
      },
      "outputs": [],
      "source": [
        "x0 = 0.4         # Starting population\n",
        "nmax  = 300      # Maximum value of n for calculate\n",
        "nplot = 150      # First point to plot, so we plot nplot:nmax\n",
        "\n",
        "rvals=[]         # List for values of r\n",
        "lvals=[]         # List for resulting values of x (there will be nmax values for each r)\n",
        "\n",
        "for r in np.arange(0.9,4.0,0.001):              # Loop over r - note the fine grid\n",
        "    lvals.append(growthtime(x0,r,nmax)[nplot:]) # Getting list of x starting at nplot\n",
        "    rvals.append([r]*(nmax-nplot))              # We need the same number of r's so\n",
        "                                                # lists are the same length\n",
        "\n",
        "# Now we need to turn the list of lists into one contineous list for plotting\n",
        "lvals = np.array(lvals).ravel()\n",
        "rvals = np.array(rvals).ravel()"
      ]
    },
    {
      "cell_type": "markdown",
      "id": "8835e382-3c76-40eb-a898-0fe30711fdca",
      "metadata": {
        "id": "8835e382-3c76-40eb-a898-0fe30711fdca"
      },
      "source": [
        "All that is left is to plot. Adjust marker size and color below. Also explore changing nmax, nplot and the step size in r. Enjoy."
      ]
    },
    {
      "cell_type": "code",
      "execution_count": null,
      "id": "153c32a6-1064-4843-a1c5-81fe454fcaaa",
      "metadata": {
        "id": "153c32a6-1064-4843-a1c5-81fe454fcaaa"
      },
      "outputs": [],
      "source": [
        "fig, ax = plt.subplots(figsize=(6,4))\n",
        "plt.scatter(rvals,lvals,s=0.02,color='purple')"
      ]
    },
    {
      "cell_type": "markdown",
      "source": [
        "### How cool was that .."
      ],
      "metadata": {
        "id": "ytk7-1rdB6Qx"
      },
      "id": "ytk7-1rdB6Qx"
    }
  ],
  "metadata": {
    "kernelspec": {
      "display_name": "Python 3 (ipykernel)",
      "language": "python",
      "name": "python3"
    },
    "language_info": {
      "codemirror_mode": {
        "name": "ipython",
        "version": 3
      },
      "file_extension": ".py",
      "mimetype": "text/x-python",
      "name": "python",
      "nbconvert_exporter": "python",
      "pygments_lexer": "ipython3",
      "version": "3.9.7"
    },
    "colab": {
      "provenance": [],
      "include_colab_link": true
    },
    "widgets": {
      "application/vnd.jupyter.widget-state+json": {
        "70c6abd65ec54463b4ae284540f31e8c": {
          "model_module": "@jupyter-widgets/controls",
          "model_name": "HBoxModel",
          "model_module_version": "1.5.0",
          "state": {
            "_dom_classes": [],
            "_model_module": "@jupyter-widgets/controls",
            "_model_module_version": "1.5.0",
            "_model_name": "HBoxModel",
            "_view_count": null,
            "_view_module": "@jupyter-widgets/controls",
            "_view_module_version": "1.5.0",
            "_view_name": "HBoxView",
            "box_style": "",
            "children": [
              "IPY_MODEL_fdd80ae4aefe497f97c0477c74e85f6a",
              "IPY_MODEL_9592f3a84e174bf4a504086e03a91aa0"
            ],
            "layout": "IPY_MODEL_b647c5edbe4b44c296f70fbc4d18acab"
          }
        },
        "fdd80ae4aefe497f97c0477c74e85f6a": {
          "model_module": "jupyterlab-plotly",
          "model_name": "FigureModel",
          "model_module_version": "^5.15.0",
          "state": {
            "_config": {
              "plotlyServerURL": "https://plot.ly"
            },
            "_data": [
              {
                "mode": "lines",
                "name": "Line",
                "x": [
                  -4,
                  -3.95,
                  -3.9000000000000004,
                  -3.8500000000000005,
                  -3.8000000000000007,
                  -3.750000000000001,
                  -3.700000000000001,
                  -3.6500000000000012,
                  -3.6000000000000014,
                  -3.5500000000000016,
                  -3.5000000000000018,
                  -3.450000000000002,
                  -3.400000000000002,
                  -3.3500000000000023,
                  -3.3000000000000025,
                  -3.2500000000000027,
                  -3.200000000000003,
                  -3.150000000000003,
                  -3.100000000000003,
                  -3.0500000000000034,
                  -3.0000000000000036,
                  -2.9500000000000037,
                  -2.900000000000004,
                  -2.850000000000004,
                  -2.8000000000000043,
                  -2.7500000000000044,
                  -2.7000000000000046,
                  -2.650000000000005,
                  -2.600000000000005,
                  -2.550000000000005,
                  -2.5000000000000053,
                  -2.4500000000000055,
                  -2.4000000000000057,
                  -2.350000000000006,
                  -2.300000000000006,
                  -2.250000000000006,
                  -2.2000000000000064,
                  -2.1500000000000066,
                  -2.1000000000000068,
                  -2.050000000000007,
                  -2.000000000000007,
                  -1.9500000000000073,
                  -1.9000000000000075,
                  -1.8500000000000076,
                  -1.8000000000000078,
                  -1.750000000000008,
                  -1.7000000000000082,
                  -1.6500000000000083,
                  -1.6000000000000085,
                  -1.5500000000000087,
                  -1.5000000000000089,
                  -1.450000000000009,
                  -1.4000000000000092,
                  -1.3500000000000094,
                  -1.3000000000000096,
                  -1.2500000000000098,
                  -1.20000000000001,
                  -1.1500000000000101,
                  -1.1000000000000103,
                  -1.0500000000000105,
                  -1.0000000000000107,
                  -0.9500000000000108,
                  -0.900000000000011,
                  -0.8500000000000112,
                  -0.8000000000000114,
                  -0.7500000000000115,
                  -0.7000000000000117,
                  -0.6500000000000119,
                  -0.6000000000000121,
                  -0.5500000000000123,
                  -0.5000000000000124,
                  -0.4500000000000126,
                  -0.4000000000000128,
                  -0.35000000000001297,
                  -0.30000000000001315,
                  -0.2500000000000133,
                  -0.2000000000000135,
                  -0.15000000000001368,
                  -0.10000000000001386,
                  -0.05000000000001403,
                  -1.4210854715202004e-14,
                  0.04999999999998561,
                  0.09999999999998543,
                  0.14999999999998526,
                  0.19999999999998508,
                  0.2499999999999849,
                  0.2999999999999847,
                  0.34999999999998455,
                  0.39999999999998437,
                  0.4499999999999842,
                  0.499999999999984,
                  0.5499999999999838,
                  0.5999999999999837,
                  0.6499999999999835,
                  0.6999999999999833,
                  0.7499999999999831,
                  0.799999999999983,
                  0.8499999999999828,
                  0.8999999999999826,
                  0.9499999999999824,
                  0.9999999999999822,
                  1.049999999999982,
                  1.0999999999999819,
                  1.1499999999999817,
                  1.1999999999999815,
                  1.2499999999999813,
                  1.2999999999999812,
                  1.349999999999981,
                  1.3999999999999808,
                  1.4499999999999806,
                  1.4999999999999805,
                  1.5499999999999803,
                  1.59999999999998,
                  1.64999999999998,
                  1.6999999999999797,
                  1.7499999999999796,
                  1.7999999999999794,
                  1.8499999999999792,
                  1.899999999999979,
                  1.9499999999999789,
                  1.9999999999999787,
                  2.0499999999999785,
                  2.0999999999999783,
                  2.149999999999978,
                  2.199999999999978,
                  2.249999999999978,
                  2.2999999999999776,
                  2.3499999999999774,
                  2.3999999999999773,
                  2.449999999999977,
                  2.499999999999977,
                  2.5499999999999767,
                  2.5999999999999766,
                  2.6499999999999764,
                  2.699999999999976,
                  2.749999999999976,
                  2.799999999999976,
                  2.8499999999999757,
                  2.8999999999999755,
                  2.9499999999999753,
                  2.999999999999975,
                  3.049999999999975,
                  3.0999999999999748,
                  3.1499999999999746,
                  3.1999999999999744,
                  3.2499999999999742,
                  3.299999999999974,
                  3.349999999999974,
                  3.3999999999999737,
                  3.4499999999999735,
                  3.4999999999999734,
                  3.549999999999973,
                  3.599999999999973,
                  3.649999999999973,
                  3.6999999999999726,
                  3.7499999999999725,
                  3.7999999999999723,
                  3.849999999999972,
                  3.899999999999972,
                  3.9499999999999718
                ],
                "xaxis": "x",
                "y": [
                  -4,
                  -3.95,
                  -3.9000000000000004,
                  -3.8500000000000005,
                  -3.8000000000000007,
                  -3.750000000000001,
                  -3.700000000000001,
                  -3.6500000000000012,
                  -3.6000000000000014,
                  -3.5500000000000016,
                  -3.5000000000000018,
                  -3.450000000000002,
                  -3.400000000000002,
                  -3.3500000000000023,
                  -3.3000000000000025,
                  -3.2500000000000027,
                  -3.200000000000003,
                  -3.150000000000003,
                  -3.100000000000003,
                  -3.0500000000000034,
                  -3.0000000000000036,
                  -2.9500000000000037,
                  -2.900000000000004,
                  -2.850000000000004,
                  -2.8000000000000043,
                  -2.7500000000000044,
                  -2.7000000000000046,
                  -2.650000000000005,
                  -2.600000000000005,
                  -2.550000000000005,
                  -2.5000000000000053,
                  -2.4500000000000055,
                  -2.4000000000000057,
                  -2.350000000000006,
                  -2.300000000000006,
                  -2.250000000000006,
                  -2.2000000000000064,
                  -2.1500000000000066,
                  -2.1000000000000068,
                  -2.050000000000007,
                  -2.000000000000007,
                  -1.9500000000000073,
                  -1.9000000000000075,
                  -1.8500000000000076,
                  -1.8000000000000078,
                  -1.750000000000008,
                  -1.7000000000000082,
                  -1.6500000000000083,
                  -1.6000000000000085,
                  -1.5500000000000087,
                  -1.5000000000000089,
                  -1.450000000000009,
                  -1.4000000000000092,
                  -1.3500000000000094,
                  -1.3000000000000096,
                  -1.2500000000000098,
                  -1.20000000000001,
                  -1.1500000000000101,
                  -1.1000000000000103,
                  -1.0500000000000105,
                  -1.0000000000000107,
                  -0.9500000000000108,
                  -0.900000000000011,
                  -0.8500000000000112,
                  -0.8000000000000114,
                  -0.7500000000000115,
                  -0.7000000000000117,
                  -0.6500000000000119,
                  -0.6000000000000121,
                  -0.5500000000000123,
                  -0.5000000000000124,
                  -0.4500000000000126,
                  -0.4000000000000128,
                  -0.35000000000001297,
                  -0.30000000000001315,
                  -0.2500000000000133,
                  -0.2000000000000135,
                  -0.15000000000001368,
                  -0.10000000000001386,
                  -0.05000000000001403,
                  -1.4210854715202004e-14,
                  0.04999999999998561,
                  0.09999999999998543,
                  0.14999999999998526,
                  0.19999999999998508,
                  0.2499999999999849,
                  0.2999999999999847,
                  0.34999999999998455,
                  0.39999999999998437,
                  0.4499999999999842,
                  0.499999999999984,
                  0.5499999999999838,
                  0.5999999999999837,
                  0.6499999999999835,
                  0.6999999999999833,
                  0.7499999999999831,
                  0.799999999999983,
                  0.8499999999999828,
                  0.8999999999999826,
                  0.9499999999999824,
                  0.9999999999999822,
                  1.049999999999982,
                  1.0999999999999819,
                  1.1499999999999817,
                  1.1999999999999815,
                  1.2499999999999813,
                  1.2999999999999812,
                  1.349999999999981,
                  1.3999999999999808,
                  1.4499999999999806,
                  1.4999999999999805,
                  1.5499999999999803,
                  1.59999999999998,
                  1.64999999999998,
                  1.6999999999999797,
                  1.7499999999999796,
                  1.7999999999999794,
                  1.8499999999999792,
                  1.899999999999979,
                  1.9499999999999789,
                  1.9999999999999787,
                  2.0499999999999785,
                  2.0999999999999783,
                  2.149999999999978,
                  2.199999999999978,
                  2.249999999999978,
                  2.2999999999999776,
                  2.3499999999999774,
                  2.3999999999999773,
                  2.449999999999977,
                  2.499999999999977,
                  2.5499999999999767,
                  2.5999999999999766,
                  2.6499999999999764,
                  2.699999999999976,
                  2.749999999999976,
                  2.799999999999976,
                  2.8499999999999757,
                  2.8999999999999755,
                  2.9499999999999753,
                  2.999999999999975,
                  3.049999999999975,
                  3.0999999999999748,
                  3.1499999999999746,
                  3.1999999999999744,
                  3.2499999999999742,
                  3.299999999999974,
                  3.349999999999974,
                  3.3999999999999737,
                  3.4499999999999735,
                  3.4999999999999734,
                  3.549999999999973,
                  3.599999999999973,
                  3.649999999999973,
                  3.6999999999999726,
                  3.7499999999999725,
                  3.7999999999999723,
                  3.849999999999972,
                  3.899999999999972,
                  3.9499999999999718
                ],
                "yaxis": "y",
                "type": "scatter",
                "uid": "37d79f74-bebc-4258-8198-caa87b73c07b"
              }
            ],
            "_dom_classes": [],
            "_js2py_layoutDelta": null,
            "_js2py_pointsCallback": {},
            "_js2py_relayout": {},
            "_js2py_restyle": {},
            "_js2py_traceDeltas": null,
            "_js2py_update": {},
            "_last_layout_edit_id": 0,
            "_last_trace_edit_id": 0,
            "_layout": {
              "height": 600,
              "title": {
                "text": "Line Graph"
              },
              "width": 800,
              "yaxis": {
                "range": [
                  -4,
                  3.9499999999999718
                ]
              }
            },
            "_model_module": "jupyterlab-plotly",
            "_model_module_version": "^5.15.0",
            "_model_name": "FigureModel",
            "_py2js_addTraces": {},
            "_py2js_animate": {},
            "_py2js_deleteTraces": {},
            "_py2js_moveTraces": {},
            "_py2js_relayout": null,
            "_py2js_removeLayoutProps": {},
            "_py2js_removeTraceProps": {},
            "_py2js_restyle": {},
            "_py2js_update": {},
            "_view_count": 1,
            "_view_module": "jupyterlab-plotly",
            "_view_module_version": "^5.15.0",
            "_view_name": "FigureView"
          }
        },
        "9592f3a84e174bf4a504086e03a91aa0": {
          "model_module": "@jupyter-widgets/controls",
          "model_name": "VBoxModel",
          "model_module_version": "1.5.0",
          "state": {
            "_dom_classes": [],
            "_model_module": "@jupyter-widgets/controls",
            "_model_module_version": "1.5.0",
            "_model_name": "VBoxModel",
            "_view_count": null,
            "_view_module": "@jupyter-widgets/controls",
            "_view_module_version": "1.5.0",
            "_view_name": "VBoxView",
            "box_style": "",
            "children": [
              "IPY_MODEL_4fb3c5ed38f74be08404bf8c9afa7851",
              "IPY_MODEL_0501ff5347c749a2bd01b23a992eb3d8"
            ],
            "layout": "IPY_MODEL_72a3efbfa485429b95e5f352f629a8a7"
          }
        },
        "b647c5edbe4b44c296f70fbc4d18acab": {
          "model_module": "@jupyter-widgets/base",
          "model_name": "LayoutModel",
          "model_module_version": "1.2.0",
          "state": {
            "_model_module": "@jupyter-widgets/base",
            "_model_module_version": "1.2.0",
            "_model_name": "LayoutModel",
            "_view_count": null,
            "_view_module": "@jupyter-widgets/base",
            "_view_module_version": "1.2.0",
            "_view_name": "LayoutView",
            "align_content": null,
            "align_items": null,
            "align_self": null,
            "border": null,
            "bottom": null,
            "display": null,
            "flex": null,
            "flex_flow": null,
            "grid_area": null,
            "grid_auto_columns": null,
            "grid_auto_flow": null,
            "grid_auto_rows": null,
            "grid_column": null,
            "grid_gap": null,
            "grid_row": null,
            "grid_template_areas": null,
            "grid_template_columns": null,
            "grid_template_rows": null,
            "height": null,
            "justify_content": null,
            "justify_items": null,
            "left": null,
            "margin": null,
            "max_height": null,
            "max_width": null,
            "min_height": null,
            "min_width": null,
            "object_fit": null,
            "object_position": null,
            "order": null,
            "overflow": null,
            "overflow_x": null,
            "overflow_y": null,
            "padding": null,
            "right": null,
            "top": null,
            "visibility": null,
            "width": null
          }
        },
        "4fb3c5ed38f74be08404bf8c9afa7851": {
          "model_module": "@jupyter-widgets/controls",
          "model_name": "FloatSliderModel",
          "model_module_version": "1.5.0",
          "state": {
            "_dom_classes": [],
            "_model_module": "@jupyter-widgets/controls",
            "_model_module_version": "1.5.0",
            "_model_name": "FloatSliderModel",
            "_view_count": null,
            "_view_module": "@jupyter-widgets/controls",
            "_view_module_version": "1.5.0",
            "_view_name": "FloatSliderView",
            "continuous_update": true,
            "description": "Slope m:",
            "description_tooltip": null,
            "disabled": false,
            "layout": "IPY_MODEL_b24154c05bb94abcb40c502a994ad791",
            "max": 5,
            "min": -5,
            "orientation": "horizontal",
            "readout": true,
            "readout_format": ".1f",
            "step": 0.1,
            "style": "IPY_MODEL_a87cacafc96a471284a5b250dff14827",
            "value": 1
          }
        },
        "0501ff5347c749a2bd01b23a992eb3d8": {
          "model_module": "@jupyter-widgets/controls",
          "model_name": "FloatSliderModel",
          "model_module_version": "1.5.0",
          "state": {
            "_dom_classes": [],
            "_model_module": "@jupyter-widgets/controls",
            "_model_module_version": "1.5.0",
            "_model_name": "FloatSliderModel",
            "_view_count": null,
            "_view_module": "@jupyter-widgets/controls",
            "_view_module_version": "1.5.0",
            "_view_name": "FloatSliderView",
            "continuous_update": true,
            "description": "Intercept b:",
            "description_tooltip": null,
            "disabled": false,
            "layout": "IPY_MODEL_6a086f13899642a89af9fba7046d7c3a",
            "max": 5,
            "min": -5,
            "orientation": "horizontal",
            "readout": true,
            "readout_format": ".1f",
            "step": 0.1,
            "style": "IPY_MODEL_16bbdd4c26a54e0ea00bf961b465ea7c",
            "value": 1
          }
        },
        "72a3efbfa485429b95e5f352f629a8a7": {
          "model_module": "@jupyter-widgets/base",
          "model_name": "LayoutModel",
          "model_module_version": "1.2.0",
          "state": {
            "_model_module": "@jupyter-widgets/base",
            "_model_module_version": "1.2.0",
            "_model_name": "LayoutModel",
            "_view_count": null,
            "_view_module": "@jupyter-widgets/base",
            "_view_module_version": "1.2.0",
            "_view_name": "LayoutView",
            "align_content": null,
            "align_items": null,
            "align_self": null,
            "border": null,
            "bottom": null,
            "display": null,
            "flex": null,
            "flex_flow": null,
            "grid_area": null,
            "grid_auto_columns": null,
            "grid_auto_flow": null,
            "grid_auto_rows": null,
            "grid_column": null,
            "grid_gap": null,
            "grid_row": null,
            "grid_template_areas": null,
            "grid_template_columns": null,
            "grid_template_rows": null,
            "height": null,
            "justify_content": null,
            "justify_items": null,
            "left": null,
            "margin": null,
            "max_height": null,
            "max_width": null,
            "min_height": null,
            "min_width": null,
            "object_fit": null,
            "object_position": null,
            "order": null,
            "overflow": null,
            "overflow_x": null,
            "overflow_y": null,
            "padding": null,
            "right": null,
            "top": null,
            "visibility": null,
            "width": null
          }
        },
        "b24154c05bb94abcb40c502a994ad791": {
          "model_module": "@jupyter-widgets/base",
          "model_name": "LayoutModel",
          "model_module_version": "1.2.0",
          "state": {
            "_model_module": "@jupyter-widgets/base",
            "_model_module_version": "1.2.0",
            "_model_name": "LayoutModel",
            "_view_count": null,
            "_view_module": "@jupyter-widgets/base",
            "_view_module_version": "1.2.0",
            "_view_name": "LayoutView",
            "align_content": null,
            "align_items": null,
            "align_self": null,
            "border": null,
            "bottom": null,
            "display": null,
            "flex": null,
            "flex_flow": null,
            "grid_area": null,
            "grid_auto_columns": null,
            "grid_auto_flow": null,
            "grid_auto_rows": null,
            "grid_column": null,
            "grid_gap": null,
            "grid_row": null,
            "grid_template_areas": null,
            "grid_template_columns": null,
            "grid_template_rows": null,
            "height": null,
            "justify_content": null,
            "justify_items": null,
            "left": null,
            "margin": null,
            "max_height": null,
            "max_width": null,
            "min_height": null,
            "min_width": null,
            "object_fit": null,
            "object_position": null,
            "order": null,
            "overflow": null,
            "overflow_x": null,
            "overflow_y": null,
            "padding": null,
            "right": null,
            "top": null,
            "visibility": null,
            "width": null
          }
        },
        "a87cacafc96a471284a5b250dff14827": {
          "model_module": "@jupyter-widgets/controls",
          "model_name": "SliderStyleModel",
          "model_module_version": "1.5.0",
          "state": {
            "_model_module": "@jupyter-widgets/controls",
            "_model_module_version": "1.5.0",
            "_model_name": "SliderStyleModel",
            "_view_count": null,
            "_view_module": "@jupyter-widgets/base",
            "_view_module_version": "1.2.0",
            "_view_name": "StyleView",
            "description_width": "",
            "handle_color": null
          }
        },
        "6a086f13899642a89af9fba7046d7c3a": {
          "model_module": "@jupyter-widgets/base",
          "model_name": "LayoutModel",
          "model_module_version": "1.2.0",
          "state": {
            "_model_module": "@jupyter-widgets/base",
            "_model_module_version": "1.2.0",
            "_model_name": "LayoutModel",
            "_view_count": null,
            "_view_module": "@jupyter-widgets/base",
            "_view_module_version": "1.2.0",
            "_view_name": "LayoutView",
            "align_content": null,
            "align_items": null,
            "align_self": null,
            "border": null,
            "bottom": null,
            "display": null,
            "flex": null,
            "flex_flow": null,
            "grid_area": null,
            "grid_auto_columns": null,
            "grid_auto_flow": null,
            "grid_auto_rows": null,
            "grid_column": null,
            "grid_gap": null,
            "grid_row": null,
            "grid_template_areas": null,
            "grid_template_columns": null,
            "grid_template_rows": null,
            "height": null,
            "justify_content": null,
            "justify_items": null,
            "left": null,
            "margin": null,
            "max_height": null,
            "max_width": null,
            "min_height": null,
            "min_width": null,
            "object_fit": null,
            "object_position": null,
            "order": null,
            "overflow": null,
            "overflow_x": null,
            "overflow_y": null,
            "padding": null,
            "right": null,
            "top": null,
            "visibility": null,
            "width": null
          }
        },
        "16bbdd4c26a54e0ea00bf961b465ea7c": {
          "model_module": "@jupyter-widgets/controls",
          "model_name": "SliderStyleModel",
          "model_module_version": "1.5.0",
          "state": {
            "_model_module": "@jupyter-widgets/controls",
            "_model_module_version": "1.5.0",
            "_model_name": "SliderStyleModel",
            "_view_count": null,
            "_view_module": "@jupyter-widgets/base",
            "_view_module_version": "1.2.0",
            "_view_name": "StyleView",
            "description_width": "",
            "handle_color": null
          }
        }
      }
    }
  },
  "nbformat": 4,
  "nbformat_minor": 5
}