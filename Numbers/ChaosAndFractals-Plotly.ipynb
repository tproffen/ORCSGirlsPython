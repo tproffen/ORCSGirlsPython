{
  "cells": [
    {
      "cell_type": "markdown",
      "metadata": {
        "id": "view-in-github",
        "colab_type": "text"
      },
      "source": [
        "<a href=\"https://colab.research.google.com/github/tproffen/ORCSGirlsPython/blob/master/Numbers/ChaosAndFractals-Plotly.ipynb\" target=\"_parent\"><img src=\"https://colab.research.google.com/assets/colab-badge.svg\" alt=\"Open In Colab\"/></a>"
      ]
    },
    {
      "cell_type": "markdown",
      "id": "22d1b0d3-e46c-46c7-95b7-ab811ec01214",
      "metadata": {
        "id": "22d1b0d3-e46c-46c7-95b7-ab811ec01214"
      },
      "source": [
        "# Hackathon\n",
        "##### June 17, 2023 - 4:00pm until 4:02am\n",
        "\n",
        "On June 17 four girls of the ORCSGirls Academy met at 4pm in Gather Town to embark on a journey into numbers and strange math things. Twelve hours later they emerged victoreously having conquered plotting, the logistics map, complex numbers and the Mandelbrot set."
      ]
    },
    {
      "cell_type": "code",
      "execution_count": 1,
      "id": "ae5bed58-b902-4b6f-aeda-d8176ea32fbd",
      "metadata": {
        "id": "ae5bed58-b902-4b6f-aeda-d8176ea32fbd"
      },
      "outputs": [],
      "source": [
        "import ipywidgets as widgets\n",
        "import plotly.graph_objects as go\n",
        "import numpy as np\n",
        "from PIL import Image, ImageDraw\n",
        "from IPython.display import YouTubeVideo\n",
        "\n",
        "from google.colab import output\n"
      ]
    },
    {
      "cell_type": "markdown",
      "id": "89cdca52-4d8e-4683-ba7a-510ec9ee63eb",
      "metadata": {
        "id": "89cdca52-4d8e-4683-ba7a-510ec9ee63eb"
      },
      "source": [
        "### Simple plotting\n",
        "\n",
        "First we look at `matplotlib` and how to graph data. In this notebook we use tell matplotlib to create a widget (see line `%matplotlib widget` above) for the plot which allows us to update and zoom into plots. Note this might not work on Colaboratory - here you can use `%matplotlib inline` for non interactive plots.\n",
        "\n",
        "While in other notebooks we have used `plt.plot()` to plot inline, this would add the data to the last widget. To create a new plot, we need to make a new figure as shown below."
      ]
    },
    {
      "cell_type": "code",
      "execution_count": null,
      "id": "328b58b4-5ed0-4478-9733-1e87963f1bd9",
      "metadata": {
        "id": "328b58b4-5ed0-4478-9733-1e87963f1bd9"
      },
      "outputs": [],
      "source": [
        "data=go.Scatter(x=[3,2,1.5,2.2,3.21,-2], name='Some data')"
      ]
    },
    {
      "cell_type": "code",
      "source": [
        "output.enable_custom_widget_manager()\n",
        "g = go.FigureWidget(data=[data])"
      ],
      "metadata": {
        "id": "c67c2X4C-GHh"
      },
      "id": "c67c2X4C-GHh",
      "execution_count": null,
      "outputs": []
    },
    {
      "cell_type": "code",
      "source": [
        "display(g)"
      ],
      "metadata": {
        "colab": {
          "base_uri": "https://localhost:8080/",
          "height": 377,
          "referenced_widgets": [
            "3d9a7467a9864b37b6a59ced7ebdc3c8"
          ]
        },
        "id": "g8Ytivon_dg0",
        "outputId": "809a1ff2-94ab-431f-ce7a-4ee9e9467b2a"
      },
      "id": "g8Ytivon_dg0",
      "execution_count": null,
      "outputs": [
        {
          "output_type": "display_data",
          "data": {
            "application/vnd.jupyter.widget-view+json": {
              "version_major": 2,
              "version_minor": 0,
              "model_id": "3d9a7467a9864b37b6a59ced7ebdc3c8"
            },
            "text/plain": [
              "FigureWidget({\n",
              "    'data': [{'name': 'Some data',\n",
              "              'type': 'scatter',\n",
              "              'uid': 'b3fa6e95-5177-4e4e-84bd-ec5c87fd88e6',\n",
              "              'x': [3, 2, 0, 2.2, 3.21, -2]}],\n",
              "    'layout': {'autosize': True, 'template': '...'}\n",
              "})"
            ]
          },
          "metadata": {
            "application/vnd.jupyter.widget-view+json": {
              "colab": {
                "custom_widget_manager": {
                  "url": "https://ssl.gstatic.com/colaboratory-static/widgets/colab-cdn-widget-manager/b3e629b1971e1542/manager.min.js"
                }
              }
            }
          }
        }
      ]
    },
    {
      "cell_type": "code",
      "source": [
        "with g.batch_update():\n",
        "  g.data[0].x = [3,2,0,2.2,7,-2]"
      ],
      "metadata": {
        "id": "EIZi7dY8AO9N"
      },
      "id": "EIZi7dY8AO9N",
      "execution_count": 35,
      "outputs": []
    },
    {
      "cell_type": "markdown",
      "id": "5d2925f0-c24d-4ca4-908c-d25d620af472",
      "metadata": {
        "id": "5d2925f0-c24d-4ca4-908c-d25d620af472"
      },
      "source": [
        "One of the fun things we can do is to add more interactivity to the plot, e.g. using sliders for the slope and imtercept in an equation $y=mx+b$ for a line. See below."
      ]
    },
    {
      "cell_type": "code",
      "execution_count": 2,
      "id": "dd33b5f5-30e7-4080-b78a-72b1c348b396",
      "metadata": {
        "id": "dd33b5f5-30e7-4080-b78a-72b1c348b396"
      },
      "outputs": [],
      "source": [
        "def line(m,b):\n",
        "    xvals=[]                        # Empty list for x values\n",
        "    yvals=[]                        # Empty list for y values\n",
        "    for x in np.arange(-4,4,0.05):  # Loop from -4 to 4 in steps of 0.05\n",
        "        xvals.append(x)             # Add x vlaue to the list\n",
        "        yvals.append(m*x+b)         # Calculate y and add to the list\n",
        "    return xvals, yvals             # return both lists"
      ]
    },
    {
      "cell_type": "markdown",
      "id": "6deb7f7c-a1cf-49e4-866d-aad6739a7982",
      "metadata": {
        "id": "6deb7f7c-a1cf-49e4-866d-aad6739a7982"
      },
      "source": [
        "Now we use that function to calculate the points and call it everytime the slider is moved. The code below will create sliders for $m$ and $b$ and allow the plot to be changed interactively :)"
      ]
    },
    {
      "cell_type": "code",
      "execution_count": 28,
      "id": "c7858283-4493-4e95-baf8-1efa726fbf99",
      "metadata": {
        "id": "c7858283-4493-4e95-baf8-1efa726fbf99",
        "colab": {
          "base_uri": "https://localhost:8080/",
          "height": 649,
          "referenced_widgets": [
            "bd2dc8d2b6b9404084f0f9a5eb1d3480",
            "cc51faa21d25449ab53edf7cb5a99c41",
            "c629d12c848b4a10ad50aa6296d98fd2",
            "30063ff8426a4555a9b947b7ae630896",
            "f512bb90af04424397470a2b72b02f1b",
            "7efa5351f13a40c8aeb7bc511c4156f7",
            "2b2763fe11b84a99ae1c872671ac878c",
            "8379f2bb01604121aa5cddd5f10c639e",
            "ffbfbf9b93ba47a4bb3dfce5a916409b",
            "eb63458b85934d83b77bd7d420872181",
            "de63e2d9d51447b092725b7989f57d72"
          ]
        },
        "outputId": "47410ccb-a6c3-4edc-a612-791d64da27f4"
      },
      "outputs": [
        {
          "output_type": "display_data",
          "data": {
            "text/plain": [
              "VBox(children=(HBox(children=(FloatSlider(value=1.0, description='Slope m:', max=5.0, min=-5.0, readout_format…"
            ],
            "application/vnd.jupyter.widget-view+json": {
              "version_major": 2,
              "version_minor": 0,
              "model_id": "bd2dc8d2b6b9404084f0f9a5eb1d3480"
            }
          },
          "metadata": {
            "application/vnd.jupyter.widget-view+json": {
              "colab": {
                "custom_widget_manager": {
                  "url": "https://ssl.gstatic.com/colaboratory-static/widgets/colab-cdn-widget-manager/b3e629b1971e1542/manager.min.js"
                }
              }
            }
          }
        }
      ],
      "source": [
        "(x,y) = line(1,0)  # Initial line\n",
        "\n",
        "# Making the graph\n",
        "layout = go.Layout(title='Line Graph', yaxis_range=[-10,10], width=800, height=600)\n",
        "data = go.Scatter(x=x, y=y, mode=\"lines\", name='Line', xaxis='x', yaxis='y')\n",
        "output.enable_custom_widget_manager()\n",
        "graph = go.FigureWidget(data=[data], layout=layout)\n",
        "\n",
        "# update routine\n",
        "def update(change):\n",
        "    (graph.data[0].x, graph.data[0].y) = line(mSlider.value, bSlider.value)\n",
        "\n",
        "# Making the sliders\n",
        "mSlider = widgets.FloatSlider(value=1.0, min=-5, max=5.0, step=0.1, description='Slope m:', continuous_update=True, readout=True, readout_format='.1f')\n",
        "bSlider = widgets.FloatSlider(value=1.0, min=-5, max=5.0, step=0.1, description='Intercept b:', continuous_update=True, readout=True, readout_format='.1f')\n",
        "mSlider.observe(update, names='value')\n",
        "bSlider.observe(update, names='value')\n",
        "sliders = widgets.HBox([mSlider,bSlider], layout=widgets.Layout(border='solid 2px #fff'))\n",
        "display(widgets.VBox([sliders,graph]))\n"
      ]
    },
    {
      "cell_type": "markdown",
      "id": "0f1fda63-f15b-41ad-869c-b7b232e42710",
      "metadata": {
        "id": "0f1fda63-f15b-41ad-869c-b7b232e42710"
      },
      "source": [
        "# Now the fun - the Logistic Map\n",
        "\n",
        "Before we start coding this ourselves, here is a video that gives a good introduction on the equation and the many ways we encouter this."
      ]
    },
    {
      "cell_type": "code",
      "execution_count": null,
      "id": "3feb0dd6-c89a-4bba-bc01-22629f03913a",
      "metadata": {
        "id": "3feb0dd6-c89a-4bba-bc01-22629f03913a"
      },
      "outputs": [],
      "source": [
        "YouTubeVideo(\"ovJcsL7vyrk\", width=600)"
      ]
    },
    {
      "cell_type": "markdown",
      "id": "a52ca06b-f51f-4c33-a49e-238290c08f6a",
      "metadata": {
        "id": "a52ca06b-f51f-4c33-a49e-238290c08f6a"
      },
      "source": [
        "#### Here is the equation: $x_{n+1} = r x_{n}(1 - x_{n})$\n",
        "\n",
        "Following the notation in the norebook, $r$ is the growth rate and $x$ is population. This is not the actual number, but the fraction of the maximum possible population, so it ranges from 0 to 1."
      ]
    },
    {
      "cell_type": "markdown",
      "id": "91db613b-5d53-468c-a0d3-7e31b267bc98",
      "metadata": {
        "id": "91db613b-5d53-468c-a0d3-7e31b267bc98"
      },
      "source": [
        "#### Step 1: Visualize the function\n",
        "\n",
        "Let's define a function `growth` and plot how the population next year depends on the population this year;"
      ]
    },
    {
      "cell_type": "code",
      "execution_count": null,
      "id": "6286097e-3ca8-4995-8962-92e401b39c13",
      "metadata": {
        "id": "6286097e-3ca8-4995-8962-92e401b39c13"
      },
      "outputs": [],
      "source": [
        "def growth(x,r):\n",
        "    return r*x*(1-x)"
      ]
    },
    {
      "cell_type": "code",
      "execution_count": null,
      "id": "69080ecc-7bb9-4ac8-a306-fccaf197f286",
      "metadata": {
        "id": "69080ecc-7bb9-4ac8-a306-fccaf197f286"
      },
      "outputs": [],
      "source": [
        "r = 2.0   # Growth rate of 2\n",
        "x = 0.4   # Initial population 40% (or 0.4) of the possible maximum\n",
        "\n",
        "xpts = np.arange(0.0,1.1,0.1)           # Values for x from 0 to 1 (note the 1.1)\n",
        "ypts = [growth(x,r) for x in xpts]      # One line loop to calculate all the y's\n",
        "\n",
        "fig, ax = plt.subplots(figsize=(6,4))   # Making the new plot\n",
        "plt.xlabel('x_n')\n",
        "plt.ylabel('x_n+1')\n",
        "\n",
        "ax.plot(xpts,ypts)"
      ]
    },
    {
      "cell_type": "markdown",
      "id": "a32d5ed5-4838-4c98-983c-f607c77a6838",
      "metadata": {
        "id": "a32d5ed5-4838-4c98-983c-f607c77a6838"
      },
      "source": [
        "Woohoo, just like in the video. He have a 'single hump function' with a negative feedback, meaning when the population gets too big the dowturn of the parabula will reduce the population as you can see on the graph."
      ]
    },
    {
      "cell_type": "markdown",
      "id": "80d351f2-0432-4789-a3b2-67ec08c1003a",
      "metadata": {
        "id": "80d351f2-0432-4789-a3b2-67ec08c1003a"
      },
      "source": [
        "#### Step 2: Behaviour as time goes on\n",
        "\n",
        "We are most interested in the long term behaviour of the function as we repeatley call it. In other words what happens to the population after a long time. In the function below we calculate the value of $x_{n} = r x_{n-1}(1 - x_{n-1})$ for all $n$. Note that we have rewritten this so the value we calculate os $n$ and it depends on the earlier value $n-1$ which is how we implement it by using the list element `[-1]`."
      ]
    },
    {
      "cell_type": "code",
      "execution_count": null,
      "id": "d8d5dde3-86af-4168-9c6e-56b595eb9685",
      "metadata": {
        "id": "d8d5dde3-86af-4168-9c6e-56b595eb9685"
      },
      "outputs": [],
      "source": [
        "def growthtime(x0,r,nmax):\n",
        "    vals=[x0]                                  # First element is the initial pop.\n",
        "    for i in range(nmax-1):                    # Loop to the maximum number nmax we want.\n",
        "                                               #   the -1 is because we already added x0\n",
        "        vals.append(r*vals[-1]*(1-vals[-1]))   # Append the calculated vale\n",
        "    return vals                                # Return all values"
      ]
    },
    {
      "cell_type": "code",
      "execution_count": null,
      "id": "4d516a6a-3f1b-4b6f-bfb5-97196980e373",
      "metadata": {
        "id": "4d516a6a-3f1b-4b6f-bfb5-97196980e373"
      },
      "outputs": [],
      "source": [
        "fig, ax = plt.subplots(figsize=(6,4))\n",
        "plt.xlabel('Time')\n",
        "plt.ylabel('Population')\n",
        "\n",
        "@widgets.interact(x0=(0.1,0.9,0.1),r=(0.5,4.0,0.01))\n",
        "def update(x0=0.4, r=1.2):\n",
        "    [l.remove() for l in ax.lines]\n",
        "    ax.plot(growthtime(x0,r,100), color=\"blue\", marker='o')    # Adding some markers"
      ]
    },
    {
      "cell_type": "markdown",
      "id": "ba907da3-942d-42de-8f6a-d5c9d981df9a",
      "metadata": {
        "id": "ba907da3-942d-42de-8f6a-d5c9d981df9a"
      },
      "source": [
        "Explore how the function depends on `x0` and `r`. Anything spooky 😨"
      ]
    },
    {
      "cell_type": "markdown",
      "id": "4e8f5a38-1b92-43ec-a1fa-bf825d26e942",
      "metadata": {
        "id": "4e8f5a38-1b92-43ec-a1fa-bf825d26e942"
      },
      "source": [
        "#### Step 3: Exploring as function of growth rate $r$\n",
        "\n",
        "You might have seen strange behaviour for certain values of $r$, so next we explore the resulting populations after some time. Because there are multiple values the function oscillates around, we simply loop ofer $r$ and then plot the last `nplot` points ion a scatter plot."
      ]
    },
    {
      "cell_type": "code",
      "execution_count": null,
      "id": "662c6100-b787-4613-86a0-a603a11164bb",
      "metadata": {
        "id": "662c6100-b787-4613-86a0-a603a11164bb"
      },
      "outputs": [],
      "source": [
        "x0 = 0.4         # Starting population\n",
        "nmax  = 300      # Maximum value of n for calculate\n",
        "nplot = 150      # First point to plot, so we plot nplot:nmax\n",
        "\n",
        "rvals=[]         # List for values of r\n",
        "lvals=[]         # List for resulting values of x (there will be nmax values for each r)\n",
        "\n",
        "for r in np.arange(0.9,4.0,0.001):              # Loop over r - note the fine grid\n",
        "    lvals.append(growthtime(x0,r,nmax)[nplot:]) # Getting list of x starting at nplot\n",
        "    rvals.append([r]*(nmax-nplot))              # We need the same number of r's so\n",
        "                                                # lists are the same length\n",
        "\n",
        "# Now we need to turn the list of lists into one contineous list for plotting\n",
        "lvals = np.array(lvals).ravel()\n",
        "rvals = np.array(rvals).ravel()"
      ]
    },
    {
      "cell_type": "markdown",
      "id": "8835e382-3c76-40eb-a898-0fe30711fdca",
      "metadata": {
        "id": "8835e382-3c76-40eb-a898-0fe30711fdca"
      },
      "source": [
        "All that is left is to plot. Adjust marker size and color below. Also explore changing nmax, nplot and the step size in r. Enjoy."
      ]
    },
    {
      "cell_type": "code",
      "execution_count": null,
      "id": "153c32a6-1064-4843-a1c5-81fe454fcaaa",
      "metadata": {
        "id": "153c32a6-1064-4843-a1c5-81fe454fcaaa"
      },
      "outputs": [],
      "source": [
        "fig, ax = plt.subplots(figsize=(6,4))\n",
        "plt.scatter(rvals,lvals,s=0.02,color='purple')"
      ]
    },
    {
      "cell_type": "markdown",
      "id": "cecf7fce-3d0e-4043-a65a-6a1247b9c45a",
      "metadata": {
        "id": "cecf7fce-3d0e-4043-a65a-6a1247b9c45a"
      },
      "source": [
        "# Mandelbrot Set\n",
        "\n",
        "Here is part two. The equation to generate the well known Mandelbrot set is simply $z_{n+1}=z_{n}^2 + c$ where $c$ is a complex number. Complex numbers have a real and imaginary part and can be visualised in 2D - think of the real and imaginary parts as x and y. These numbers solve the issue with square roots of negative numbers by defining $i=sqrt(-1)$ and a complex number is simply $a+ib$. Here $a$ is the real part and $b$ the imaginary one.\n",
        "\n",
        "In Python we can create complex numbers with `c = complex(a,b)`."
      ]
    },
    {
      "cell_type": "markdown",
      "id": "9588a933-ce16-4ebc-9983-19e2c259cff2",
      "metadata": {
        "id": "9588a933-ce16-4ebc-9983-19e2c259cff2"
      },
      "source": [
        "#### Understanding the equation\n",
        "\n",
        "Here is the equation again: $z_{n+1}=z_{n}^2 + c$. To see of a point $c$ in the colplex plain belongs to the Mandelbrot set, we iterate over the equation - measning we start with z=0 and plug it in to calculate the next z. Then we plug that one in to calculate the next and so on. If z stays a finite number even after infinite iterations, that point c we used is part of the set, otherwise it is not.\n",
        "\n",
        "#### Creating a grey scale version\n",
        "\n",
        "Let's define a function `mandelbrot`. We pass c to it and then keep evaluating the equation as long as the value of z stays below 2 (we picked that somewhat randomly) AND the number of iterations is still below the maximum.\n",
        "\n",
        "So if the returned number of iterations is nmax, we know the value did not exceed 2, so the point c is part of the set. If n is less that nmax, the loop ended because the value was exceeding 2, so the point c is NOT part of the Mandelbrot set."
      ]
    },
    {
      "cell_type": "code",
      "execution_count": null,
      "id": "6096f919-0a2a-4e33-b2a6-ce09bcf9d849",
      "metadata": {
        "id": "6096f919-0a2a-4e33-b2a6-ce09bcf9d849"
      },
      "outputs": [],
      "source": [
        "nmax = 100\n",
        "\n",
        "def mandelbrot(c):\n",
        "    z=0\n",
        "    n=0\n",
        "    while abs(z)<= 2 and n < nmax:\n",
        "        z = z*z + c\n",
        "        n = n + 1\n",
        "\n",
        "    return n"
      ]
    },
    {
      "cell_type": "markdown",
      "id": "035508d4-b3e6-4583-88e7-c57de0cad7b2",
      "metadata": {
        "id": "035508d4-b3e6-4583-88e7-c57de0cad7b2"
      },
      "source": [
        "Now to make the beautiful images, we need to loop over x,y pixels of an image, convert the x,y to the values of the complex c and call the mandelbrot function. We then use the returned number of iterations n to set the color of the pixel."
      ]
    },
    {
      "cell_type": "code",
      "execution_count": null,
      "id": "91d0ccee-369d-4f69-aca0-c4af77b2d92b",
      "metadata": {
        "id": "91d0ccee-369d-4f69-aca0-c4af77b2d92b"
      },
      "outputs": [],
      "source": [
        "# Desired image size\n",
        "width = 1000\n",
        "height = 666\n",
        "\n",
        "# The range in the complex plane to map onto the image\n",
        "re_start = -2.0\n",
        "re_end = 1.0\n",
        "im_start = -1.0\n",
        "im_end = 1.0\n",
        "\n",
        "# Creating an empty image\n",
        "im = Image.new('RGB', (width, height), (0,0,0))\n",
        "draw = ImageDraw.Draw(im)\n",
        "\n",
        "# Loop over all pixels\n",
        "for x in range(width):\n",
        "    for y in range(height):\n",
        "        c = complex(re_start + (float(x) / width) * (re_end - re_start),   # Convert x,y to c\n",
        "                    im_start + (float(y) / height) * (im_end - im_start))\n",
        "        n = mandelbrot(c)\n",
        "        color = int(n / nmax * 255)              # scaling the n to the range 0 to 255\n",
        "        draw.point([x,y],(color,color,color))    # Using the value for r,g,b for greyscale\n",
        "\n",
        "im   # show the image"
      ]
    },
    {
      "cell_type": "markdown",
      "id": "d46bea5e-5df0-478f-b12e-db2f2d749480",
      "metadata": {
        "id": "d46bea5e-5df0-478f-b12e-db2f2d749480"
      },
      "source": [
        "#### Using colors\n",
        "\n",
        "Above we used the value n to create a grey scale images using the color (n,n,n). It would be easy to make it other colors e.g. red by using (n,0,0) in the `draw.Point` command. To have colors changing as function of n, we can desacribe the colors as hue, saturation and value (color wheel) and use n to select the hue. Additionally we need to set the brightness to 0 is the point is part of the Mandelbrot set, so it is black. The code is very similar to before, just the assignment of color is different."
      ]
    },
    {
      "cell_type": "code",
      "execution_count": null,
      "id": "562c832b-f4e6-4a22-b0b4-de1c879289ff",
      "metadata": {
        "id": "562c832b-f4e6-4a22-b0b4-de1c879289ff"
      },
      "outputs": [],
      "source": [
        "# Desired image size\n",
        "width = 1000\n",
        "height = 666\n",
        "\n",
        "# The range in the complex plane to map onto the image\n",
        "re_start = -2.0\n",
        "re_end = 1.0\n",
        "im_start = -1.0\n",
        "im_end = 1.0\n",
        "\n",
        "# Creating an empty image\n",
        "im = Image.new('HSV', (width, height), (0,0,0))\n",
        "draw = ImageDraw.Draw(im)\n",
        "\n",
        "for x in range(width):\n",
        "    for y in range(height):\n",
        "        c = complex(re_start + (float(x) / width) * (re_end - re_start),\n",
        "                    im_start + (float(y) / height) * (im_end - im_start))\n",
        "        n = mandelbrot(c)\n",
        "        hue = int(n / nmax * 255)\n",
        "        value = 255 if n < nmax else 0    # Here we make the point of the set black\n",
        "        saturation = 255\n",
        "        draw.point([x,y],(hue,saturation,value))\n",
        "\n",
        "im=im.convert('RGB')   # We need to convert to RGB, so we can display it in the notebook\n",
        "im"
      ]
    },
    {
      "cell_type": "markdown",
      "id": "791a4c7b-b8f0-4795-b2ca-eeb410176f4f",
      "metadata": {
        "id": "791a4c7b-b8f0-4795-b2ca-eeb410176f4f"
      },
      "source": [
        "Time to save the image :)"
      ]
    },
    {
      "cell_type": "code",
      "execution_count": null,
      "id": "c92b7195-3a80-449f-9226-0c25d1a1c674",
      "metadata": {
        "id": "c92b7195-3a80-449f-9226-0c25d1a1c674"
      },
      "outputs": [],
      "source": [
        "im.save('Beauty.png')"
      ]
    },
    {
      "cell_type": "markdown",
      "id": "fa0ed266-db32-4686-a14c-3f32b4dcc3c8",
      "metadata": {
        "id": "fa0ed266-db32-4686-a14c-3f32b4dcc3c8"
      },
      "source": [
        "#### Saving using a colormap\n",
        "\n",
        "In this case we create a grey scale image with just one number (0 to 255) per pixel. We can then use colormaps to translate the value to qa color when plotting.\n",
        "\n",
        "Colormaps to try are: `'Accent', 'Accent_r', 'Blues', 'Blues_r', 'BrBG', 'BrBG_r', 'BuGn', 'BuGn_r', 'BuPu', 'BuPu_r', 'CMRmap', 'CMRmap_r', 'Dark2', 'Dark2_r', 'GnBu', 'GnBu_r', 'Greens', 'Greens_r', 'Greys', 'Greys_r', 'OrRd', 'OrRd_r', 'Oranges', 'Oranges_r', 'PRGn', 'PRGn_r', 'Paired', 'Paired_r', 'Pastel1', 'Pastel1_r', 'Pastel2', 'Pastel2_r', 'PiYG', 'PiYG_r', 'PuBu', 'PuBuGn', 'PuBuGn_r', 'PuBu_r', 'PuOr', 'PuOr_r', 'PuRd', 'PuRd_r', 'Purples', 'Purples_r', 'RdBu', 'RdBu_r', 'RdGy', 'RdGy_r', 'RdPu', 'RdPu_r', 'RdYlBu', 'RdYlBu_r', 'RdYlGn', 'RdYlGn_r', 'Reds', 'Reds_r', 'Set1', 'Set1_r', 'Set2', 'Set2_r', 'Set3', 'Set3_r', 'Spectral', 'Spectral_r', 'Wistia', 'Wistia_r', 'YlGn', 'YlGnBu', 'YlGnBu_r', 'YlGn_r', 'YlOrBr', 'YlOrBr_r', 'YlOrRd', 'YlOrRd_r', 'afmhot', 'afmhot_r', 'autumn', 'autumn_r', 'binary', 'binary_r', 'bone', 'bone_r', 'brg', 'brg_r', 'bwr', 'bwr_r', 'cividis', 'cividis_r', 'cool', 'cool_r', 'coolwarm', 'coolwarm_r', 'copper', 'copper_r', 'cubehelix', 'cubehelix_r', 'flag', 'flag_r', 'gist_earth', 'gist_earth_r', 'gist_gray', 'gist_gray_r', 'gist_heat', 'gist_heat_r', 'gist_ncar', 'gist_ncar_r', 'gist_rainbow', 'gist_rainbow_r', 'gist_stern', 'gist_stern_r', 'gist_yarg', 'gist_yarg_r', 'gnuplot', 'gnuplot2', 'gnuplot2_r', 'gnuplot_r', 'gray', 'gray_r', 'hot', 'hot_r', 'hsv', 'hsv_r', 'inferno', 'inferno_r', 'jet', 'jet_r', 'magma', 'magma_r', 'nipy_spectral', 'nipy_spectral_r', 'ocean', 'ocean_r', 'pink', 'pink_r', 'plasma', 'plasma_r', 'prism', 'prism_r', 'rainbow', 'rainbow_r', 'seismic', 'seismic_r', 'spring', 'spring_r', 'summer', 'summer_r', 'tab10', 'tab10_r', 'tab20', 'tab20_r', 'tab20b', 'tab20b_r', 'tab20c', 'tab20c_r', 'terrain', 'terrain_r', 'turbo', 'turbo_r', 'twilight', 'twilight_r', 'twilight_shifted', 'twilight_shifted_r', 'viridis', 'viridis_r', 'winter', 'winter_r'`\n",
        "\n",
        "Most of the code is the same,except the type of image and the way we plot it."
      ]
    },
    {
      "cell_type": "code",
      "execution_count": null,
      "id": "87eac529-bb4c-432d-9c01-5d5a157c4bda",
      "metadata": {
        "id": "87eac529-bb4c-432d-9c01-5d5a157c4bda"
      },
      "outputs": [],
      "source": [
        "# Desired image size\n",
        "width = 1000\n",
        "height = 666\n",
        "\n",
        "# The range in the complex plane to map onto the image\n",
        "re_start = -2.0\n",
        "re_end = 1.0\n",
        "im_start = -1.0\n",
        "im_end = 1.0\n",
        "\n",
        "# Creating an empty image\n",
        "im = Image.new('L', (width, height), 0)\n",
        "draw = ImageDraw.Draw(im)\n",
        "\n",
        "for x in range(width):\n",
        "    for y in range(height):\n",
        "        c = complex(re_start + (float(x) / width) * (re_end - re_start),\n",
        "                    im_start + (float(y) / height) * (im_end - im_start))\n",
        "        n = mandelbrot(c)\n",
        "        value = int(n / nmax * 255)\n",
        "        draw.point([x,y],value)"
      ]
    },
    {
      "cell_type": "markdown",
      "id": "f191e90b-2598-45f6-adc7-689d59ddf012",
      "metadata": {
        "id": "f191e90b-2598-45f6-adc7-689d59ddf012"
      },
      "source": [
        "Note that we are using matplotlib to show the image now and get coordinate axes. We can specify the ranges for x and y as argument, so the coordinates are now the complex values rather than the pixel values."
      ]
    },
    {
      "cell_type": "code",
      "execution_count": null,
      "id": "92549549-60c7-4d7e-a623-41771715604d",
      "metadata": {
        "id": "92549549-60c7-4d7e-a623-41771715604d"
      },
      "outputs": [],
      "source": [
        "colormap = 'viridis'\n",
        "\n",
        "fig, ax = plt.subplots(figsize=(6,4))\n",
        "plt.xlabel('Real')\n",
        "plt.ylabel('Imaginary')\n",
        "\n",
        "ax.imshow(im, cmap=colormap, extent=[re_start,re_end,im_start,im_end])"
      ]
    },
    {
      "cell_type": "markdown",
      "id": "6bb0c6a6-9d3a-4cc6-bb89-cd827d2ab0a0",
      "metadata": {
        "id": "6bb0c6a6-9d3a-4cc6-bb89-cd827d2ab0a0"
      },
      "source": [
        "Because we want to save the figure now and not just the image, the save command looks different."
      ]
    },
    {
      "cell_type": "code",
      "execution_count": null,
      "id": "13776362-1e0f-40b8-997a-ac576f6609d8",
      "metadata": {
        "id": "13776362-1e0f-40b8-997a-ac576f6609d8"
      },
      "outputs": [],
      "source": [
        "plt.savefig(\"Pretty.png\")"
      ]
    },
    {
      "cell_type": "markdown",
      "id": "a312ee37-ec81-4071-aefd-44751ae7bc66",
      "metadata": {
        "id": "a312ee37-ec81-4071-aefd-44751ae7bc66"
      },
      "source": [
        "#### Animation\n",
        "\n",
        "Now we need to create a sequence of images we can then run as an animation zooming into an area. First let's just repeat the fucntion here, so we do not need to scroll when wanting to check things 😎"
      ]
    },
    {
      "cell_type": "code",
      "execution_count": null,
      "id": "35303d82-d66c-45de-8ffb-8ff4f96f29c0",
      "metadata": {
        "id": "35303d82-d66c-45de-8ffb-8ff4f96f29c0"
      },
      "outputs": [],
      "source": [
        "nmax = 100\n",
        "\n",
        "def mandelbrot(c):\n",
        "    z=0\n",
        "    n=0\n",
        "    while abs(z)<= 2 and n < nmax:\n",
        "        z = z*z + c\n",
        "        n = n + 1\n",
        "\n",
        "    return n"
      ]
    },
    {
      "cell_type": "markdown",
      "id": "420376a7-be27-47fd-8b2f-fb5e60b110da",
      "metadata": {
        "id": "420376a7-be27-47fd-8b2f-fb5e60b110da"
      },
      "source": [
        "Now we need a function that creates the image. This is the same code as before just added to a function and we can pass the area in the complex plan we want to calculate."
      ]
    },
    {
      "cell_type": "code",
      "execution_count": null,
      "id": "cbc26676-b326-473b-90f2-3f62e9c1fe59",
      "metadata": {
        "id": "cbc26676-b326-473b-90f2-3f62e9c1fe59"
      },
      "outputs": [],
      "source": [
        "def mandelbrotImage(re_start,re_end,im_start,im_end,width,height):\n",
        "    # Creating an empty image\n",
        "    im = Image.new('L', (width, height))\n",
        "    draw = ImageDraw.Draw(im)\n",
        "\n",
        "    for x in range(width):\n",
        "        for y in range(height):\n",
        "            c = complex(re_start + (float(x) / width) * (re_end - re_start),\n",
        "                        im_start + (float(y) / height) * (im_end - im_start))\n",
        "            n = mandelbrot(c)\n",
        "            value = int(n / nmax * 255)\n",
        "            draw.point([x,y],value)\n",
        "\n",
        "    return im"
      ]
    },
    {
      "cell_type": "markdown",
      "id": "110ad0e8-78d9-441f-8c07-d3088e08835c",
      "metadata": {
        "id": "110ad0e8-78d9-441f-8c07-d3088e08835c"
      },
      "source": [
        "Next we need to create the frames for the animation. Here we pick a center spot and then zoom in by shrinking the ranges in x and y. We store the images in a list."
      ]
    },
    {
      "cell_type": "code",
      "execution_count": null,
      "id": "eb69dfc3-b089-453f-922b-86c48f50c51c",
      "metadata": {
        "id": "eb69dfc3-b089-453f-922b-86c48f50c51c"
      },
      "outputs": [],
      "source": [
        "# Desired image size\n",
        "width = 600\n",
        "height = 400\n",
        "\n",
        "# Zoom factor\n",
        "zoom = 0.8\n",
        "\n",
        "# Number of frames (caution this gets slow)\n",
        "nframes = 25\n",
        "\n",
        "# Center for Zoom\n",
        "re_center = -0.778\n",
        "im_center = 0.125\n",
        "\n",
        "re_start = re_center - 1.5\n",
        "re_end = re_center + 1.5\n",
        "im_start = im_center - 1.0\n",
        "im_end = im_center + 1.0\n",
        "\n",
        "# Empty list to store images\n",
        "images=[]\n",
        "\n",
        "for i in range(nframes):\n",
        "    images.append(mandelbrotImage(re_start,re_end,im_start,im_end,width,height))\n",
        "    print(f\"Number {i} - Finished range {re_start:.5f}, {re_end:.5f} to {im_start:.5f}, {im_end:.5f}\")\n",
        "\n",
        "    re_range = 0.5 * abs(re_end - re_start)\n",
        "    im_range = 0.5 * abs(im_end - im_start)\n",
        "\n",
        "    re_start = re_center - zoom * re_range\n",
        "    re_end   = re_center + zoom * re_range\n",
        "    im_start = im_center - zoom * im_range\n",
        "    im_end   = im_center + zoom * im_range"
      ]
    },
    {
      "cell_type": "markdown",
      "id": "44ee0858-31cd-4a32-a0fe-e755cbd4c7b1",
      "metadata": {
        "id": "44ee0858-31cd-4a32-a0fe-e755cbd4c7b1"
      },
      "source": [
        "Now we turn the images into frames and assemble the animation."
      ]
    },
    {
      "cell_type": "code",
      "execution_count": null,
      "id": "77a5071f-cff4-4344-9894-08ccc4a7dc66",
      "metadata": {
        "id": "77a5071f-cff4-4344-9894-08ccc4a7dc66"
      },
      "outputs": [],
      "source": [
        "plt.close() # Cleaning up\n",
        "\n",
        "frames = [] # for storing the generated images\n",
        "fig, ax = plt.subplots(figsize=(6,4))\n",
        "\n",
        "# Hide X and Y axes label marks\n",
        "ax.xaxis.set_tick_params(labelbottom=False)\n",
        "ax.yaxis.set_tick_params(labelleft=False)\n",
        "\n",
        "# Hide X and Y axes tick marks\n",
        "ax.set_xticks([])\n",
        "ax.set_yticks([])\n",
        "\n",
        "# Now loop over images to create the frames\n",
        "for im in images:\n",
        "    frames.append([plt.imshow(im, animated=True, cmap=colormap)])\n",
        "\n",
        "ani = animation.ArtistAnimation(fig, frames, interval=500, blit=False, repeat_delay=0)\n",
        "plt.show()\n",
        "\n",
        "@widgets.interact(run=True)\n",
        "def update(run):\n",
        "    ani.pause() if not run else ani.resume()"
      ]
    },
    {
      "cell_type": "markdown",
      "id": "43591985-8068-48c2-ac93-f800911f1cb4",
      "metadata": {
        "id": "43591985-8068-48c2-ac93-f800911f1cb4"
      },
      "source": [
        "ALl we have to do is save this wonderful movie ✨"
      ]
    },
    {
      "cell_type": "code",
      "execution_count": null,
      "id": "21f21947-31f0-47cf-b93a-c6ae8656b77a",
      "metadata": {
        "id": "21f21947-31f0-47cf-b93a-c6ae8656b77a"
      },
      "outputs": [],
      "source": [
        "ani.save('mandelbrot.mp4')"
      ]
    },
    {
      "cell_type": "code",
      "execution_count": null,
      "id": "27128d2e-4cbe-4f12-b9f0-e91d71b316b1",
      "metadata": {
        "id": "27128d2e-4cbe-4f12-b9f0-e91d71b316b1"
      },
      "outputs": [],
      "source": []
    }
  ],
  "metadata": {
    "kernelspec": {
      "display_name": "Python 3 (ipykernel)",
      "language": "python",
      "name": "python3"
    },
    "language_info": {
      "codemirror_mode": {
        "name": "ipython",
        "version": 3
      },
      "file_extension": ".py",
      "mimetype": "text/x-python",
      "name": "python",
      "nbconvert_exporter": "python",
      "pygments_lexer": "ipython3",
      "version": "3.9.7"
    },
    "colab": {
      "provenance": [],
      "include_colab_link": true
    },
    "widgets": {
      "application/vnd.jupyter.widget-state+json": {
        "3d9a7467a9864b37b6a59ced7ebdc3c8": {
          "model_module": "jupyterlab-plotly",
          "model_name": "FigureModel",
          "model_module_version": "^5.15.0",
          "state": {
            "_config": {
              "plotlyServerURL": "https://plot.ly"
            },
            "_data": [
              {
                "name": "Some data",
                "x": [
                  3,
                  2,
                  1.5,
                  2.2,
                  3.21,
                  -2
                ],
                "type": "scatter",
                "uid": "b3fa6e95-5177-4e4e-84bd-ec5c87fd88e6"
              }
            ],
            "_dom_classes": [],
            "_js2py_layoutDelta": null,
            "_js2py_pointsCallback": {},
            "_js2py_relayout": null,
            "_js2py_restyle": {},
            "_js2py_traceDeltas": null,
            "_js2py_update": {},
            "_last_layout_edit_id": 4,
            "_last_trace_edit_id": 2,
            "_layout": {},
            "_model_module": "jupyterlab-plotly",
            "_model_module_version": "^5.15.0",
            "_model_name": "FigureModel",
            "_py2js_addTraces": {},
            "_py2js_animate": {},
            "_py2js_deleteTraces": {},
            "_py2js_moveTraces": {},
            "_py2js_relayout": null,
            "_py2js_removeLayoutProps": null,
            "_py2js_removeTraceProps": {},
            "_py2js_restyle": {},
            "_py2js_update": null,
            "_view_count": 2,
            "_view_module": "jupyterlab-plotly",
            "_view_module_version": "^5.15.0",
            "_view_name": "FigureView"
          }
        },
        "bd2dc8d2b6b9404084f0f9a5eb1d3480": {
          "model_module": "@jupyter-widgets/controls",
          "model_name": "VBoxModel",
          "model_module_version": "1.5.0",
          "state": {
            "_dom_classes": [],
            "_model_module": "@jupyter-widgets/controls",
            "_model_module_version": "1.5.0",
            "_model_name": "VBoxModel",
            "_view_count": null,
            "_view_module": "@jupyter-widgets/controls",
            "_view_module_version": "1.5.0",
            "_view_name": "VBoxView",
            "box_style": "",
            "children": [
              "IPY_MODEL_cc51faa21d25449ab53edf7cb5a99c41",
              "IPY_MODEL_c629d12c848b4a10ad50aa6296d98fd2"
            ],
            "layout": "IPY_MODEL_30063ff8426a4555a9b947b7ae630896"
          }
        },
        "cc51faa21d25449ab53edf7cb5a99c41": {
          "model_module": "@jupyter-widgets/controls",
          "model_name": "HBoxModel",
          "model_module_version": "1.5.0",
          "state": {
            "_dom_classes": [],
            "_model_module": "@jupyter-widgets/controls",
            "_model_module_version": "1.5.0",
            "_model_name": "HBoxModel",
            "_view_count": null,
            "_view_module": "@jupyter-widgets/controls",
            "_view_module_version": "1.5.0",
            "_view_name": "HBoxView",
            "box_style": "",
            "children": [
              "IPY_MODEL_f512bb90af04424397470a2b72b02f1b",
              "IPY_MODEL_7efa5351f13a40c8aeb7bc511c4156f7"
            ],
            "layout": "IPY_MODEL_2b2763fe11b84a99ae1c872671ac878c"
          }
        },
        "c629d12c848b4a10ad50aa6296d98fd2": {
          "model_module": "jupyterlab-plotly",
          "model_name": "FigureModel",
          "model_module_version": "^5.15.0",
          "state": {
            "_config": {
              "plotlyServerURL": "https://plot.ly"
            },
            "_data": [
              {
                "mode": "lines",
                "name": "Line",
                "x": [
                  -4,
                  -3.95,
                  -3.9000000000000004,
                  -3.8500000000000005,
                  -3.8000000000000007,
                  -3.750000000000001,
                  -3.700000000000001,
                  -3.6500000000000012,
                  -3.6000000000000014,
                  -3.5500000000000016,
                  -3.5000000000000018,
                  -3.450000000000002,
                  -3.400000000000002,
                  -3.3500000000000023,
                  -3.3000000000000025,
                  -3.2500000000000027,
                  -3.200000000000003,
                  -3.150000000000003,
                  -3.100000000000003,
                  -3.0500000000000034,
                  -3.0000000000000036,
                  -2.9500000000000037,
                  -2.900000000000004,
                  -2.850000000000004,
                  -2.8000000000000043,
                  -2.7500000000000044,
                  -2.7000000000000046,
                  -2.650000000000005,
                  -2.600000000000005,
                  -2.550000000000005,
                  -2.5000000000000053,
                  -2.4500000000000055,
                  -2.4000000000000057,
                  -2.350000000000006,
                  -2.300000000000006,
                  -2.250000000000006,
                  -2.2000000000000064,
                  -2.1500000000000066,
                  -2.1000000000000068,
                  -2.050000000000007,
                  -2.000000000000007,
                  -1.9500000000000073,
                  -1.9000000000000075,
                  -1.8500000000000076,
                  -1.8000000000000078,
                  -1.750000000000008,
                  -1.7000000000000082,
                  -1.6500000000000083,
                  -1.6000000000000085,
                  -1.5500000000000087,
                  -1.5000000000000089,
                  -1.450000000000009,
                  -1.4000000000000092,
                  -1.3500000000000094,
                  -1.3000000000000096,
                  -1.2500000000000098,
                  -1.20000000000001,
                  -1.1500000000000101,
                  -1.1000000000000103,
                  -1.0500000000000105,
                  -1.0000000000000107,
                  -0.9500000000000108,
                  -0.900000000000011,
                  -0.8500000000000112,
                  -0.8000000000000114,
                  -0.7500000000000115,
                  -0.7000000000000117,
                  -0.6500000000000119,
                  -0.6000000000000121,
                  -0.5500000000000123,
                  -0.5000000000000124,
                  -0.4500000000000126,
                  -0.4000000000000128,
                  -0.35000000000001297,
                  -0.30000000000001315,
                  -0.2500000000000133,
                  -0.2000000000000135,
                  -0.15000000000001368,
                  -0.10000000000001386,
                  -0.05000000000001403,
                  -1.4210854715202004e-14,
                  0.04999999999998561,
                  0.09999999999998543,
                  0.14999999999998526,
                  0.19999999999998508,
                  0.2499999999999849,
                  0.2999999999999847,
                  0.34999999999998455,
                  0.39999999999998437,
                  0.4499999999999842,
                  0.499999999999984,
                  0.5499999999999838,
                  0.5999999999999837,
                  0.6499999999999835,
                  0.6999999999999833,
                  0.7499999999999831,
                  0.799999999999983,
                  0.8499999999999828,
                  0.8999999999999826,
                  0.9499999999999824,
                  0.9999999999999822,
                  1.049999999999982,
                  1.0999999999999819,
                  1.1499999999999817,
                  1.1999999999999815,
                  1.2499999999999813,
                  1.2999999999999812,
                  1.349999999999981,
                  1.3999999999999808,
                  1.4499999999999806,
                  1.4999999999999805,
                  1.5499999999999803,
                  1.59999999999998,
                  1.64999999999998,
                  1.6999999999999797,
                  1.7499999999999796,
                  1.7999999999999794,
                  1.8499999999999792,
                  1.899999999999979,
                  1.9499999999999789,
                  1.9999999999999787,
                  2.0499999999999785,
                  2.0999999999999783,
                  2.149999999999978,
                  2.199999999999978,
                  2.249999999999978,
                  2.2999999999999776,
                  2.3499999999999774,
                  2.3999999999999773,
                  2.449999999999977,
                  2.499999999999977,
                  2.5499999999999767,
                  2.5999999999999766,
                  2.6499999999999764,
                  2.699999999999976,
                  2.749999999999976,
                  2.799999999999976,
                  2.8499999999999757,
                  2.8999999999999755,
                  2.9499999999999753,
                  2.999999999999975,
                  3.049999999999975,
                  3.0999999999999748,
                  3.1499999999999746,
                  3.1999999999999744,
                  3.2499999999999742,
                  3.299999999999974,
                  3.349999999999974,
                  3.3999999999999737,
                  3.4499999999999735,
                  3.4999999999999734,
                  3.549999999999973,
                  3.599999999999973,
                  3.649999999999973,
                  3.6999999999999726,
                  3.7499999999999725,
                  3.7999999999999723,
                  3.849999999999972,
                  3.899999999999972,
                  3.9499999999999718
                ],
                "xaxis": "x",
                "y": [
                  -4,
                  -3.95,
                  -3.9000000000000004,
                  -3.8500000000000005,
                  -3.8000000000000007,
                  -3.750000000000001,
                  -3.700000000000001,
                  -3.6500000000000012,
                  -3.6000000000000014,
                  -3.5500000000000016,
                  -3.5000000000000018,
                  -3.450000000000002,
                  -3.400000000000002,
                  -3.3500000000000023,
                  -3.3000000000000025,
                  -3.2500000000000027,
                  -3.200000000000003,
                  -3.150000000000003,
                  -3.100000000000003,
                  -3.0500000000000034,
                  -3.0000000000000036,
                  -2.9500000000000037,
                  -2.900000000000004,
                  -2.850000000000004,
                  -2.8000000000000043,
                  -2.7500000000000044,
                  -2.7000000000000046,
                  -2.650000000000005,
                  -2.600000000000005,
                  -2.550000000000005,
                  -2.5000000000000053,
                  -2.4500000000000055,
                  -2.4000000000000057,
                  -2.350000000000006,
                  -2.300000000000006,
                  -2.250000000000006,
                  -2.2000000000000064,
                  -2.1500000000000066,
                  -2.1000000000000068,
                  -2.050000000000007,
                  -2.000000000000007,
                  -1.9500000000000073,
                  -1.9000000000000075,
                  -1.8500000000000076,
                  -1.8000000000000078,
                  -1.750000000000008,
                  -1.7000000000000082,
                  -1.6500000000000083,
                  -1.6000000000000085,
                  -1.5500000000000087,
                  -1.5000000000000089,
                  -1.450000000000009,
                  -1.4000000000000092,
                  -1.3500000000000094,
                  -1.3000000000000096,
                  -1.2500000000000098,
                  -1.20000000000001,
                  -1.1500000000000101,
                  -1.1000000000000103,
                  -1.0500000000000105,
                  -1.0000000000000107,
                  -0.9500000000000108,
                  -0.900000000000011,
                  -0.8500000000000112,
                  -0.8000000000000114,
                  -0.7500000000000115,
                  -0.7000000000000117,
                  -0.6500000000000119,
                  -0.6000000000000121,
                  -0.5500000000000123,
                  -0.5000000000000124,
                  -0.4500000000000126,
                  -0.4000000000000128,
                  -0.35000000000001297,
                  -0.30000000000001315,
                  -0.2500000000000133,
                  -0.2000000000000135,
                  -0.15000000000001368,
                  -0.10000000000001386,
                  -0.05000000000001403,
                  -1.4210854715202004e-14,
                  0.04999999999998561,
                  0.09999999999998543,
                  0.14999999999998526,
                  0.19999999999998508,
                  0.2499999999999849,
                  0.2999999999999847,
                  0.34999999999998455,
                  0.39999999999998437,
                  0.4499999999999842,
                  0.499999999999984,
                  0.5499999999999838,
                  0.5999999999999837,
                  0.6499999999999835,
                  0.6999999999999833,
                  0.7499999999999831,
                  0.799999999999983,
                  0.8499999999999828,
                  0.8999999999999826,
                  0.9499999999999824,
                  0.9999999999999822,
                  1.049999999999982,
                  1.0999999999999819,
                  1.1499999999999817,
                  1.1999999999999815,
                  1.2499999999999813,
                  1.2999999999999812,
                  1.349999999999981,
                  1.3999999999999808,
                  1.4499999999999806,
                  1.4999999999999805,
                  1.5499999999999803,
                  1.59999999999998,
                  1.64999999999998,
                  1.6999999999999797,
                  1.7499999999999796,
                  1.7999999999999794,
                  1.8499999999999792,
                  1.899999999999979,
                  1.9499999999999789,
                  1.9999999999999787,
                  2.0499999999999785,
                  2.0999999999999783,
                  2.149999999999978,
                  2.199999999999978,
                  2.249999999999978,
                  2.2999999999999776,
                  2.3499999999999774,
                  2.3999999999999773,
                  2.449999999999977,
                  2.499999999999977,
                  2.5499999999999767,
                  2.5999999999999766,
                  2.6499999999999764,
                  2.699999999999976,
                  2.749999999999976,
                  2.799999999999976,
                  2.8499999999999757,
                  2.8999999999999755,
                  2.9499999999999753,
                  2.999999999999975,
                  3.049999999999975,
                  3.0999999999999748,
                  3.1499999999999746,
                  3.1999999999999744,
                  3.2499999999999742,
                  3.299999999999974,
                  3.349999999999974,
                  3.3999999999999737,
                  3.4499999999999735,
                  3.4999999999999734,
                  3.549999999999973,
                  3.599999999999973,
                  3.649999999999973,
                  3.6999999999999726,
                  3.7499999999999725,
                  3.7999999999999723,
                  3.849999999999972,
                  3.899999999999972,
                  3.9499999999999718
                ],
                "yaxis": "y",
                "type": "scatter",
                "uid": "75329ab4-36c7-48b3-a52c-bf3017d71496"
              }
            ],
            "_dom_classes": [],
            "_js2py_layoutDelta": null,
            "_js2py_pointsCallback": null,
            "_js2py_relayout": {},
            "_js2py_restyle": {},
            "_js2py_traceDeltas": null,
            "_js2py_update": {},
            "_last_layout_edit_id": 9,
            "_last_trace_edit_id": 9,
            "_layout": {
              "height": 600,
              "title": {
                "text": "Line Graph"
              },
              "width": 800,
              "yaxis": {
                "range": [
                  -10,
                  10
                ]
              }
            },
            "_model_module": "jupyterlab-plotly",
            "_model_module_version": "^5.15.0",
            "_model_name": "FigureModel",
            "_py2js_addTraces": {},
            "_py2js_animate": {},
            "_py2js_deleteTraces": {},
            "_py2js_moveTraces": {},
            "_py2js_relayout": null,
            "_py2js_removeLayoutProps": {},
            "_py2js_removeTraceProps": {},
            "_py2js_restyle": null,
            "_py2js_update": {},
            "_view_count": 1,
            "_view_module": "jupyterlab-plotly",
            "_view_module_version": "^5.15.0",
            "_view_name": "FigureView"
          }
        },
        "30063ff8426a4555a9b947b7ae630896": {
          "model_module": "@jupyter-widgets/base",
          "model_name": "LayoutModel",
          "model_module_version": "1.2.0",
          "state": {
            "_model_module": "@jupyter-widgets/base",
            "_model_module_version": "1.2.0",
            "_model_name": "LayoutModel",
            "_view_count": null,
            "_view_module": "@jupyter-widgets/base",
            "_view_module_version": "1.2.0",
            "_view_name": "LayoutView",
            "align_content": null,
            "align_items": null,
            "align_self": null,
            "border": null,
            "bottom": null,
            "display": null,
            "flex": null,
            "flex_flow": null,
            "grid_area": null,
            "grid_auto_columns": null,
            "grid_auto_flow": null,
            "grid_auto_rows": null,
            "grid_column": null,
            "grid_gap": null,
            "grid_row": null,
            "grid_template_areas": null,
            "grid_template_columns": null,
            "grid_template_rows": null,
            "height": null,
            "justify_content": null,
            "justify_items": null,
            "left": null,
            "margin": null,
            "max_height": null,
            "max_width": null,
            "min_height": null,
            "min_width": null,
            "object_fit": null,
            "object_position": null,
            "order": null,
            "overflow": null,
            "overflow_x": null,
            "overflow_y": null,
            "padding": null,
            "right": null,
            "top": null,
            "visibility": null,
            "width": null
          }
        },
        "f512bb90af04424397470a2b72b02f1b": {
          "model_module": "@jupyter-widgets/controls",
          "model_name": "FloatSliderModel",
          "model_module_version": "1.5.0",
          "state": {
            "_dom_classes": [],
            "_model_module": "@jupyter-widgets/controls",
            "_model_module_version": "1.5.0",
            "_model_name": "FloatSliderModel",
            "_view_count": null,
            "_view_module": "@jupyter-widgets/controls",
            "_view_module_version": "1.5.0",
            "_view_name": "FloatSliderView",
            "continuous_update": true,
            "description": "Slope m:",
            "description_tooltip": null,
            "disabled": false,
            "layout": "IPY_MODEL_8379f2bb01604121aa5cddd5f10c639e",
            "max": 5,
            "min": -5,
            "orientation": "horizontal",
            "readout": true,
            "readout_format": ".1f",
            "step": 0.1,
            "style": "IPY_MODEL_ffbfbf9b93ba47a4bb3dfce5a916409b",
            "value": -0.2999999999999998
          }
        },
        "7efa5351f13a40c8aeb7bc511c4156f7": {
          "model_module": "@jupyter-widgets/controls",
          "model_name": "FloatSliderModel",
          "model_module_version": "1.5.0",
          "state": {
            "_dom_classes": [],
            "_model_module": "@jupyter-widgets/controls",
            "_model_module_version": "1.5.0",
            "_model_name": "FloatSliderModel",
            "_view_count": null,
            "_view_module": "@jupyter-widgets/controls",
            "_view_module_version": "1.5.0",
            "_view_name": "FloatSliderView",
            "continuous_update": true,
            "description": "Intercept b:",
            "description_tooltip": null,
            "disabled": false,
            "layout": "IPY_MODEL_eb63458b85934d83b77bd7d420872181",
            "max": 5,
            "min": -5,
            "orientation": "horizontal",
            "readout": true,
            "readout_format": ".1f",
            "step": 0.1,
            "style": "IPY_MODEL_de63e2d9d51447b092725b7989f57d72",
            "value": 2.4000000000000004
          }
        },
        "2b2763fe11b84a99ae1c872671ac878c": {
          "model_module": "@jupyter-widgets/base",
          "model_name": "LayoutModel",
          "model_module_version": "1.2.0",
          "state": {
            "_model_module": "@jupyter-widgets/base",
            "_model_module_version": "1.2.0",
            "_model_name": "LayoutModel",
            "_view_count": null,
            "_view_module": "@jupyter-widgets/base",
            "_view_module_version": "1.2.0",
            "_view_name": "LayoutView",
            "align_content": null,
            "align_items": null,
            "align_self": null,
            "border": "solid 2px #fff",
            "bottom": null,
            "display": null,
            "flex": null,
            "flex_flow": null,
            "grid_area": null,
            "grid_auto_columns": null,
            "grid_auto_flow": null,
            "grid_auto_rows": null,
            "grid_column": null,
            "grid_gap": null,
            "grid_row": null,
            "grid_template_areas": null,
            "grid_template_columns": null,
            "grid_template_rows": null,
            "height": null,
            "justify_content": null,
            "justify_items": null,
            "left": null,
            "margin": null,
            "max_height": null,
            "max_width": null,
            "min_height": null,
            "min_width": null,
            "object_fit": null,
            "object_position": null,
            "order": null,
            "overflow": null,
            "overflow_x": null,
            "overflow_y": null,
            "padding": null,
            "right": null,
            "top": null,
            "visibility": null,
            "width": null
          }
        },
        "8379f2bb01604121aa5cddd5f10c639e": {
          "model_module": "@jupyter-widgets/base",
          "model_name": "LayoutModel",
          "model_module_version": "1.2.0",
          "state": {
            "_model_module": "@jupyter-widgets/base",
            "_model_module_version": "1.2.0",
            "_model_name": "LayoutModel",
            "_view_count": null,
            "_view_module": "@jupyter-widgets/base",
            "_view_module_version": "1.2.0",
            "_view_name": "LayoutView",
            "align_content": null,
            "align_items": null,
            "align_self": null,
            "border": null,
            "bottom": null,
            "display": null,
            "flex": null,
            "flex_flow": null,
            "grid_area": null,
            "grid_auto_columns": null,
            "grid_auto_flow": null,
            "grid_auto_rows": null,
            "grid_column": null,
            "grid_gap": null,
            "grid_row": null,
            "grid_template_areas": null,
            "grid_template_columns": null,
            "grid_template_rows": null,
            "height": null,
            "justify_content": null,
            "justify_items": null,
            "left": null,
            "margin": null,
            "max_height": null,
            "max_width": null,
            "min_height": null,
            "min_width": null,
            "object_fit": null,
            "object_position": null,
            "order": null,
            "overflow": null,
            "overflow_x": null,
            "overflow_y": null,
            "padding": null,
            "right": null,
            "top": null,
            "visibility": null,
            "width": null
          }
        },
        "ffbfbf9b93ba47a4bb3dfce5a916409b": {
          "model_module": "@jupyter-widgets/controls",
          "model_name": "SliderStyleModel",
          "model_module_version": "1.5.0",
          "state": {
            "_model_module": "@jupyter-widgets/controls",
            "_model_module_version": "1.5.0",
            "_model_name": "SliderStyleModel",
            "_view_count": null,
            "_view_module": "@jupyter-widgets/base",
            "_view_module_version": "1.2.0",
            "_view_name": "StyleView",
            "description_width": "",
            "handle_color": null
          }
        },
        "eb63458b85934d83b77bd7d420872181": {
          "model_module": "@jupyter-widgets/base",
          "model_name": "LayoutModel",
          "model_module_version": "1.2.0",
          "state": {
            "_model_module": "@jupyter-widgets/base",
            "_model_module_version": "1.2.0",
            "_model_name": "LayoutModel",
            "_view_count": null,
            "_view_module": "@jupyter-widgets/base",
            "_view_module_version": "1.2.0",
            "_view_name": "LayoutView",
            "align_content": null,
            "align_items": null,
            "align_self": null,
            "border": null,
            "bottom": null,
            "display": null,
            "flex": null,
            "flex_flow": null,
            "grid_area": null,
            "grid_auto_columns": null,
            "grid_auto_flow": null,
            "grid_auto_rows": null,
            "grid_column": null,
            "grid_gap": null,
            "grid_row": null,
            "grid_template_areas": null,
            "grid_template_columns": null,
            "grid_template_rows": null,
            "height": null,
            "justify_content": null,
            "justify_items": null,
            "left": null,
            "margin": null,
            "max_height": null,
            "max_width": null,
            "min_height": null,
            "min_width": null,
            "object_fit": null,
            "object_position": null,
            "order": null,
            "overflow": null,
            "overflow_x": null,
            "overflow_y": null,
            "padding": null,
            "right": null,
            "top": null,
            "visibility": null,
            "width": null
          }
        },
        "de63e2d9d51447b092725b7989f57d72": {
          "model_module": "@jupyter-widgets/controls",
          "model_name": "SliderStyleModel",
          "model_module_version": "1.5.0",
          "state": {
            "_model_module": "@jupyter-widgets/controls",
            "_model_module_version": "1.5.0",
            "_model_name": "SliderStyleModel",
            "_view_count": null,
            "_view_module": "@jupyter-widgets/base",
            "_view_module_version": "1.2.0",
            "_view_name": "StyleView",
            "description_width": "",
            "handle_color": null
          }
        }
      }
    }
  },
  "nbformat": 4,
  "nbformat_minor": 5
}