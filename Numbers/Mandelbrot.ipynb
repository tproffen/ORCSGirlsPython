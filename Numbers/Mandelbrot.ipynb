{
  "cells": [
    {
      "cell_type": "markdown",
      "metadata": {
        "id": "view-in-github",
        "colab_type": "text"
      },
      "source": [
        "<a href=\"https://colab.research.google.com/github/tproffen/ORCSGirlsPython/blob/master/Numbers/Mandelbrot.ipynb\" target=\"_parent\"><img src=\"https://colab.research.google.com/assets/colab-badge.svg\" alt=\"Open In Colab\"/></a>"
      ]
    },
    {
      "cell_type": "markdown",
      "id": "22d1b0d3-e46c-46c7-95b7-ab811ec01214",
      "metadata": {
        "id": "22d1b0d3-e46c-46c7-95b7-ab811ec01214"
      },
      "source": [
        "# Hackathon\n",
        "##### June 17, 2023 - 4:00pm until 4:02am\n",
        "\n",
        "On June 17 four girls of the ORCSGirls Academy met at 4pm in Gather Town to embark on a journey into numbers and strange math things. Twelve hours later they emerged victoreously having conquered plotting, the logistics map, complex numbers and the Mandelbrot set."
      ]
    },
    {
      "cell_type": "code",
      "execution_count": null,
      "id": "ae5bed58-b902-4b6f-aeda-d8176ea32fbd",
      "metadata": {
        "id": "ae5bed58-b902-4b6f-aeda-d8176ea32fbd"
      },
      "outputs": [],
      "source": [
        "import ipywidgets as widgets\n",
        "import matplotlib.pyplot as plt\n",
        "import matplotlib.animation as animation\n",
        "import numpy as np\n",
        "from PIL import Image, ImageDraw\n",
        "from IPython.display import YouTubeVideo\n",
        "\n",
        "#%matplotlib widget  # Jupyter\n",
        "%matplotlib inline  # Colab\n"
      ]
    },
    {
      "cell_type": "markdown",
      "id": "89cdca52-4d8e-4683-ba7a-510ec9ee63eb",
      "metadata": {
        "id": "89cdca52-4d8e-4683-ba7a-510ec9ee63eb"
      },
      "source": [
        "### Simple plotting\n",
        "\n",
        "First we look at `matplotlib` and how to graph data. In this notebook we use tell matplotlib to create a widget (see line `%matplotlib widget` above) for the plot which allows us to update and zoom into plots. Note this might not work on Colaboratory - here you can use `%matplotlib inline` for non interactive plots.\n",
        "\n",
        "While in other notebooks we have used `plt.plot()` to plot inline, this would add the data to the last widget. To create a new plot, we need to make a new figure as shown below."
      ]
    },
    {
      "cell_type": "code",
      "execution_count": null,
      "id": "328b58b4-5ed0-4478-9733-1e87963f1bd9",
      "metadata": {
        "id": "328b58b4-5ed0-4478-9733-1e87963f1bd9"
      },
      "outputs": [],
      "source": [
        "fig, ax = plt.subplots(figsize=(5,3))\n",
        "ax.plot([3,2,1.5,2.2,3.21,-2])"
      ]
    },
    {
      "cell_type": "markdown",
      "id": "5d2925f0-c24d-4ca4-908c-d25d620af472",
      "metadata": {
        "id": "5d2925f0-c24d-4ca4-908c-d25d620af472"
      },
      "source": [
        "One of the fun things we can do is to add more interactivity to the plot, e.g. using sliders for the slope and imtercept in an equation $y=mx+b$ for a line. See below."
      ]
    },
    {
      "cell_type": "code",
      "execution_count": null,
      "id": "dd33b5f5-30e7-4080-b78a-72b1c348b396",
      "metadata": {
        "id": "dd33b5f5-30e7-4080-b78a-72b1c348b396"
      },
      "outputs": [],
      "source": [
        "def line(m,b):\n",
        "    xvals=[]                        # Empty list for x values\n",
        "    yvals=[]                        # Empty list for y values\n",
        "    for x in np.arange(-4,4,0.05):  # Loop from -4 to 4 in steps of 0.05\n",
        "        xvals.append(x)             # Add x vlaue to the list\n",
        "        yvals.append(m*x+b)         # Calculate y and add to the list\n",
        "    return xvals, yvals             # return both lists"
      ]
    },
    {
      "cell_type": "markdown",
      "id": "6deb7f7c-a1cf-49e4-866d-aad6739a7982",
      "metadata": {
        "id": "6deb7f7c-a1cf-49e4-866d-aad6739a7982"
      },
      "source": [
        "Now we use that function to calcualrte the points and call it everytime the slider is moved. Note that `def update` needs to follow `@widgets.interact` directly. This is the routine called everytime a slider is moved."
      ]
    },
    {
      "cell_type": "code",
      "execution_count": null,
      "id": "c7858283-4493-4e95-baf8-1efa726fbf99",
      "metadata": {
        "id": "c7858283-4493-4e95-baf8-1efa726fbf99"
      },
      "outputs": [],
      "source": [
        "fig, ax = plt.subplots(figsize=(6,4))\n",
        "plt.xlabel('x')\n",
        "plt.ylabel('y')\n",
        "\n",
        "@widgets.interact(m=(-5,5,0.1), b=(-5,5,0.1))  # defining the slides, names and ranges\n",
        "def update(m=1,b=0):\n",
        "    [l.remove() for l in ax.lines]             # Removing lines from previos plot\n",
        "    x, y = line(m,b)                           # Calculating the values\n",
        "    ax.plot(x,y, color='blue')                 # Plotting"
      ]
    },
    {
      "cell_type": "markdown",
      "id": "0f1fda63-f15b-41ad-869c-b7b232e42710",
      "metadata": {
        "id": "0f1fda63-f15b-41ad-869c-b7b232e42710"
      },
      "source": [
        "# Now the fun - the Logistic Map\n",
        "\n",
        "Before we start coding this ourselves, here is a video that gives a good introduction on the equation and the many ways we encouter this."
      ]
    },
    {
      "cell_type": "code",
      "execution_count": 6,
      "id": "3feb0dd6-c89a-4bba-bc01-22629f03913a",
      "metadata": {
        "id": "3feb0dd6-c89a-4bba-bc01-22629f03913a",
        "outputId": "20f12593-f6e2-4d75-8a25-5522c48adbac",
        "colab": {
          "base_uri": "https://localhost:8080/",
          "height": 321
        }
      },
      "outputs": [
        {
          "output_type": "execute_result",
          "data": {
            "text/plain": [
              "<IPython.lib.display.YouTubeVideo at 0x7f5f8ffc44f0>"
            ],
            "text/html": [
              "\n",
              "        <iframe\n",
              "            width=\"600\"\n",
              "            height=\"300\"\n",
              "            src=\"https://www.youtube.com/embed/ovJcsL7vyrk\"\n",
              "            frameborder=\"0\"\n",
              "            allowfullscreen\n",
              "            \n",
              "        ></iframe>\n",
              "        "
            ],
            "image/jpeg": "[encoded data removed]"
          },
          "metadata": {},
          "execution_count": 6
        }
      ],
      "source": [
        "YouTubeVideo(\"ovJcsL7vyrk\", width=600)"
      ]
    },
    {
      "cell_type": "markdown",
      "id": "a52ca06b-f51f-4c33-a49e-238290c08f6a",
      "metadata": {
        "id": "a52ca06b-f51f-4c33-a49e-238290c08f6a"
      },
      "source": [
        "#### Here is the equation: $x_{n+1} = r x_{n}(1 - x_{n})$\n",
        "\n",
        "Following the notation in the norebook, $r$ is the growth rate and $x$ is population. This is not the actual number, but the fraction of the maximum possible population, so it ranges from 0 to 1."
      ]
    },
    {
      "cell_type": "markdown",
      "id": "91db613b-5d53-468c-a0d3-7e31b267bc98",
      "metadata": {
        "id": "91db613b-5d53-468c-a0d3-7e31b267bc98"
      },
      "source": [
        "#### Step 1: Visualize the function\n",
        "\n",
        "Let's define a function `growth` and plot how the population next year depends on the population this year;"
      ]
    },
    {
      "cell_type": "code",
      "execution_count": null,
      "id": "6286097e-3ca8-4995-8962-92e401b39c13",
      "metadata": {
        "id": "6286097e-3ca8-4995-8962-92e401b39c13"
      },
      "outputs": [],
      "source": [
        "def growth(x,r):\n",
        "    return r*x*(1-x)"
      ]
    },
    {
      "cell_type": "code",
      "execution_count": null,
      "id": "69080ecc-7bb9-4ac8-a306-fccaf197f286",
      "metadata": {
        "id": "69080ecc-7bb9-4ac8-a306-fccaf197f286"
      },
      "outputs": [],
      "source": [
        "r = 2.0   # Growth rate of 2\n",
        "x = 0.4   # Initial population 40% (or 0.4) of the possible maximum\n",
        "\n",
        "xpts = np.arange(0.0,1.1,0.1)           # Values for x from 0 to 1 (note the 1.1)\n",
        "ypts = [growth(x,r) for x in xpts]      # One line loop to calculate all the y's\n",
        "\n",
        "fig, ax = plt.subplots(figsize=(6,4))   # Making the new plot\n",
        "plt.xlabel('x_n')\n",
        "plt.ylabel('x_n+1')\n",
        "\n",
        "ax.plot(xpts,ypts)"
      ]
    },
    {
      "cell_type": "markdown",
      "id": "a32d5ed5-4838-4c98-983c-f607c77a6838",
      "metadata": {
        "id": "a32d5ed5-4838-4c98-983c-f607c77a6838"
      },
      "source": [
        "Woohoo, just like in the video. He have a 'single hump function' with a negative feedback, meaning when the population gets too big the dowturn of the parabula will reduce the population as you can see on the graph."
      ]
    },
    {
      "cell_type": "markdown",
      "id": "80d351f2-0432-4789-a3b2-67ec08c1003a",
      "metadata": {
        "id": "80d351f2-0432-4789-a3b2-67ec08c1003a"
      },
      "source": [
        "#### Step 2: Behaviour as time goes on\n",
        "\n",
        "We are most interested in the long term behaviour of the function as we repeatley call it. In other words what happens to the population after a long time. In the function below we calculate the value of $x_{n} = r x_{n-1}(1 - x_{n-1})$ for all $n$. Note that we have rewritten this so the value we calculate os $n$ and it depends on the earlier value $n-1$ which is how we implement it by using the list element `[-1]`."
      ]
    },
    {
      "cell_type": "code",
      "execution_count": null,
      "id": "d8d5dde3-86af-4168-9c6e-56b595eb9685",
      "metadata": {
        "id": "d8d5dde3-86af-4168-9c6e-56b595eb9685"
      },
      "outputs": [],
      "source": [
        "def growthtime(x0,r,nmax):\n",
        "    vals=[x0]                                  # First element is the initial pop.\n",
        "    for i in range(nmax-1):                    # Loop to the maximum number nmax we want.\n",
        "                                               #   the -1 is because we already added x0\n",
        "        vals.append(r*vals[-1]*(1-vals[-1]))   # Append the calculated vale\n",
        "    return vals                                # Return all values"
      ]
    },
    {
      "cell_type": "code",
      "execution_count": null,
      "id": "4d516a6a-3f1b-4b6f-bfb5-97196980e373",
      "metadata": {
        "id": "4d516a6a-3f1b-4b6f-bfb5-97196980e373"
      },
      "outputs": [],
      "source": [
        "fig, ax = plt.subplots(figsize=(6,4))\n",
        "plt.xlabel('Time')\n",
        "plt.ylabel('Population')\n",
        "\n",
        "@widgets.interact(x0=(0.1,0.9,0.1),r=(0.5,4.0,0.01))\n",
        "def update(x0=0.4, r=1.2):\n",
        "    [l.remove() for l in ax.lines]\n",
        "    ax.plot(growthtime(x0,r,100), color=\"blue\", marker='o')    # Adding some markers"
      ]
    },
    {
      "cell_type": "markdown",
      "id": "ba907da3-942d-42de-8f6a-d5c9d981df9a",
      "metadata": {
        "id": "ba907da3-942d-42de-8f6a-d5c9d981df9a"
      },
      "source": [
        "Explore how the function depends on `x0` and `r`. Anything spooky 😨"
      ]
    },
    {
      "cell_type": "markdown",
      "id": "4e8f5a38-1b92-43ec-a1fa-bf825d26e942",
      "metadata": {
        "id": "4e8f5a38-1b92-43ec-a1fa-bf825d26e942"
      },
      "source": [
        "#### Step 3: Exploring as function of growth rate $r$\n",
        "\n",
        "You might have seen strange behaviour for certain values of $r$, so next we explore the resulting populations after some time. Because there are multiple values the function oscillates around, we simply loop ofer $r$ and then plot the last `nplot` points ion a scatter plot."
      ]
    },
    {
      "cell_type": "code",
      "execution_count": null,
      "id": "662c6100-b787-4613-86a0-a603a11164bb",
      "metadata": {
        "id": "662c6100-b787-4613-86a0-a603a11164bb"
      },
      "outputs": [],
      "source": [
        "x0 = 0.4         # Starting population\n",
        "nmax  = 300      # Maximum value of n for calculate\n",
        "nplot = 150      # First point to plot, so we plot nplot:nmax\n",
        "\n",
        "rvals=[]         # List for values of r\n",
        "lvals=[]         # List for resulting values of x (there will be nmax values for each r)\n",
        "\n",
        "for r in np.arange(0.9,4.0,0.001):              # Loop over r - note the fine grid\n",
        "    lvals.append(growthtime(x0,r,nmax)[nplot:]) # Getting list of x starting at nplot\n",
        "    rvals.append([r]*(nmax-nplot))              # We need the same number of r's so\n",
        "                                                # lists are the same length\n",
        "\n",
        "# Now we need to turn the list of lists into one contineous list for plotting\n",
        "lvals = np.array(lvals).ravel()\n",
        "rvals = np.array(rvals).ravel()"
      ]
    },
    {
      "cell_type": "markdown",
      "id": "8835e382-3c76-40eb-a898-0fe30711fdca",
      "metadata": {
        "id": "8835e382-3c76-40eb-a898-0fe30711fdca"
      },
      "source": [
        "All that is left is to plot. Adjust marker size and color below. Also explore changing nmax, nplot and the step size in r. Enjoy."
      ]
    },
    {
      "cell_type": "code",
      "execution_count": null,
      "id": "153c32a6-1064-4843-a1c5-81fe454fcaaa",
      "metadata": {
        "id": "153c32a6-1064-4843-a1c5-81fe454fcaaa"
      },
      "outputs": [],
      "source": [
        "fig, ax = plt.subplots(figsize=(6,4))\n",
        "plt.scatter(rvals,lvals,s=0.02,color='purple')"
      ]
    },
    {
      "cell_type": "markdown",
      "id": "cecf7fce-3d0e-4043-a65a-6a1247b9c45a",
      "metadata": {
        "id": "cecf7fce-3d0e-4043-a65a-6a1247b9c45a"
      },
      "source": [
        "# Mandelbrot Set\n",
        "\n",
        "Here is part two. The equation to generate the well known Mandelbrot set is simply $z_{n+1}=z_{n}^2 + c$ where $c$ is a complex number. Complex numbers have a real and imaginary part and can be visualised in 2D - think of the real and imaginary parts as x and y. These numbers solve the issue with square roots of negative numbers by defining $i=sqrt(-1)$ and a complex number is simply $a+ib$. Here $a$ is the real part and $b$ the imaginary one.\n",
        "\n",
        "In Python we can create complex numbers with `c = complex(a,b)`."
      ]
    },
    {
      "cell_type": "markdown",
      "id": "9588a933-ce16-4ebc-9983-19e2c259cff2",
      "metadata": {
        "id": "9588a933-ce16-4ebc-9983-19e2c259cff2"
      },
      "source": [
        "#### Understanding the equation\n",
        "\n",
        "Here is the equation again: $z_{n+1}=z_{n}^2 + c$. To see of a point $c$ in the colplex plain belongs to the Mandelbrot set, we iterate over the equation - measning we start with z=0 and plug it in to calculate the next z. Then we plug that one in to calculate the next and so on. If z stays a finite number even after infinite iterations, that point c we used is part of the set, otherwise it is not.\n",
        "\n",
        "#### Creating a grey scale version\n",
        "\n",
        "Let's define a function `mandelbrot`. We pass c to it and then keep evaluating the equation as long as the value of z stays below 2 (we picked that somewhat randomly) AND the number of iterations is still below the maximum.\n",
        "\n",
        "So if the returned number of iterations is nmax, we know the value did not exceed 2, so the point c is part of the set. If n is less that nmax, the loop ended because the value was exceeding 2, so the point c is NOT part of the Mandelbrot set."
      ]
    },
    {
      "cell_type": "code",
      "execution_count": null,
      "id": "6096f919-0a2a-4e33-b2a6-ce09bcf9d849",
      "metadata": {
        "id": "6096f919-0a2a-4e33-b2a6-ce09bcf9d849"
      },
      "outputs": [],
      "source": [
        "nmax = 100\n",
        "\n",
        "def mandelbrot(c):\n",
        "    z=0\n",
        "    n=0\n",
        "    while abs(z)<= 2 and n < nmax:\n",
        "        z = z*z + c\n",
        "        n = n + 1\n",
        "\n",
        "    return n"
      ]
    },
    {
      "cell_type": "markdown",
      "id": "035508d4-b3e6-4583-88e7-c57de0cad7b2",
      "metadata": {
        "id": "035508d4-b3e6-4583-88e7-c57de0cad7b2"
      },
      "source": [
        "Now to make the beautiful images, we need to loop over x,y pixels of an image, convert the x,y to the values of the complex c and call the mandelbrot function. We then use the returned number of iterations n to set the color of the pixel."
      ]
    },
    {
      "cell_type": "code",
      "execution_count": null,
      "id": "91d0ccee-369d-4f69-aca0-c4af77b2d92b",
      "metadata": {
        "id": "91d0ccee-369d-4f69-aca0-c4af77b2d92b"
      },
      "outputs": [],
      "source": [
        "# Desired image size\n",
        "width = 1000\n",
        "height = 666\n",
        "\n",
        "# The range in the complex plane to map onto the image\n",
        "re_start = -2.0\n",
        "re_end = 1.0\n",
        "im_start = -1.0\n",
        "im_end = 1.0\n",
        "\n",
        "# Creating an empty image\n",
        "im = Image.new('RGB', (width, height), (0,0,0))\n",
        "draw = ImageDraw.Draw(im)\n",
        "\n",
        "# Loop over all pixels\n",
        "for x in range(width):\n",
        "    for y in range(height):\n",
        "        c = complex(re_start + (float(x) / width) * (re_end - re_start),   # Convert x,y to c\n",
        "                    im_start + (float(y) / height) * (im_end - im_start))\n",
        "        n = mandelbrot(c)\n",
        "        color = int(n / nmax * 255)              # scaling the n to the range 0 to 255\n",
        "        draw.point([x,y],(color,color,color))    # Using the value for r,g,b for greyscale\n",
        "\n",
        "im   # show the image"
      ]
    },
    {
      "cell_type": "markdown",
      "id": "d46bea5e-5df0-478f-b12e-db2f2d749480",
      "metadata": {
        "id": "d46bea5e-5df0-478f-b12e-db2f2d749480"
      },
      "source": [
        "#### Using colors\n",
        "\n",
        "Above we used the value n to create a grey scale images using the color (n,n,n). It would be easy to make it other colors e.g. red by using (n,0,0) in the `draw.Point` command. To have colors changing as function of n, we can desacribe the colors as hue, saturation and value (color wheel) and use n to select the hue. Additionally we need to set the brightness to 0 is the point is part of the Mandelbrot set, so it is black. The code is very similar to before, just the assignment of color is different."
      ]
    },
    {
      "cell_type": "code",
      "execution_count": null,
      "id": "562c832b-f4e6-4a22-b0b4-de1c879289ff",
      "metadata": {
        "id": "562c832b-f4e6-4a22-b0b4-de1c879289ff"
      },
      "outputs": [],
      "source": [
        "# Desired image size\n",
        "width = 1000\n",
        "height = 666\n",
        "\n",
        "# The range in the complex plane to map onto the image\n",
        "re_start = -2.0\n",
        "re_end = 1.0\n",
        "im_start = -1.0\n",
        "im_end = 1.0\n",
        "\n",
        "# Creating an empty image\n",
        "im = Image.new('HSV', (width, height), (0,0,0))\n",
        "draw = ImageDraw.Draw(im)\n",
        "\n",
        "for x in range(width):\n",
        "    for y in range(height):\n",
        "        c = complex(re_start + (float(x) / width) * (re_end - re_start),\n",
        "                    im_start + (float(y) / height) * (im_end - im_start))\n",
        "        n = mandelbrot(c)\n",
        "        hue = int(n / nmax * 255)\n",
        "        value = 255 if n < nmax else 0    # Here we make the point of the set black\n",
        "        saturation = 255\n",
        "        draw.point([x,y],(hue,saturation,value))\n",
        "\n",
        "im=im.convert('RGB')   # We need to convert to RGB, so we can display it in the notebook\n",
        "im"
      ]
    },
    {
      "cell_type": "markdown",
      "id": "791a4c7b-b8f0-4795-b2ca-eeb410176f4f",
      "metadata": {
        "id": "791a4c7b-b8f0-4795-b2ca-eeb410176f4f"
      },
      "source": [
        "Time to save the image :)"
      ]
    },
    {
      "cell_type": "code",
      "execution_count": null,
      "id": "c92b7195-3a80-449f-9226-0c25d1a1c674",
      "metadata": {
        "id": "c92b7195-3a80-449f-9226-0c25d1a1c674"
      },
      "outputs": [],
      "source": [
        "im.save('Beauty.png')"
      ]
    },
    {
      "cell_type": "markdown",
      "id": "fa0ed266-db32-4686-a14c-3f32b4dcc3c8",
      "metadata": {
        "id": "fa0ed266-db32-4686-a14c-3f32b4dcc3c8"
      },
      "source": [
        "#### Saving using a colormap\n",
        "\n",
        "In this case we create a grey scale image with just one number (0 to 255) per pixel. We can then use colormaps to translate the value to qa color when plotting.\n",
        "\n",
        "Colormaps to try are: `'Accent', 'Accent_r', 'Blues', 'Blues_r', 'BrBG', 'BrBG_r', 'BuGn', 'BuGn_r', 'BuPu', 'BuPu_r', 'CMRmap', 'CMRmap_r', 'Dark2', 'Dark2_r', 'GnBu', 'GnBu_r', 'Greens', 'Greens_r', 'Greys', 'Greys_r', 'OrRd', 'OrRd_r', 'Oranges', 'Oranges_r', 'PRGn', 'PRGn_r', 'Paired', 'Paired_r', 'Pastel1', 'Pastel1_r', 'Pastel2', 'Pastel2_r', 'PiYG', 'PiYG_r', 'PuBu', 'PuBuGn', 'PuBuGn_r', 'PuBu_r', 'PuOr', 'PuOr_r', 'PuRd', 'PuRd_r', 'Purples', 'Purples_r', 'RdBu', 'RdBu_r', 'RdGy', 'RdGy_r', 'RdPu', 'RdPu_r', 'RdYlBu', 'RdYlBu_r', 'RdYlGn', 'RdYlGn_r', 'Reds', 'Reds_r', 'Set1', 'Set1_r', 'Set2', 'Set2_r', 'Set3', 'Set3_r', 'Spectral', 'Spectral_r', 'Wistia', 'Wistia_r', 'YlGn', 'YlGnBu', 'YlGnBu_r', 'YlGn_r', 'YlOrBr', 'YlOrBr_r', 'YlOrRd', 'YlOrRd_r', 'afmhot', 'afmhot_r', 'autumn', 'autumn_r', 'binary', 'binary_r', 'bone', 'bone_r', 'brg', 'brg_r', 'bwr', 'bwr_r', 'cividis', 'cividis_r', 'cool', 'cool_r', 'coolwarm', 'coolwarm_r', 'copper', 'copper_r', 'cubehelix', 'cubehelix_r', 'flag', 'flag_r', 'gist_earth', 'gist_earth_r', 'gist_gray', 'gist_gray_r', 'gist_heat', 'gist_heat_r', 'gist_ncar', 'gist_ncar_r', 'gist_rainbow', 'gist_rainbow_r', 'gist_stern', 'gist_stern_r', 'gist_yarg', 'gist_yarg_r', 'gnuplot', 'gnuplot2', 'gnuplot2_r', 'gnuplot_r', 'gray', 'gray_r', 'hot', 'hot_r', 'hsv', 'hsv_r', 'inferno', 'inferno_r', 'jet', 'jet_r', 'magma', 'magma_r', 'nipy_spectral', 'nipy_spectral_r', 'ocean', 'ocean_r', 'pink', 'pink_r', 'plasma', 'plasma_r', 'prism', 'prism_r', 'rainbow', 'rainbow_r', 'seismic', 'seismic_r', 'spring', 'spring_r', 'summer', 'summer_r', 'tab10', 'tab10_r', 'tab20', 'tab20_r', 'tab20b', 'tab20b_r', 'tab20c', 'tab20c_r', 'terrain', 'terrain_r', 'turbo', 'turbo_r', 'twilight', 'twilight_r', 'twilight_shifted', 'twilight_shifted_r', 'viridis', 'viridis_r', 'winter', 'winter_r'`\n",
        "\n",
        "Most of the code is the same,except the type of image and the way we plot it."
      ]
    },
    {
      "cell_type": "code",
      "execution_count": null,
      "id": "87eac529-bb4c-432d-9c01-5d5a157c4bda",
      "metadata": {
        "id": "87eac529-bb4c-432d-9c01-5d5a157c4bda"
      },
      "outputs": [],
      "source": [
        "# Desired image size\n",
        "width = 1000\n",
        "height = 666\n",
        "\n",
        "# The range in the complex plane to map onto the image\n",
        "re_start = -2.0\n",
        "re_end = 1.0\n",
        "im_start = -1.0\n",
        "im_end = 1.0\n",
        "\n",
        "# Creating an empty image\n",
        "im = Image.new('L', (width, height), 0)\n",
        "draw = ImageDraw.Draw(im)\n",
        "\n",
        "for x in range(width):\n",
        "    for y in range(height):\n",
        "        c = complex(re_start + (float(x) / width) * (re_end - re_start),\n",
        "                    im_start + (float(y) / height) * (im_end - im_start))\n",
        "        n = mandelbrot(c)\n",
        "        value = int(n / nmax * 255)\n",
        "        draw.point([x,y],value)"
      ]
    },
    {
      "cell_type": "markdown",
      "id": "f191e90b-2598-45f6-adc7-689d59ddf012",
      "metadata": {
        "id": "f191e90b-2598-45f6-adc7-689d59ddf012"
      },
      "source": [
        "Note that we are using matplotlib to show the image now and get coordinate axes. We can specify the ranges for x and y as argument, so the coordinates are now the complex values rather than the pixel values."
      ]
    },
    {
      "cell_type": "code",
      "execution_count": null,
      "id": "92549549-60c7-4d7e-a623-41771715604d",
      "metadata": {
        "id": "92549549-60c7-4d7e-a623-41771715604d"
      },
      "outputs": [],
      "source": [
        "colormap = 'viridis'\n",
        "\n",
        "fig, ax = plt.subplots(figsize=(6,4))\n",
        "plt.xlabel('Real')\n",
        "plt.ylabel('Imaginary')\n",
        "\n",
        "ax.imshow(im, cmap=colormap, extent=[re_start,re_end,im_start,im_end])"
      ]
    },
    {
      "cell_type": "markdown",
      "id": "6bb0c6a6-9d3a-4cc6-bb89-cd827d2ab0a0",
      "metadata": {
        "id": "6bb0c6a6-9d3a-4cc6-bb89-cd827d2ab0a0"
      },
      "source": [
        "Because we want to save the figure now and not just the image, the save command looks different."
      ]
    },
    {
      "cell_type": "code",
      "execution_count": null,
      "id": "13776362-1e0f-40b8-997a-ac576f6609d8",
      "metadata": {
        "id": "13776362-1e0f-40b8-997a-ac576f6609d8"
      },
      "outputs": [],
      "source": [
        "plt.savefig(\"Pretty.png\")"
      ]
    },
    {
      "cell_type": "markdown",
      "id": "a312ee37-ec81-4071-aefd-44751ae7bc66",
      "metadata": {
        "id": "a312ee37-ec81-4071-aefd-44751ae7bc66"
      },
      "source": [
        "#### Animation\n",
        "\n",
        "Now we need to create a sequence of images we can then run as an animation zooming into an area. First let's just repeat the fucntion here, so we do not need to scroll when wanting to check things 😎"
      ]
    },
    {
      "cell_type": "code",
      "execution_count": null,
      "id": "35303d82-d66c-45de-8ffb-8ff4f96f29c0",
      "metadata": {
        "id": "35303d82-d66c-45de-8ffb-8ff4f96f29c0"
      },
      "outputs": [],
      "source": [
        "nmax = 100\n",
        "\n",
        "def mandelbrot(c):\n",
        "    z=0\n",
        "    n=0\n",
        "    while abs(z)<= 2 and n < nmax:\n",
        "        z = z*z + c\n",
        "        n = n + 1\n",
        "\n",
        "    return n"
      ]
    },
    {
      "cell_type": "markdown",
      "id": "420376a7-be27-47fd-8b2f-fb5e60b110da",
      "metadata": {
        "id": "420376a7-be27-47fd-8b2f-fb5e60b110da"
      },
      "source": [
        "Now we need a function that creates the image. This is the same code as before just added to a function and we can pass the area in the complex plan we want to calculate."
      ]
    },
    {
      "cell_type": "code",
      "execution_count": null,
      "id": "cbc26676-b326-473b-90f2-3f62e9c1fe59",
      "metadata": {
        "id": "cbc26676-b326-473b-90f2-3f62e9c1fe59"
      },
      "outputs": [],
      "source": [
        "def mandelbrotImage(re_start,re_end,im_start,im_end,width,height):\n",
        "    # Creating an empty image\n",
        "    im = Image.new('L', (width, height))\n",
        "    draw = ImageDraw.Draw(im)\n",
        "\n",
        "    for x in range(width):\n",
        "        for y in range(height):\n",
        "            c = complex(re_start + (float(x) / width) * (re_end - re_start),\n",
        "                        im_start + (float(y) / height) * (im_end - im_start))\n",
        "            n = mandelbrot(c)\n",
        "            value = int(n / nmax * 255)\n",
        "            draw.point([x,y],value)\n",
        "\n",
        "    return im"
      ]
    },
    {
      "cell_type": "markdown",
      "id": "110ad0e8-78d9-441f-8c07-d3088e08835c",
      "metadata": {
        "id": "110ad0e8-78d9-441f-8c07-d3088e08835c"
      },
      "source": [
        "Next we need to create the frames for the animation. Here we pick a center spot and then zoom in by shrinking the ranges in x and y. We store the images in a list."
      ]
    },
    {
      "cell_type": "code",
      "execution_count": null,
      "id": "eb69dfc3-b089-453f-922b-86c48f50c51c",
      "metadata": {
        "id": "eb69dfc3-b089-453f-922b-86c48f50c51c"
      },
      "outputs": [],
      "source": [
        "# Desired image size\n",
        "width = 600\n",
        "height = 400\n",
        "\n",
        "# Zoom factor\n",
        "zoom = 0.8\n",
        "\n",
        "# Number of frames (caution this gets slow)\n",
        "nframes = 25\n",
        "\n",
        "# Center for Zoom\n",
        "re_center = -0.778\n",
        "im_center = 0.125\n",
        "\n",
        "re_start = re_center - 1.5\n",
        "re_end = re_center + 1.5\n",
        "im_start = im_center - 1.0\n",
        "im_end = im_center + 1.0\n",
        "\n",
        "# Empty list to store images\n",
        "images=[]\n",
        "\n",
        "for i in range(nframes):\n",
        "    images.append(mandelbrotImage(re_start,re_end,im_start,im_end,width,height))\n",
        "    print(f\"Number {i} - Finished range {re_start:.5f}, {re_end:.5f} to {im_start:.5f}, {im_end:.5f}\")\n",
        "\n",
        "    re_range = 0.5 * abs(re_end - re_start)\n",
        "    im_range = 0.5 * abs(im_end - im_start)\n",
        "\n",
        "    re_start = re_center - zoom * re_range\n",
        "    re_end   = re_center + zoom * re_range\n",
        "    im_start = im_center - zoom * im_range\n",
        "    im_end   = im_center + zoom * im_range"
      ]
    },
    {
      "cell_type": "markdown",
      "id": "44ee0858-31cd-4a32-a0fe-e755cbd4c7b1",
      "metadata": {
        "id": "44ee0858-31cd-4a32-a0fe-e755cbd4c7b1"
      },
      "source": [
        "Now we turn the images into frames and assemble the animation."
      ]
    },
    {
      "cell_type": "code",
      "execution_count": null,
      "id": "77a5071f-cff4-4344-9894-08ccc4a7dc66",
      "metadata": {
        "id": "77a5071f-cff4-4344-9894-08ccc4a7dc66"
      },
      "outputs": [],
      "source": [
        "plt.close() # Cleaning up\n",
        "\n",
        "frames = [] # for storing the generated images\n",
        "fig, ax = plt.subplots(figsize=(6,4))\n",
        "\n",
        "# Hide X and Y axes label marks\n",
        "ax.xaxis.set_tick_params(labelbottom=False)\n",
        "ax.yaxis.set_tick_params(labelleft=False)\n",
        "\n",
        "# Hide X and Y axes tick marks\n",
        "ax.set_xticks([])\n",
        "ax.set_yticks([])\n",
        "\n",
        "# Now loop over images to create the frames\n",
        "for im in images:\n",
        "    frames.append([plt.imshow(im, animated=True, cmap=colormap)])\n",
        "\n",
        "ani = animation.ArtistAnimation(fig, frames, interval=500, blit=False, repeat_delay=0)\n",
        "plt.show()\n",
        "\n",
        "@widgets.interact(run=True)\n",
        "def update(run):\n",
        "    ani.pause() if not run else ani.resume()"
      ]
    },
    {
      "cell_type": "markdown",
      "id": "43591985-8068-48c2-ac93-f800911f1cb4",
      "metadata": {
        "id": "43591985-8068-48c2-ac93-f800911f1cb4"
      },
      "source": [
        "ALl we have to do is save this wonderful movie ✨"
      ]
    },
    {
      "cell_type": "code",
      "execution_count": null,
      "id": "21f21947-31f0-47cf-b93a-c6ae8656b77a",
      "metadata": {
        "id": "21f21947-31f0-47cf-b93a-c6ae8656b77a"
      },
      "outputs": [],
      "source": [
        "ani.save('mandelbrot.mp4')"
      ]
    },
    {
      "cell_type": "code",
      "execution_count": null,
      "id": "27128d2e-4cbe-4f12-b9f0-e91d71b316b1",
      "metadata": {
        "id": "27128d2e-4cbe-4f12-b9f0-e91d71b316b1"
      },
      "outputs": [],
      "source": []
    }
  ],
  "metadata": {
    "kernelspec": {
      "display_name": "Python 3 (ipykernel)",
      "language": "python",
      "name": "python3"
    },
    "language_info": {
      "codemirror_mode": {
        "name": "ipython",
        "version": 3
      },
      "file_extension": ".py",
      "mimetype": "text/x-python",
      "name": "python",
      "nbconvert_exporter": "python",
      "pygments_lexer": "ipython3",
      "version": "3.9.7"
    },
    "colab": {
      "provenance": [],
      "include_colab_link": true
    }
  },
  "nbformat": 4,
  "nbformat_minor": 5
}