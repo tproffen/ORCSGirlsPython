{
  "cells": [
    {
      "cell_type": "markdown",
      "metadata": {
        "id": "view-in-github",
        "colab_type": "text"
      },
      "source": [
        "<a href=\"https://colab.research.google.com/github/tproffen/ORCSGirlsPython/blob/master/Numbers/Mandelbrot.ipynb\" target=\"_parent\"><img src=\"https://colab.research.google.com/assets/colab-badge.svg\" alt=\"Open In Colab\"/></a>"
      ]
    },
    {
      "cell_type": "code",
      "execution_count": null,
      "id": "ae5bed58-b902-4b6f-aeda-d8176ea32fbd",
      "metadata": {
        "id": "ae5bed58-b902-4b6f-aeda-d8176ea32fbd"
      },
      "outputs": [],
      "source": [
        "import matplotlib.pyplot as plt\n",
        "import matplotlib.animation as animation\n",
        "import numpy as np\n",
        "from PIL import Image, ImageDraw\n",
        "\n",
        "%matplotlib inline"
      ]
    },
    {
      "cell_type": "markdown",
      "id": "cecf7fce-3d0e-4043-a65a-6a1247b9c45a",
      "metadata": {
        "id": "cecf7fce-3d0e-4043-a65a-6a1247b9c45a"
      },
      "source": [
        "# Mandelbrot Set\n",
        "\n",
        "The equation to generate the well known Mandelbrot set is simply $z_{n+1}=z_{n}^2 + c$ where $c$ is a complex number. Complex numbers have a real and imaginary part and can be visualised in 2D - think of the real and imaginary parts as x and y. These numbers solve the issue with square roots of negative numbers by defining $i=sqrt(-1)$ and a complex number is simply $a+ib$. Here $a$ is the real part and $b$ the imaginary one.\n",
        "\n",
        "In Python we can create complex numbers with `c = complex(a,b)`."
      ]
    },
    {
      "cell_type": "markdown",
      "id": "9588a933-ce16-4ebc-9983-19e2c259cff2",
      "metadata": {
        "id": "9588a933-ce16-4ebc-9983-19e2c259cff2"
      },
      "source": [
        "#### Understanding the equation\n",
        "\n",
        "Here is the equation again: $z_{n+1}=z_{n}^2 + c$. To see of a point $c$ in the colplex plain belongs to the Mandelbrot set, we iterate over the equation - measning we start with z=0 and plug it in to calculate the next z. Then we plug that one in to calculate the next and so on. If z stays a finite number even after infinite iterations, that point c we used is part of the set, otherwise it is not.\n",
        "\n",
        "#### Creating a grey scale version\n",
        "\n",
        "Let's define a function `mandelbrot`. We pass c to it and then keep evaluating the equation as long as the value of z stays below 2 (we picked that somewhat randomly) AND the number of iterations is still below the maximum.\n",
        "\n",
        "So if the returned number of iterations is nmax, we know the value did not exceed 2, so the point c is part of the set. If n is less that nmax, the loop ended because the value was exceeding 2, so the point c is NOT part of the Mandelbrot set."
      ]
    },
    {
      "cell_type": "code",
      "execution_count": null,
      "id": "6096f919-0a2a-4e33-b2a6-ce09bcf9d849",
      "metadata": {
        "id": "6096f919-0a2a-4e33-b2a6-ce09bcf9d849"
      },
      "outputs": [],
      "source": [
        "nmax = 100\n",
        "\n",
        "def mandelbrot(c):\n",
        "    z=0\n",
        "    n=0\n",
        "    while abs(z)<= 2 and n < nmax:\n",
        "        z = z*z + c\n",
        "        n = n + 1\n",
        "\n",
        "    return n"
      ]
    },
    {
      "cell_type": "markdown",
      "id": "035508d4-b3e6-4583-88e7-c57de0cad7b2",
      "metadata": {
        "id": "035508d4-b3e6-4583-88e7-c57de0cad7b2"
      },
      "source": [
        "Now to make the beautiful images, we need to loop over x,y pixels of an image, convert the x,y to the values of the complex c and call the mandelbrot function. We then use the returned number of iterations n to set the color of the pixel."
      ]
    },
    {
      "cell_type": "markdown",
      "id": "fa0ed266-db32-4686-a14c-3f32b4dcc3c8",
      "metadata": {
        "id": "fa0ed266-db32-4686-a14c-3f32b4dcc3c8"
      },
      "source": [
        "#### Using a colormap\n",
        "\n",
        "In this case we create a grey scale image with just one number (0 to 255) per pixel. We can then use colormaps to translate the value to qa color when plotting."
      ]
    },
    {
      "cell_type": "code",
      "execution_count": null,
      "id": "87eac529-bb4c-432d-9c01-5d5a157c4bda",
      "metadata": {
        "id": "87eac529-bb4c-432d-9c01-5d5a157c4bda"
      },
      "outputs": [],
      "source": [
        "# Desired image size\n",
        "width = 1000\n",
        "height = 666\n",
        "\n",
        "# The range in the complex plane to map onto the image\n",
        "re_start = -2.0\n",
        "re_end = 1.0\n",
        "im_start = -1.0\n",
        "im_end = 1.0\n",
        "\n",
        "# Creating an empty image\n",
        "im = Image.new('L', (width, height), 0)\n",
        "draw = ImageDraw.Draw(im)\n",
        "\n",
        "for x in range(width):\n",
        "    for y in range(height):\n",
        "        c = complex(re_start + (float(x) / width) * (re_end - re_start),\n",
        "                    im_start + (float(y) / height) * (im_end - im_start))\n",
        "        n = mandelbrot(c)\n",
        "        value = int(n / nmax * 255)\n",
        "        draw.point([x,y],value)"
      ]
    },
    {
      "cell_type": "markdown",
      "id": "f191e90b-2598-45f6-adc7-689d59ddf012",
      "metadata": {
        "id": "f191e90b-2598-45f6-adc7-689d59ddf012"
      },
      "source": [
        "Note that we are using matplotlib to show the image now and get coordinate axes. We can specify the ranges for x and y as argument, so the coordinates are now the complex values rather than the pixel values."
      ]
    },
    {
      "cell_type": "code",
      "execution_count": null,
      "id": "92549549-60c7-4d7e-a623-41771715604d",
      "metadata": {
        "id": "92549549-60c7-4d7e-a623-41771715604d"
      },
      "outputs": [],
      "source": [
        "colormap = 'viridis'\n",
        "\n",
        "plt.style.use('dark_background')\n",
        "fig, ax = plt.subplots(figsize=(10,6))\n",
        "plt.xlabel('Real')\n",
        "plt.ylabel('Imaginary')\n",
        "\n",
        "ax.imshow(im, cmap=colormap, extent=[re_start,re_end,im_start,im_end])"
      ]
    },
    {
      "cell_type": "markdown",
      "id": "6bb0c6a6-9d3a-4cc6-bb89-cd827d2ab0a0",
      "metadata": {
        "id": "6bb0c6a6-9d3a-4cc6-bb89-cd827d2ab0a0"
      },
      "source": [
        "In the code above you can replace the colormap name with on of these and rerun the cell:\n",
        "\n",
        "> 'Accent', 'Accent_r', 'Blues', 'Blues_r', 'BrBG', 'BrBG_r', 'BuGn', 'BuGn_r', 'BuPu', 'BuPu_r', 'CMRmap', 'CMRmap_r', 'Dark2', 'Dark2_r', 'GnBu', 'GnBu_r', 'Greens', 'Greens_r', 'Greys', 'Greys_r', 'OrRd', 'OrRd_r', 'Oranges', 'Oranges_r', 'PRGn', 'PRGn_r', 'Paired', 'Paired_r', 'Pastel1', 'Pastel1_r', 'Pastel2', 'Pastel2_r', 'PiYG', 'PiYG_r', 'PuBu', 'PuBuGn', 'PuBuGn_r', 'PuBu_r', 'PuOr', 'PuOr_r', 'PuRd', 'PuRd_r', 'Purples', 'Purples_r', 'RdBu', 'RdBu_r', 'RdGy', 'RdGy_r', 'RdPu', 'RdPu_r', 'RdYlBu', 'RdYlBu_r', 'RdYlGn', 'RdYlGn_r', 'Reds', 'Reds_r', 'Set1', 'Set1_r', 'Set2', 'Set2_r', 'Set3', 'Set3_r', 'Spectral', 'Spectral_r', 'Wistia', 'Wistia_r', 'YlGn', 'YlGnBu', 'YlGnBu_r', 'YlGn_r', 'YlOrBr', 'YlOrBr_r', 'YlOrRd', 'YlOrRd_r', 'afmhot', 'afmhot_r', 'autumn', 'autumn_r', 'binary', 'binary_r', 'bone', 'bone_r', 'brg', 'brg_r', 'bwr', 'bwr_r', 'cividis', 'cividis_r', 'cool', 'cool_r', 'coolwarm', 'coolwarm_r', 'copper', 'copper_r', 'cubehelix', 'cubehelix_r', 'flag', 'flag_r', 'gist_earth', 'gist_earth_r', 'gist_gray', 'gist_gray_r', 'gist_heat', 'gist_heat_r', 'gist_ncar', 'gist_ncar_r', 'gist_rainbow', 'gist_rainbow_r', 'gist_stern', 'gist_stern_r', 'gist_yarg', 'gist_yarg_r', 'gnuplot', 'gnuplot2', 'gnuplot2_r', 'gnuplot_r', 'gray', 'gray_r', 'hot', 'hot_r', 'hsv', 'hsv_r', 'inferno', 'inferno_r', 'jet', 'jet_r', 'magma', 'magma_r', 'nipy_spectral', 'nipy_spectral_r', 'ocean', 'ocean_r', 'pink', 'pink_r', 'plasma', 'plasma_r', 'prism', 'prism_r', 'rainbow', 'rainbow_r', 'seismic', 'seismic_r', 'spring', 'spring_r', 'summer', 'summer_r', 'tab10', 'tab10_r', 'tab20', 'tab20_r', 'tab20b', 'tab20b_r', 'tab20c', 'tab20c_r', 'terrain', 'terrain_r', 'turbo', 'turbo_r', 'twilight', 'twilight_r', 'twilight_shifted', 'twilight_shifted_r', 'viridis', 'viridis_r', 'winter', 'winter_r'\n",
        "\n",
        "Finally we can save the image to a file."
      ]
    },
    {
      "cell_type": "code",
      "execution_count": null,
      "id": "13776362-1e0f-40b8-997a-ac576f6609d8",
      "metadata": {
        "id": "13776362-1e0f-40b8-997a-ac576f6609d8"
      },
      "outputs": [],
      "source": [
        "plt.savefig(\"Pretty.png\")"
      ]
    }
  ],
  "metadata": {
    "kernelspec": {
      "display_name": "Python 3 (ipykernel)",
      "language": "python",
      "name": "python3"
    },
    "language_info": {
      "codemirror_mode": {
        "name": "ipython",
        "version": 3
      },
      "file_extension": ".py",
      "mimetype": "text/x-python",
      "name": "python",
      "nbconvert_exporter": "python",
      "pygments_lexer": "ipython3",
      "version": "3.9.7"
    },
    "colab": {
      "provenance": [],
      "include_colab_link": true
    }
  },
  "nbformat": 4,
  "nbformat_minor": 5
}