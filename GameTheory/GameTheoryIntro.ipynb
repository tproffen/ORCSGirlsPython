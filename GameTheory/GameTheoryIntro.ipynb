{
  "nbformat": 4,
  "nbformat_minor": 0,
  "metadata": {
    "colab": {
      "private_outputs": true,
      "provenance": [],
      "authorship_tag": "ABX9TyOHeHc+9hr3rtAGUiQ0rQ5p",
      "include_colab_link": true
    },
    "kernelspec": {
      "name": "python3",
      "display_name": "Python 3"
    },
    "language_info": {
      "name": "python"
    }
  },
  "cells": [
    {
      "cell_type": "markdown",
      "metadata": {
        "id": "view-in-github",
        "colab_type": "text"
      },
      "source": [
        "<a href=\"https://colab.research.google.com/github/tproffen/ORCSGirlsPython/blob/master/GameTheory/GameTheoryIntro.ipynb\" target=\"_parent\"><img src=\"https://colab.research.google.com/assets/colab-badge.svg\" alt=\"Open In Colab\"/></a>"
      ]
    },
    {
      "cell_type": "markdown",
      "source": [
        "## Game Theory\n",
        "\n",
        "Playing around with the `axelrod` library and ideas for a Game Theory class. Insipred by <a href=\"https://youtu.be/mScpHTIi-kM \">this video</a>."
      ],
      "metadata": {
        "id": "GtS53rM7x7lW"
      }
    },
    {
      "cell_type": "code",
      "execution_count": null,
      "metadata": {
        "id": "3UvkrMkNx53u"
      },
      "outputs": [],
      "source": [
        "# Install and include interactive (human) player.\n",
        "!pip install axelrod[human]"
      ]
    },
    {
      "cell_type": "code",
      "source": [
        "import axelrod as axl"
      ],
      "metadata": {
        "id": "k1HbKKZiyqCo"
      },
      "execution_count": null,
      "outputs": []
    },
    {
      "cell_type": "markdown",
      "source": [
        "For example, to create a 5 turn match between `Cooperator` and `Alternator`\n",
        "All examples from https://axelrod.readthedocs.io/en/stable/tutorials/index.html"
      ],
      "metadata": {
        "id": "kB7azKnkygyJ"
      }
    },
    {
      "cell_type": "code",
      "source": [
        "players = (axl.Cooperator(), axl.Alternator())\n",
        "match = axl.Match(players, 5)\n",
        "match.play()"
      ],
      "metadata": {
        "id": "8HMLZwz7yRjl"
      },
      "execution_count": null,
      "outputs": []
    },
    {
      "cell_type": "markdown",
      "source": [
        "The result of the match is held as an attribute within the Match class. Each time `play()` is called, it will overwrite the content of that attribute:"
      ],
      "metadata": {
        "id": "j3SpUzUBy8lj"
      }
    },
    {
      "cell_type": "code",
      "source": [
        "match.result"
      ],
      "metadata": {
        "id": "yZ1TKJLXyvnd"
      },
      "execution_count": null,
      "outputs": []
    },
    {
      "cell_type": "code",
      "source": [
        "match.play()"
      ],
      "metadata": {
        "id": "11lAtbq_zAnM"
      },
      "execution_count": null,
      "outputs": []
    },
    {
      "cell_type": "markdown",
      "source": [
        "Visualizing .."
      ],
      "metadata": {
        "id": "lpjPWYoWzRNF"
      }
    },
    {
      "cell_type": "code",
      "source": [
        "match = axl.Match(players, 25)\n",
        "match.play()\n",
        "print(match.sparklines())"
      ],
      "metadata": {
        "id": "JNiPcmj5zFj0"
      },
      "execution_count": null,
      "outputs": []
    },
    {
      "cell_type": "markdown",
      "source": [
        "Looking at the results."
      ],
      "metadata": {
        "id": "BsN0PCfgzgsJ"
      }
    },
    {
      "cell_type": "code",
      "source": [
        "match.final_score()"
      ],
      "metadata": {
        "id": "HCmNwhw3zWAU"
      },
      "execution_count": null,
      "outputs": []
    },
    {
      "cell_type": "code",
      "source": [
        "match.final_score_per_turn()"
      ],
      "metadata": {
        "id": "UeDX94jNzoRF"
      },
      "execution_count": null,
      "outputs": []
    },
    {
      "cell_type": "code",
      "source": [
        "match.winner()"
      ],
      "metadata": {
        "id": "8ldpCoelzqDU"
      },
      "execution_count": null,
      "outputs": []
    },
    {
      "cell_type": "code",
      "source": [
        "match.cooperation()  # The count of cooperations"
      ],
      "metadata": {
        "id": "T_8zfkevzrQF"
      },
      "execution_count": null,
      "outputs": []
    },
    {
      "cell_type": "code",
      "source": [
        "match.normalised_cooperation()  # The count of cooperations per turn"
      ],
      "metadata": {
        "id": "GM0tr4G7ztEk"
      },
      "execution_count": null,
      "outputs": []
    },
    {
      "cell_type": "markdown",
      "source": [
        "### Tournament"
      ],
      "metadata": {
        "id": "04-J8L7dAe-2"
      }
    },
    {
      "cell_type": "code",
      "source": [
        "players = [axl.Cooperator(), axl.Defector(), axl.TitForTat(), axl.Grudger()]\n",
        "players.append(axl.Random())\n",
        "tournament = axl.Tournament(players)\n",
        "results = tournament.play()"
      ],
      "metadata": {
        "id": "saQZXSKpASvr"
      },
      "execution_count": null,
      "outputs": []
    },
    {
      "cell_type": "code",
      "source": [
        "plot = axl.Plot(results)\n",
        "p = plot.boxplot()\n",
        "p.show()"
      ],
      "metadata": {
        "id": "6EYzz4W3zvmE"
      },
      "execution_count": null,
      "outputs": []
    },
    {
      "cell_type": "code",
      "source": [
        "# Winner plot\n",
        "p = plot.winplot()\n",
        "p.show()"
      ],
      "metadata": {
        "id": "YilIlOyYA94Y"
      },
      "execution_count": null,
      "outputs": []
    },
    {
      "cell_type": "code",
      "source": [
        " # Payoff matrix\n",
        " p = plot.payoff()\n",
        " p.show()"
      ],
      "metadata": {
        "id": "hwMiTf_ABE4P"
      },
      "execution_count": null,
      "outputs": []
    },
    {
      "cell_type": "code",
      "source": [],
      "metadata": {
        "id": "J2Q_685xBOvf"
      },
      "execution_count": null,
      "outputs": []
    }
  ]
}