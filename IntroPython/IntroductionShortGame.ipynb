{
  "nbformat": 4,
  "nbformat_minor": 0,
  "metadata": {
    "colab": {
      "name": "IntoductionShortGame.ipynb",
      "provenance": [],
      "include_colab_link": true
    },
    "kernelspec": {
      "display_name": "Python 3",
      "language": "python",
      "name": "python3"
    }
  },
  "cells": [
    {
      "cell_type": "markdown",
      "metadata": {
        "id": "view-in-github",
        "colab_type": "text"
      },
      "source": [
        "<a href=\"https://colab.research.google.com/github/tproffen/ORCSGirlsPython/blob/master/IntroPython/IntroductionShortGame.ipynb\" target=\"_parent\"><img src=\"https://colab.research.google.com/assets/colab-badge.svg\" alt=\"Open In Colab\"/></a>"
      ]
    },
    {
      "cell_type": "markdown",
      "metadata": {
        "id": "Rk48Ab5CzRsE"
      },
      "source": [
        "<img src=\"https://github.com/tproffen/ORCSGirlsPython/blob/master/Images/Logo.png?raw=1\" width=\"10%\" align=\"right\" hpsace=\"50\">\n",
        "\n",
        "# Introduction to Python\n",
        "\n",
        "## Activity: Getting to know Python\n",
        "\n",
        "In this section, you are going to learn about basic *Python* commands.\n",
        "Follow along and enter your commands below. Remember to press `shift+return` to execute a command. Let's try the command below. Go into the cell and press `Shift+Return` or clock the play button on the left."
      ]
    },
    {
      "cell_type": "code",
      "metadata": {
        "id": "ULXBzg_hHbuj"
      },
      "source": [
        "print (\"Welcome to the Python Introduction\")"
      ],
      "execution_count": null,
      "outputs": []
    },
    {
      "cell_type": "markdown",
      "metadata": {
        "collapsed": true,
        "id": "0FxJvHJWzRsH"
      },
      "source": [
        "### Checking the *variables* activity\n",
        "\n",
        "In the cell below, enter the set of equations we used in the exercise.\n",
        "\n",
        "<img src=\"https://github.com/tproffen/ORCSGirlsPython/blob/master/Images/Eqns.png?raw=1\" width=\"25%\" align=\"center\">"
      ]
    },
    {
      "cell_type": "code",
      "metadata": {
        "id": "kcvOWjIUzRsI"
      },
      "source": [
        "x=1\n",
        "y=3"
      ],
      "execution_count": null,
      "outputs": []
    },
    {
      "cell_type": "markdown",
      "metadata": {
        "id": "kJKXmvt2zRsP"
      },
      "source": [
        "When executing the cell, nothing is printed and we need to add a command to print the results. We have used `print` before, so the easiest is\n",
        "\n",
        "> `print (x,y,z)`\n",
        "\n",
        "or we can be more fancy, for example\n",
        "\n",
        "> `print (\"Value of x is\", x)`\n",
        "\n",
        "Add code below to print the values of `x`, `y` and `z`."
      ]
    },
    {
      "cell_type": "code",
      "metadata": {
        "id": "7qFZKSw_zRsP"
      },
      "source": [],
      "execution_count": null,
      "outputs": []
    },
    {
      "cell_type": "markdown",
      "metadata": {
        "id": "VGQ8f1wNzRsS"
      },
      "source": [
        "### Python Basics\n",
        "\n",
        "In this section, please follow along with the instructor.\n",
        "\n",
        "#### Variables\n",
        "\n",
        "Variables come in different types. Looking at the example below, what type on variable (or information) is stored?"
      ]
    },
    {
      "cell_type": "code",
      "metadata": {
        "id": "gjpRb9V5zRsT"
      },
      "source": [
        "number = 5\n",
        "cost = 1.25\n",
        "name =\"Thomas\"\n",
        "awesome = True"
      ],
      "execution_count": null,
      "outputs": []
    },
    {
      "cell_type": "markdown",
      "metadata": {
        "id": "53MIqRbBu0ND"
      },
      "source": [
        "Now we can check the type using the command ``type``."
      ]
    },
    {
      "cell_type": "code",
      "metadata": {
        "id": "v56dH8PUzRsW"
      },
      "source": [
        "type(number)"
      ],
      "execution_count": null,
      "outputs": []
    },
    {
      "cell_type": "code",
      "metadata": {
        "id": "EQ8AA1w3zRsZ"
      },
      "source": [
        "type (cost)"
      ],
      "execution_count": null,
      "outputs": []
    },
    {
      "cell_type": "code",
      "metadata": {
        "id": "j3U4wZ6TzRsb"
      },
      "source": [
        "type(name)"
      ],
      "execution_count": null,
      "outputs": []
    },
    {
      "cell_type": "code",
      "metadata": {
        "id": "pS4xRdKwzRse"
      },
      "source": [
        "type(awesome)"
      ],
      "execution_count": null,
      "outputs": []
    },
    {
      "cell_type": "markdown",
      "metadata": {
        "id": "CsJPRjMdu8Hq"
      },
      "source": [
        "What about this example?"
      ]
    },
    {
      "cell_type": "code",
      "metadata": {
        "id": "aa5zV1-lzRsi"
      },
      "source": [
        "number=\"3\""
      ],
      "execution_count": null,
      "outputs": []
    },
    {
      "cell_type": "code",
      "metadata": {
        "id": "P3c0y4vKzRsl"
      },
      "source": [
        "type(number)"
      ],
      "execution_count": null,
      "outputs": []
    },
    {
      "cell_type": "code",
      "metadata": {
        "id": "CG-48P3MzRso"
      },
      "source": [
        "number=int(number)\n",
        "type(number)"
      ],
      "execution_count": null,
      "outputs": []
    },
    {
      "cell_type": "markdown",
      "metadata": {
        "id": "efuRcr7LvCNP"
      },
      "source": [
        "#### Reading input from user\n",
        "\n",
        "Beware that Python returns a ``string`` when using the ``input`` command. This can be trouble when wanting to read a number. Luckily we know how to convert between types 😀. See example below. Run it."
      ]
    },
    {
      "cell_type": "code",
      "metadata": {
        "id": "Vq6FOMEizRsq"
      },
      "source": [
        "name = input(\"what is your name? \")"
      ],
      "execution_count": null,
      "outputs": []
    },
    {
      "cell_type": "code",
      "metadata": {
        "id": "PGyu7mM6zRss"
      },
      "source": [
        "print(name)"
      ],
      "execution_count": null,
      "outputs": []
    },
    {
      "cell_type": "code",
      "metadata": {
        "id": "8wUc26cqzRsu"
      },
      "source": [
        "type(name)"
      ],
      "execution_count": null,
      "outputs": []
    },
    {
      "cell_type": "code",
      "metadata": {
        "id": "4P-RF924zRsx"
      },
      "source": [
        "number = input (\"Give number:\")\n",
        "print (number)\n",
        "type(number)\n",
        "number=int(number)\n",
        "type(number)"
      ],
      "execution_count": null,
      "outputs": []
    },
    {
      "cell_type": "markdown",
      "metadata": {
        "id": "Pu8DwA20vhpH"
      },
      "source": [
        "#### Conditional statements\n",
        "\n",
        "Note the ``:`` at the end of ``if`` and ``else``. Also every line of Python that is part of the ``if`` or ``else`` needs to be indented. This is a *Python speciality*."
      ]
    },
    {
      "cell_type": "code",
      "metadata": {
        "id": "7Oz3MA2OzRsz"
      },
      "source": [
        "age = 21\n",
        "\n",
        "if age < 18:\n",
        "    print(\"You are too young\")\n",
        "else:\n",
        "    print(\"Go vote\")\n",
        ""
      ],
      "execution_count": null,
      "outputs": []
    },
    {
      "cell_type": "markdown",
      "metadata": {
        "id": "GHjQkSXOv8_p"
      },
      "source": [
        "☝️☝️ Change the code above, the the program asks for the age using ``input``. Remember you need to turn it into a number first.\n",
        "\n",
        "#### Loops\n",
        "\n",
        "Like before, note the `:` at the end of the `for` line. All commands to be executed as part of the loop need to be indented."
      ]
    },
    {
      "cell_type": "code",
      "metadata": {
        "id": "o2S-P6SrzRs8"
      },
      "source": [
        "for index in range (0,10):\n",
        "  print (index)"
      ],
      "execution_count": null,
      "outputs": []
    },
    {
      "cell_type": "markdown",
      "metadata": {
        "id": "josFhEl6wfVM"
      },
      "source": [
        "☝️☝️ What is the first and last number printed. Change the loop to show numbers from 1 to 6.\n",
        "\n",
        "This was a `for` loop which will run a defined number of times. Another type of loop will execute while a condition s true - it's called a `while` loop. Here is an example - note the `:` and indentations like before.**bold text**"
      ]
    },
    {
      "cell_type": "code",
      "metadata": {
        "id": "bNBmMJcAFPfa"
      },
      "source": [
        "number = 10\n",
        "\n",
        "while number > 0:\n",
        "  print (number)\n",
        "  number = number - 1"
      ],
      "execution_count": null,
      "outputs": []
    },
    {
      "cell_type": "markdown",
      "metadata": {
        "id": "0DbPIpNLvzWe"
      },
      "source": [
        "☝️☝️ Can you change the code, so the number reduces by 2 every step?\n",
        "\n",
        "#### Lists\n",
        "\n",
        "If you want Python to remember several things (like several names) you can use **lists**. Lists are created with squared brackets: `[` and `]`. Let's create a list:"
      ]
    },
    {
      "cell_type": "code",
      "metadata": {
        "id": "n3hCxfj3vzWg"
      },
      "source": [
        "names = [\"Harry\", \"Ron\", \"Hermione\", \"Hagrid\"]\n",
        "\n",
        "print(names)"
      ],
      "execution_count": null,
      "outputs": []
    },
    {
      "cell_type": "markdown",
      "metadata": {
        "id": "0DGEM6mLvzWl"
      },
      "source": [
        "Lists can also contain numbers:"
      ]
    },
    {
      "cell_type": "code",
      "metadata": {
        "id": "HDuuqwrrvzWm"
      },
      "source": [
        "numbers = [10, 11, 12, 13]"
      ],
      "execution_count": null,
      "outputs": []
    },
    {
      "cell_type": "markdown",
      "metadata": {
        "id": "KLOuSqRPvzWo"
      },
      "source": [
        "You can access a member of a list, you can use its sequence number. The first member has number 0, second is number 1, third is number 2 and so on (notice the numbers start from zero). This is what you would do to access the third member:"
      ]
    },
    {
      "cell_type": "code",
      "metadata": {
        "id": "U9u_7bMdvzWp"
      },
      "source": [
        "print(names[2]) # numbering starts from zero, so the third member can be accessed with number 2\n",
        "\n",
        "print(numbers[1])"
      ],
      "execution_count": null,
      "outputs": []
    },
    {
      "cell_type": "markdown",
      "metadata": {
        "id": "UnLhl0S2vzWr"
      },
      "source": [
        "Lists are not static, you can add to them. When you add to a list, the new member is also put at the end:"
      ]
    },
    {
      "cell_type": "code",
      "metadata": {
        "id": "OhUIQFM_vzWs"
      },
      "source": [
        "names.append(\"Dumbledore\")\n",
        "\n",
        "print(names)"
      ],
      "execution_count": null,
      "outputs": []
    },
    {
      "cell_type": "markdown",
      "metadata": {
        "id": "qo5r05Z1vzWv"
      },
      "source": [
        "Can you add your name to the list?"
      ]
    },
    {
      "cell_type": "code",
      "metadata": {
        "id": "TNvB1embvzWv"
      },
      "source": [],
      "execution_count": null,
      "outputs": []
    },
    {
      "cell_type": "markdown",
      "metadata": {
        "id": "hxMG9o3DzVa6"
      },
      "source": [
        "Finally we want to print `Hello, name` for each name on the list. We can use a `for` loop as shown below."
      ]
    },
    {
      "cell_type": "code",
      "metadata": {
        "id": "q7ryJlsozirG"
      },
      "source": [
        "for name in names:\n",
        "    print(\"Hello,\", name)"
      ],
      "execution_count": null,
      "outputs": []
    },
    {
      "cell_type": "markdown",
      "metadata": {
        "id": "tEDniXK1DtBa"
      },
      "source": [
        "#### Functions\n",
        "\n",
        "One last thing we will need is the use of functions. A function is basically a set of comments that can be called simply by calling the function. You can pass variables to functions like in the example below.\n",
        "\n",
        "A function is defined using the `def` command bollowed by the function name and any possible parameters and the famous `:` at the end. All commands belonging to the function need to be indented. Let's do it."
      ]
    },
    {
      "cell_type": "code",
      "metadata": {
        "id": "d18QqEyyENQZ"
      },
      "source": [
        "# Here we define the function to welcome someone. The parameter passed is the name.\n",
        "\n",
        "def sayhello(name):\n",
        "  print ('-----------------------------')\n",
        "  print (name)\n",
        "  print ('-----------------------------')\n",
        "\n",
        "# Now we call is for different people\n",
        "\n",
        "sayhello(\"Alex\")\n",
        "sayhello(\"Wonderwoman\")"
      ],
      "execution_count": null,
      "outputs": []
    },
    {
      "cell_type": "markdown",
      "metadata": {
        "collapsed": true,
        "id": "l640q3_0zRs_"
      },
      "source": [
        "**Whoohoo you have the Python basics down now.**\n",
        "\n",
        "Let's put them to the test and create a number guessing game.\n",
        "\n",
        "# Your turn\n",
        "\n",
        "**Wait until we discussed the game before starting!**\n",
        "\n",
        "<hr>\n",
        "<img src=\"https://github.com/tproffen/ORCSGirlsPython/blob/master/Images/GuessNumber.png?raw=1\" width=\"75%\" align=\"center\" vspace=\"25\">\n",
        "\n",
        "Now we create our first game and Python will ask you to guess a secret number. Here are the steps\n",
        "\n",
        "* Create a random secret number\n",
        "* Ask user to guess number\n",
        "* Tell user if the guess is too high or too low.\n",
        "* End game when user guesses number correctly.\n",
        "* Print ‘winning’ message number of attempts.\n",
        "\n",
        "You will need a new command to create the random (secret number). The command\n",
        "\n",
        "> `secret = random.randint(0,20)`\n",
        "\n",
        "will create a random number between `0` and `20`. Code yur game below. We already added the code to import the `random` commands.\n"
      ]
    },
    {
      "cell_type": "code",
      "metadata": {
        "id": "_1lBV0UfzRtB"
      },
      "source": [
        "import random"
      ],
      "execution_count": null,
      "outputs": []
    },
    {
      "cell_type": "code",
      "metadata": {
        "id": "UYHqNxFPycjb"
      },
      "source": [
        "# Your game goes here.\n",
        "\n"
      ],
      "execution_count": null,
      "outputs": []
    }
  ]
}