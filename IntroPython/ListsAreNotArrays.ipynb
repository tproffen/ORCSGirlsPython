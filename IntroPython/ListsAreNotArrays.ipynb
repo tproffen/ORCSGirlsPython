{
  "nbformat": 4,
  "nbformat_minor": 0,
  "metadata": {
    "colab": {
      "private_outputs": true,
      "provenance": [],
      "authorship_tag": "ABX9TyOC7iByJszFzIfdFst1XeoX",
      "include_colab_link": true
    },
    "kernelspec": {
      "name": "python3",
      "display_name": "Python 3"
    },
    "language_info": {
      "name": "python"
    }
  },
  "cells": [
    {
      "cell_type": "markdown",
      "metadata": {
        "id": "view-in-github",
        "colab_type": "text"
      },
      "source": [
        "<a href=\"https://colab.research.google.com/github/tproffen/ORCSGirlsPython/blob/master/IntroPython/ListsAreNotArrays.ipynb\" target=\"_parent\"><img src=\"https://colab.research.google.com/assets/colab-badge.svg\" alt=\"Open In Colab\"/></a>"
      ]
    },
    {
      "cell_type": "code",
      "execution_count": null,
      "metadata": {
        "id": "Yf4M2KQqZXXa"
      },
      "outputs": [],
      "source": [
        "template=[1,2]\n",
        "template2=[1,2]\n",
        "matrix=[template,template2]\n",
        "print (matrix)"
      ]
    },
    {
      "cell_type": "code",
      "source": [
        "matrix[1][1]=99"
      ],
      "metadata": {
        "id": "zOvw5xUNZeFP"
      },
      "execution_count": null,
      "outputs": []
    },
    {
      "cell_type": "code",
      "source": [
        "print (matrix)"
      ],
      "metadata": {
        "id": "mvCqESikZhv2"
      },
      "execution_count": null,
      "outputs": []
    },
    {
      "cell_type": "code",
      "source": [
        "import numpy as np"
      ],
      "metadata": {
        "id": "ky1QQemhZub3"
      },
      "execution_count": null,
      "outputs": []
    },
    {
      "cell_type": "code",
      "source": [
        "template=[1,2]\n",
        "matrix=np.array([template,template])\n",
        "print (matrix)"
      ],
      "metadata": {
        "id": "MT_6HR52aDbP"
      },
      "execution_count": null,
      "outputs": []
    },
    {
      "cell_type": "code",
      "source": [
        "matrix[0][0]=99"
      ],
      "metadata": {
        "id": "x4Jt5sjUaG3e"
      },
      "execution_count": null,
      "outputs": []
    },
    {
      "cell_type": "code",
      "source": [
        "print (matrix)"
      ],
      "metadata": {
        "id": "51VrhGwtaL2-"
      },
      "execution_count": null,
      "outputs": []
    }
  ]
}