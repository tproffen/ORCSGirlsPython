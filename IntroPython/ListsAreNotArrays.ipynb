{
  "nbformat": 4,
  "nbformat_minor": 0,
  "metadata": {
    "colab": {
      "private_outputs": true,
      "provenance": [],
      "authorship_tag": "ABX9TyNbbw3PjJfVSvBhQX+uTt4S",
      "include_colab_link": true
    },
    "kernelspec": {
      "name": "python3",
      "display_name": "Python 3"
    },
    "language_info": {
      "name": "python"
    }
  },
  "cells": [
    {
      "cell_type": "markdown",
      "metadata": {
        "id": "view-in-github",
        "colab_type": "text"
      },
      "source": [
        "<a href=\"https://colab.research.google.com/github/tproffen/ORCSGirlsPython/blob/master/IntroPython/ListsAreNotArrays.ipynb\" target=\"_parent\"><img src=\"https://colab.research.google.com/assets/colab-badge.svg\" alt=\"Open In Colab\"/></a>"
      ]
    },
    {
      "cell_type": "markdown",
      "source": [
        "## Lists are not Arrays\n",
        "\n",
        "Often we use lists in Python and think of them as arrays, but they are not and there are some pitfalls - which I know too well after debugging of some code I wrote (for those who know - related to the 8-Bit Computer)"
      ],
      "metadata": {
        "id": "Cd6i2mZUkDg4"
      }
    },
    {
      "cell_type": "code",
      "source": [
        "# Let's create a simple 2D matrix\n",
        "\n",
        "matrix=[[1,2],[3,4]]\n",
        "print(matrix)"
      ],
      "metadata": {
        "id": "OjAy2nRIkm0i"
      },
      "execution_count": null,
      "outputs": []
    },
    {
      "cell_type": "code",
      "source": [
        "# As expected. Now let's change one element and print it again\n",
        "\n",
        "matrix[0][0]=99\n",
        "print(matrix)"
      ],
      "metadata": {
        "id": "Ff8jKQZtk5E6"
      },
      "execution_count": null,
      "outputs": []
    },
    {
      "cell_type": "code",
      "source": [
        "# Let's make the matrix a different way ad try again.\n",
        "# This comes from the code I was debugging where a template was used\n",
        "# to make the list and then certain elements were updated\n",
        "\n",
        "template=[7,8]\n",
        "matrix=[template, template]\n",
        "print(matrix)"
      ],
      "metadata": {
        "id": "kbQ-W6SIlK8j"
      },
      "execution_count": null,
      "outputs": []
    },
    {
      "cell_type": "code",
      "source": [
        "# So far so good, now we will change element [0][0] as before\n",
        "\n",
        "matrix[0][0]=99\n",
        "print(matrix)"
      ],
      "metadata": {
        "id": "uAfEbhOMlhCl"
      },
      "execution_count": null,
      "outputs": []
    },
    {
      "cell_type": "markdown",
      "source": [
        "#What 😨?\n",
        "\n",
        "Here is the issue, it modified the entire column not just the one element. This has to do with how Python implements lists, it stores a **reference** not the value. Native Python does not have arrays - but we can use `numpy` 🎉"
      ],
      "metadata": {
        "id": "kuGW13rLlvc4"
      }
    },
    {
      "cell_type": "code",
      "source": [
        "# Easy fix using numpy\n",
        "\n",
        "import numpy as np\n",
        "\n",
        "template=[7,8]\n",
        "matrix=np.array([template, template])\n",
        "print(matrix)"
      ],
      "metadata": {
        "id": "AwyrzkFBl2eg"
      },
      "execution_count": null,
      "outputs": []
    },
    {
      "cell_type": "code",
      "source": [
        "# Note the printout looks different using multiple rows\n",
        "# Let's modify as before and see\n",
        "\n",
        "matrix[0][0]=99\n",
        "print(matrix)"
      ],
      "metadata": {
        "id": "5S39uCxSmmOJ"
      },
      "execution_count": null,
      "outputs": []
    },
    {
      "cell_type": "markdown",
      "source": [
        "# The End 🎉"
      ],
      "metadata": {
        "id": "UHMDaot_mynn"
      }
    },
    {
      "cell_type": "code",
      "source": [],
      "metadata": {
        "id": "xaadjrXGmwQ6"
      },
      "execution_count": null,
      "outputs": []
    }
  ]
}