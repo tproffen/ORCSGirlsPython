{
  "nbformat": 4,
  "nbformat_minor": 0,
  "metadata": {
    "colab": {
      "name": "KochSnowflakeSolution.ipynb",
      "provenance": [],
      "include_colab_link": true
    },
    "kernelspec": {
      "display_name": "Python 3",
      "language": "python",
      "name": "python3"
    }
  },
  "cells": [
    {
      "cell_type": "markdown",
      "metadata": {
        "id": "view-in-github",
        "colab_type": "text"
      },
      "source": [
        "<a href=\"https://colab.research.google.com/github/tproffen/ORCSGirlsPython/blob/master/Fractals/KochSnowflakeSolution.ipynb\" target=\"_parent\"><img src=\"https://colab.research.google.com/assets/colab-badge.svg\" alt=\"Open In Colab\"/></a>"
      ]
    },
    {
      "cell_type": "markdown",
      "metadata": {
        "id": "OJTK0vIDpw1q"
      },
      "source": [
        "<img src=\"https://github.com/tproffen/ORCSGirlsPython/blob/master/Images/Logo.png?raw=1\" width=\"10%\" align=\"right\" hpsace=\"50\">\n",
        "\n",
        "# Beauty of Fractals\n",
        "\n",
        "## Activity: Make a Koch Snowflake - Solution\n",
        "\n",
        "Let us make a Koch Snowflake from scratch. Please make sure you run the cell with the setup commands below before running any other code in this notebook."
      ]
    },
    {
      "cell_type": "code",
      "metadata": {
        "id": "kBxoXL4tqIDq"
      },
      "source": [
        "!curl -s -o setup.sh https://raw.githubusercontent.com/tproffen/ORCSGirlsPython/master/Fractals/Helpers/setup_activity1.sh\n",
        "!bash setup.sh\n",
        "from Helpers.helpers import *"
      ],
      "execution_count": null,
      "outputs": []
    },
    {
      "cell_type": "markdown",
      "metadata": {
        "id": "ewhYZZS8_Gqr"
      },
      "source": [
        "\n",
        "### Some background\n",
        "\n",
        "<img src=\"https://python-with-science.readthedocs.io/en/latest/_images/koch_order_1.png\" align=\"right\" height=\"60%\">\n",
        "\n",
        "The Koch Snowflake is an example of a fractal. While the curves we have done so far are given by equations, these fractals are described by an algorithm and use *recursion* - in other words the function calls itself. More details are [here](https://python-with-science.readthedocs.io/en/latest/koch_fractal/koch_fractal.html) and much more detail is [here](http://paulbourke.net/fractals/fracintro/).\n",
        "\n",
        "### Let's do it\n",
        "\n",
        "In our first step, we want to create a 'line with a blip' as building block for the snowflake. The geometry shown on the image helps us setting up the turtle commands. We will define a function with two parameters: `size` which will be the length of the line and `order` which for now will be 0 for a straight line and 1 to get a line with a blip :)\n",
        "\n",
        "You can create a very different looking snowflake by making the 'blip' go the other way an dpoint inwards. To try it out, simple turn minus the angle in the Koch line, e.g. change left(angle) to left(-angle). So we add a parameter sign that allows to choose the direction of the blib. Sign should be 1 or -1."
      ]
    },
    {
      "cell_type": "code",
      "metadata": {
        "id": "v-v__Fi395kK"
      },
      "source": [
        "def koch(size, order, sign):\n",
        "  pendown()\n",
        "\n",
        "  if order > 0:\n",
        "    for a in [60, -120, 60, 0]:\n",
        "      koch(size/3, order-1, sign)\n",
        "      # Sign 1 will draw the snowflake and -1 the inverted one\n",
        "      left(sign*a)\n",
        "  else:\n",
        "    forward(size)"
      ],
      "execution_count": null,
      "outputs": []
    },
    {
      "cell_type": "markdown",
      "metadata": {
        "id": "-xZYIduT-cTH"
      },
      "source": [
        "Next we test the function."
      ]
    },
    {
      "cell_type": "code",
      "metadata": {
        "id": "nBj_aUZx_teX"
      },
      "source": [
        "initializeTurtle()\n",
        "bgcolor('lightblue')\n",
        "color('white')\n",
        "showturtle()\n",
        "\n",
        "jump(500,550) # Jump works like goto with the pen up!\n",
        "\n",
        "# Remember, the first number is size and second is order (number of blips)\n",
        "# The third number is the direction of the blib (1 for normal, -1 for inverted)\n",
        "\n",
        "koch(500, 3, 1)\n",
        "\n",
        "show()"
      ],
      "execution_count": null,
      "outputs": []
    },
    {
      "cell_type": "markdown",
      "metadata": {
        "id": "sBQobjWU-nNf"
      },
      "source": [
        "### Recursion\n",
        "\n",
        "So far we can draw a line with **one** blip and values for `order` greater than 1 will still only draw one blip.\n",
        "\n",
        "Imagine you want to have each of the four lines making the blip have a blip of their own. Rather than calling `forward` in the section where the blip is drawn, we can call the function again - **but we need to call it with the `order` reduced by one**, otherwise ot blips forever!\n",
        "\n",
        "Go back to the cell in the beginning and update your function `koch`. Thet test it with different values of `order`. Try values from 0 to 5."
      ]
    },
    {
      "cell_type": "markdown",
      "metadata": {
        "id": "JQGU-TfHh-20"
      },
      "source": [
        "## You did it - programmed drawing a fractal from scratch!\n",
        "\n",
        "### Making it into a snowflake ❄❄❄❄\n",
        "\n",
        "Turning our Koch line into a snowflake is easy, we basically need to make a triangle from the lines. Look atthe trangle code below. Which part do you need to change to draw a Koch line rather than simply going forward.\n",
        "\n",
        "Change the code and try it for different values of `order` like before."
      ]
    },
    {
      "cell_type": "code",
      "metadata": {
        "id": "-lIDnLI7kO64"
      },
      "source": [
        "initializeTurtle()\n",
        "bgcolor('lightblue')\n",
        "color('white')\n",
        "\n",
        "jump(300,400)\n",
        "\n",
        "length=300\n",
        "\n",
        "for i in range(3):\n",
        "  forward(length)\n",
        "  right(120)\n",
        "\n",
        "show()"
      ],
      "execution_count": null,
      "outputs": []
    },
    {
      "cell_type": "markdown",
      "metadata": {
        "id": "efocl6A6CIbB"
      },
      "source": [
        "### Turning it into a function\n",
        "\n",
        "All that is left is to put the snowflake code you just made into a function. Add the function code below. What do you need to add, so the snowflake will be at the location specified as `x` and `y`?"
      ]
    },
    {
      "cell_type": "code",
      "metadata": {
        "id": "guiFyqVPWnk2"
      },
      "source": [
        "# Here is the function to draw a snowflake. Add your code and test it by running the cell\n",
        "\n",
        "def snowflake(x, y, size, order, sign):\n",
        "\n",
        "  # These offsets get to the middle. You can just jump to x,y\n",
        "  jump(x-(size/3.464),y+(size/2.))\n",
        "\n",
        "  for i in range(3):\n",
        "    koch(size, order, sign)\n",
        "    right(120)\n",
        "\n",
        "# Testing it\n",
        "initializeTurtle()\n",
        "bgcolor('lightblue')\n",
        "\n",
        "color('white')\n",
        "snowflake(500,300,400,3,1)\n",
        "\n",
        "color('yellow')\n",
        "snowflake(500,300,350,3,-1)\n",
        "\n",
        "show()"
      ],
      "execution_count": null,
      "outputs": []
    },
    {
      "cell_type": "markdown",
      "metadata": {
        "id": "RyBx_ggpIyOL"
      },
      "source": [
        "### Let it snow\n",
        "\n",
        "If you function is defined like this `snowflake(x,y,size,order)`, the code below should work as is - enjoy ❄❄❄❄❄"
      ]
    },
    {
      "cell_type": "code",
      "metadata": {
        "id": "FHa7_hnADDdH"
      },
      "source": [
        "import random\n",
        "\n",
        "initializeTurtle()\n",
        "bgcolor('lightblue')\n",
        "color('white')\n",
        "\n",
        "# We loop to make snowflakes at random positions with random sizes. We define\n",
        "# the linits as variables, so it is easy to change.\n",
        "\n",
        "number_snowflakes = 20\n",
        "min_size = 80\n",
        "max_size = 200\n",
        "order = 3\n",
        "sign = -1\n",
        "\n",
        "# The commands begin_fill() and end_fill() allow to fill shapes with a color.\n",
        "for s in range(number_snowflakes):\n",
        "  fillcolor(color_random())\n",
        "  begin_fill()\n",
        "  snowflake(random.randint(0,1000), random.randint(0,600),\n",
        "            random.randint(min_size, max_size), order, sign)\n",
        "  end_fill()\n",
        "\n",
        "show()"
      ],
      "execution_count": null,
      "outputs": []
    },
    {
      "cell_type": "code",
      "metadata": {
        "id": "tsS48kQlJ5NY"
      },
      "source": [],
      "execution_count": null,
      "outputs": []
    }
  ]
}