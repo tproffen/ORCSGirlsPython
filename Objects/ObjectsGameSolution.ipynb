{
  "cells": [
    {
      "cell_type": "markdown",
      "metadata": {
        "id": "view-in-github",
        "colab_type": "text"
      },
      "source": [
        "<a href=\"https://colab.research.google.com/github/tproffen/ORCSGirlsPython/blob/master/Objects/ObjectsGameSolution.ipynb\" target=\"_parent\"><img src=\"https://colab.research.google.com/assets/colab-badge.svg\" alt=\"Open In Colab\"/></a>"
      ]
    },
    {
      "cell_type": "code",
      "source": [
        "# Run this first\n",
        "from IPython.display import clear_output"
      ],
      "metadata": {
        "id": "azeQ4FPPAZdL"
      },
      "execution_count": null,
      "outputs": []
    },
    {
      "cell_type": "markdown",
      "metadata": {
        "id": "7dV-TGuITuJo"
      },
      "source": [
        "<img src=\"https://github.com/tproffen/ORCSGirlsPython/blob/master/Images/Logo.png?raw=1\" width=\"10%\" align=\"right\" hpsace=\"50\">\n",
        "\n",
        "# Object Oriented Programming - Solution\n",
        "\n",
        "We will learn about classes and objects by creating a simple game. This example is based on this <a href=\"https://github.com/orkslayergamedev/python-classes-text-battle\">code</a>."
      ]
    },
    {
      "cell_type": "markdown",
      "source": [
        "#### Character Class\n",
        "\n",
        "One of the elements of our game are the characters. Our characters will have a `name`, a `weapon`, and a `health` value. What can they do? Hmm, maybe `attack`, `status` to print the status of the character and `is_alive`, so we can check if the character is alive. We also want to be able to use print to see the health of the character. The class we are buidling below is the blueprint for our characters."
      ],
      "metadata": {
        "id": "nLhqiX1SIt_5"
      }
    },
    {
      "cell_type": "code",
      "execution_count": null,
      "metadata": {
        "id": "wJ5wSvCKTg-z"
      },
      "outputs": [],
      "source": [
        "class Character:\n",
        "    def __init__(self, name, health, weapon):\n",
        "        self.name = name\n",
        "        self.weapon = weapon\n",
        "        self.health = health\n",
        "        self.health_max = health\n",
        "\n",
        "    def status(self):\n",
        "      print(f\"{self.name}'s HEALTH: {self.health}/{self.health_max}\")\n",
        "\n",
        "    def attack(self, target):\n",
        "        target.health -= self.weapon.damage\n",
        "        target.health = max(target.health, 0)\n",
        "        print(f\"{self.name} dealt {self.weapon.damage} damage to \"\n",
        "              f\"{target.name} with {self.weapon.name}\")\n",
        "\n",
        "    def is_alive(self):\n",
        "      return self.health > 0"
      ]
    },
    {
      "cell_type": "markdown",
      "source": [
        "### Weapons class\n",
        "\n",
        "We also need a class for different weapons our chacters may use. For now weapons with have a `name` and a value for `damage` which is the value we will subtract from the characters health during the games."
      ],
      "metadata": {
        "id": "IEkgvzvqLR0_"
      }
    },
    {
      "cell_type": "code",
      "execution_count": null,
      "metadata": {
        "id": "832qATl3T4OH"
      },
      "outputs": [],
      "source": [
        "class Weapon:\n",
        "    def __init__(self, name, damage):\n",
        "        self.name = name\n",
        "        self.damage = damage"
      ]
    },
    {
      "cell_type": "markdown",
      "source": [
        "Now lets make soem characters. Remember, the class is the template. Lets make some weapons objects by instanciating the Weapons class."
      ],
      "metadata": {
        "id": "CZGfCdv_LzEs"
      }
    },
    {
      "cell_type": "code",
      "source": [
        "sword = Weapon(name=\"Iron Sword\", damage=10)\n",
        "bow = Weapon(name=\"Short Bow\", damage=15)\n",
        "fists = Weapon(name=\"Fists\", damage=5)"
      ],
      "metadata": {
        "id": "vzVL-oeLMHdF"
      },
      "execution_count": null,
      "outputs": []
    },
    {
      "cell_type": "markdown",
      "source": [
        "And now for instanciating two characters and have them fight 🏹"
      ],
      "metadata": {
        "id": "aXjOlxIaMkBT"
      }
    },
    {
      "cell_type": "code",
      "source": [
        "hero = Character(name='Hero', health=100, weapon=sword)\n",
        "enemy = Character(name='Enemy', health=100, weapon=fists)\n",
        "\n",
        "# Let's see the status\n",
        "hero.status()\n",
        "enemy.status()"
      ],
      "metadata": {
        "id": "sUnaxWQ9My-8"
      },
      "execution_count": null,
      "outputs": []
    },
    {
      "cell_type": "code",
      "source": [
        "# Enemy attacks\n",
        "enemy.attack(hero)\n",
        "\n",
        "# Let's see the status now\n",
        "hero.status()\n",
        "enemy.status()"
      ],
      "metadata": {
        "id": "A0AoRD6uNcFo"
      },
      "execution_count": null,
      "outputs": []
    },
    {
      "cell_type": "markdown",
      "source": [
        "###  Hero Class\n",
        "\n",
        "Now imagine we want our hero in the game to have special powers, like being able to change weapons or any other hero type things :) Now we could make a completely new class, but our Hero will have lots in common with the Character class. We can take advantage of that by inheriting the Character class and add or overwrite what we want to be new or different from the parent class."
      ],
      "metadata": {
        "id": "rt9N7qpRN37F"
      }
    },
    {
      "cell_type": "code",
      "source": [
        "# Note the 'Character' in the parentheses which is the parent class\n",
        "class Hero(Character):\n",
        "    def __init__(self, name, health, weapon):\n",
        "        # here we call __init__ of the parent class.\n",
        "        super().__init__(name=name, health=health, weapon=weapon)\n",
        "        self.default_weapon = self.weapon\n",
        "\n",
        "    def equip(self, weapon):\n",
        "        self.weapon = weapon\n",
        "        print(f\"{self.name} equipped a(n) {self.weapon.name}!\")\n",
        "\n",
        "    def drop(self):\n",
        "        print(f\"{self.name} dropped the {self.weapon.name}!\")\n",
        "        self.weapon = self.default_weapon"
      ],
      "metadata": {
        "id": "vpmopOmoN3Dt"
      },
      "execution_count": null,
      "outputs": []
    },
    {
      "cell_type": "markdown",
      "source": [
        "## Let's make a game\n",
        "\n",
        "Now we can make a simple game where the player is the hero and can change weapons. We have a single enemy and will continue attacks until either the player or the enemy is dead (health <=0)."
      ],
      "metadata": {
        "id": "sxJ1tngtPJOS"
      }
    },
    {
      "cell_type": "code",
      "execution_count": null,
      "metadata": {
        "id": "FwF2y8_OT7Mo"
      },
      "outputs": [],
      "source": [
        "# Instanciate weapons\n",
        "sword = Weapon(name=\"Iron Sword\", damage=10)\n",
        "bow = Weapon(name=\"Short Bow\", damage=15)\n",
        "fists = Weapon(name=\"Fists\", damage=5)\n",
        "\n",
        "# Instanciate the hero and enemy\n",
        "hero = Hero(name=\"Hero\", health=100, weapon=fists)\n",
        "enemy = Character(name=\"Enemy\", health=100, weapon=sword)\n",
        "\n",
        "choice=''\n",
        "\n",
        "# Loop while both hero and enemy are alive\n",
        "while hero.is_alive() and enemy.is_alive():\n",
        "\n",
        "    if choice=='s':\n",
        "      hero.equip(sword)\n",
        "    elif choice=='b':\n",
        "      hero.equip(bow)\n",
        "    elif choice=='f':\n",
        "      hero.equip(fists)\n",
        "\n",
        "    hero.attack(enemy)\n",
        "    enemy.attack(hero)\n",
        "    print()\n",
        "    hero.status()\n",
        "    enemy.status()\n",
        "\n",
        "    choice=input('\\nNext move use s=sword, b=bow, f=fist:\\n')\n",
        "    clear_output(wait=True)\n",
        "\n",
        "# Who won?\n",
        "if hero.is_alive():\n",
        "  print(\"Woohoo - the hero won\")\n",
        "else:\n",
        "  print(\"Nooo the hero died\")"
      ]
    },
    {
      "cell_type": "markdown",
      "source": [
        "From here think of other features to add to the game. Have fun."
      ],
      "metadata": {
        "id": "U6iihz2WPxk8"
      }
    }
  ],
  "metadata": {
    "colab": {
      "private_outputs": true,
      "provenance": [],
      "include_colab_link": true
    },
    "kernelspec": {
      "display_name": "Python 3 (ipykernel)",
      "language": "python",
      "name": "python3"
    },
    "language_info": {
      "codemirror_mode": {
        "name": "ipython",
        "version": 3
      },
      "file_extension": ".py",
      "mimetype": "text/x-python",
      "name": "python",
      "nbconvert_exporter": "python",
      "pygments_lexer": "ipython3",
      "version": "3.11.5"
    }
  },
  "nbformat": 4,
  "nbformat_minor": 0
}