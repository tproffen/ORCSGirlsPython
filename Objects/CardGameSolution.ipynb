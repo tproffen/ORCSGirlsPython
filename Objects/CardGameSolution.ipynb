{
 "cells": [
  {
   "cell_type": "markdown",
   "metadata": {
    "colab_type": "text",
    "id": "view-in-github"
   },
   "source": [
    "<a href=\"https://colab.research.google.com/github/tproffen/ORCSGirlsPython/blob/master/Objects/CardGameSolution.ipynb\" target=\"_parent\"><img src=\"https://colab.research.google.com/assets/colab-badge.svg\" alt=\"Open In Colab\"/></a>"
   ]
  },
  {
   "cell_type": "markdown",
   "metadata": {
    "id": "ilPIp-eHXFfl"
   },
   "source": [
    "<img src=\"https://github.com/tproffen/ORCSGirlsPython/blob/master/Images/Logo.png?raw=1\" width=\"10%\" align=\"right\" hpsace=\"50\">\n",
    "\n",
    "# Object Oriented Programming\n",
    "\n",
    "# Solution: Card Game\n",
    "\n",
    "Here is a complete version of the card game. Inspired by this <a href=\"https://www.learnpythonwithrune.org/master-object-oriented-programming-by-creating-a-card-game/\">blog post</a>."
   ]
  },
  {
   "cell_type": "code",
   "execution_count": null,
   "metadata": {
    "id": "Y6NVc0ZcKykz"
   },
   "outputs": [],
   "source": [
    "import random"
   ]
  },
  {
   "cell_type": "markdown",
   "metadata": {
    "id": "w7bJDedivX3_"
   },
   "source": [
    "#### Class Cards\n",
    "\n",
    "This class defines a card and provides a `str()` and `<` method."
   ]
  },
  {
   "cell_type": "code",
   "execution_count": null,
   "metadata": {
    "id": "P9m6qYfJXEiK"
   },
   "outputs": [],
   "source": [
    "class Card:\n",
    "  # This determines the suits order -  ♦, ♥, ♠, ♣ (Skat order)\n",
    "  suits = ['\\u2666', '\\u2665', '\\u2660', '\\u2663']\n",
    "  ranks = [\"7\", \"8\", \"9\", \"10\", \"J\", \"Q\", \"K\", \"A\"]\n",
    "\n",
    "  def __init__(self, suit, rank):\n",
    "    self.suit = suit\n",
    "    self.rank = rank\n",
    "\n",
    "  # Overwrites the str function\n",
    "  def __str__(self):\n",
    "    return f\"{Card.ranks[self.rank]}{Card.suits[self.suit]}\"\n",
    "\n",
    "  # Overwrites the < function\n",
    "  def __lt__(self, other):\n",
    "    if self.rank == other.rank:\n",
    "      return self.suit < other.suit\n",
    "    else:\n",
    "      return self.rank < other.rank"
   ]
  },
  {
   "cell_type": "markdown",
   "metadata": {
    "id": "2NygnclVvm8D"
   },
   "source": [
    "#### Class Deck\n",
    "\n",
    "This is the class for the deck (list) of cards. In our case we have 4 suits and 8 ranks."
   ]
  },
  {
   "cell_type": "code",
   "execution_count": null,
   "metadata": {
    "id": "ctAG1Lf0XOZ1"
   },
   "outputs": [],
   "source": [
    "class Deck:\n",
    "  def __init__(self):\n",
    "    self.deck = []\n",
    "    for suit in range(4):\n",
    "      for rank in range(8):\n",
    "        self.add_card(Card(suit, rank))\n",
    "    self.shuffle()\n",
    "\n",
    "  def __len__(self):\n",
    "    return len(self.deck)\n",
    "\n",
    "  def add_card(self, card):\n",
    "    self.deck.append(card)\n",
    "\n",
    "  def pop_card(self):\n",
    "    return self.deck.pop()\n",
    "\n",
    "  def shuffle(self):\n",
    "    random.shuffle(self.deck)"
   ]
  },
  {
   "cell_type": "markdown",
   "metadata": {
    "id": "vA52QFNdwFdF"
   },
   "source": [
    "#### Class Hand\n",
    "\n",
    "This is the hand of a player. It inherits from Deck."
   ]
  },
  {
   "cell_type": "code",
   "execution_count": null,
   "metadata": {
    "id": "ib6-afmWXSUm"
   },
   "outputs": [],
   "source": [
    "class Hand(Deck):\n",
    "  def __init__(self, label):\n",
    "    self.deck = []\n",
    "    self.label = label\n",
    "    self.win_count = 0\n",
    "\n",
    "  def __str__(self):\n",
    "    return self.label + ': ' + ' '.join([str(card) for card in self.deck])\n",
    "\n",
    "  def get_label(self):\n",
    "    return self.label\n",
    "\n",
    "  def get_win_count(self):\n",
    "    return self.win_count\n",
    "\n",
    "  def round_winner(self):\n",
    "    self.win_count = self.win_count + 1"
   ]
  },
  {
   "cell_type": "markdown",
   "metadata": {
    "id": "XKDcUo-SQPf9"
   },
   "source": [
    "### Game\n",
    "\n",
    "Using the classes we defined aboove, we will create a simple game following thse rules.\n",
    "\n",
    "* Create a Deck of cards.\n",
    "* Create 4 players\n",
    "* Divided all cards to 4 players.\n",
    "* Assume you are the first player, print the hand of player one.\n",
    "* The game ends when all cards are played:\n",
    "    - Each player plays 1 card.\n",
    "    - The player with highest card wins.\n",
    "    - Update the score for the winning hand.\n",
    "    - Print cards played in round and the winner (with winning card).\n",
    "* After all cards are played – print score for all players - Highest score wins!"
   ]
  },
  {
   "cell_type": "code",
   "execution_count": null,
   "metadata": {
    "id": "XxZfkn-CXYwE"
   },
   "outputs": [],
   "source": [
    "deck = Deck()\n",
    "hands = [Hand('Thomas'), Hand('Katie'), Hand('Adriana'), Hand('Kristen')]\n",
    "\n",
    "# Deal the cards\n",
    "while len(deck) > 0:\n",
    "  for hand in hands:\n",
    "    hand.add_card(deck.pop_card())\n",
    "\n",
    "# Print your own hand on the screen\n",
    "print(hands[0])\n",
    "\n",
    "# Now play\n",
    "for i in range(len(hands[0])):\n",
    "  input() # Just hit enter to play the next card\n",
    "  played_cards = []\n",
    "  for hand in hands:\n",
    "    played_cards.append(hand.pop_card())\n",
    "\n",
    "  winner_card = max(played_cards)\n",
    "  winner_hand = hands[played_cards.index(winner_card)]\n",
    "  winner_hand.round_winner()\n",
    "\n",
    "  print(f\"R{i}: \" + ' '.join([str(card) for card in played_cards]) + f' Winner: {winner_hand.get_label()} {str(winner_card)}')\n",
    "\n",
    "# Show final results\n",
    "print('\\nFinal scores\\n------------')\n",
    "for hand in hands:\n",
    "  print(f\"Score for {hand.get_label()}: {hand.get_win_count()}\")"
   ]
  },
  {
   "cell_type": "code",
   "execution_count": null,
   "metadata": {
    "id": "hckw8oq9Xe_U"
   },
   "outputs": [],
   "source": []
  }
 ],
 "metadata": {
  "colab": {
   "authorship_tag": "ABX9TyO3eXk9dE0mV4z4V2qcvous",
   "include_colab_link": true,
   "name": "CardGameSolution.ipynb",
   "private_outputs": true,
   "provenance": []
  },
  "kernelspec": {
   "display_name": "Python 3 (ipykernel)",
   "language": "python",
   "name": "python3"
  },
  "language_info": {
   "codemirror_mode": {
    "name": "ipython",
    "version": 3
   },
   "file_extension": ".py",
   "mimetype": "text/x-python",
   "name": "python",
   "nbconvert_exporter": "python",
   "pygments_lexer": "ipython3",
   "version": "3.11.5"
  }
 },
 "nbformat": 4,
 "nbformat_minor": 1
}
