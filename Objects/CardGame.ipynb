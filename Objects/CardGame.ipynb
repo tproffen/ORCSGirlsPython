{
 "cells": [
  {
   "cell_type": "markdown",
   "metadata": {
    "colab_type": "text",
    "id": "view-in-github"
   },
   "source": [
    "<a href=\"https://colab.research.google.com/github/tproffen/ORCSGirlsPython/blob/master/Objects/CardGame.ipynb\" target=\"_parent\"><img src=\"https://colab.research.google.com/assets/colab-badge.svg\" alt=\"Open In Colab\"/></a>"
   ]
  },
  {
   "cell_type": "markdown",
   "metadata": {
    "id": "ilPIp-eHXFfl"
   },
   "source": [
    "<img src=\"https://github.com/tproffen/ORCSGirlsPython/blob/master/Images/Logo.png?raw=1\" width=\"10%\" align=\"right\" hpsace=\"50\">\n",
    "\n",
    "# Object Oriented Programming\n",
    "# Activity: Card Game\n",
    "\n",
    "Let's create the card game. Some of the code is already written. Read the comments carefully and add the missing code where you find\n",
    "\n",
    "`## Add code here`"
   ]
  },
  {
   "cell_type": "code",
   "execution_count": null,
   "metadata": {
    "id": "Y6NVc0ZcKykz"
   },
   "outputs": [],
   "source": [
    "import random"
   ]
  },
  {
   "cell_type": "markdown",
   "metadata": {
    "id": "w7bJDedivX3_"
   },
   "source": [
    "## Classes\n",
    "#### Class Cards\n",
    "\n",
    "This our card class. We pass a suit and rank value (number) and it provides two methods:\n",
    "\n",
    "* `__str__(self)` - Return a string for the card, e.g. A♥\n",
    "* `__lt__(self, other)` - Compare two cards and return true if self > other otherwise return false. This replaces the '<' method, so you can compare card values easily 😀"
   ]
  },
  {
   "cell_type": "code",
   "execution_count": null,
   "metadata": {
    "id": "P9m6qYfJXEiK"
   },
   "outputs": [],
   "source": [
    "class Card:\n",
    "  # These are class attributes, so we access them with Card.suits[] and Card.ranks[]\n",
    "  # The order matters and determines the suits order -  ♦, ♥, ♠, ♣\n",
    "  suits = ['\\u2666', '\\u2665', '\\u2660', '\\u2663']\n",
    "  ranks = [\"7\", \"8\", \"9\", \"10\", \"J\", \"Q\", \"K\", \"A\"]\n",
    "\n",
    "  def __init__(self, suit, rank):\n",
    "     # Add your code here, basically set self.suit to the passed argument suit\n",
    "     # and to the same for rank\n",
    "     ## Add your code here\n",
    "     pass\n",
    "\n",
    "  # Overwrites the str function\n",
    "  def __str__(self):\n",
    "    # Return a string with card value\n",
    "    ## Add your code here\n",
    "    pass\n",
    "\n",
    "  # Overwrites the < function\n",
    "  def __lt__(self, other):\n",
    "    # Compare cards 'self' and 'other'. Return true if card self < other, false otherwise\n",
    "    # Hint: You need to compare rank and suit.\n",
    "    ## Add your code here\n",
    "    pass\n"
   ]
  },
  {
   "cell_type": "markdown",
   "metadata": {
    "id": "0ufUR2XxFOcj"
   },
   "source": [
    "Now try the new class. Instanciate two cards, print their values and compare them using `<`. This way you can check the card class works ok."
   ]
  },
  {
   "cell_type": "code",
   "execution_count": null,
   "metadata": {
    "id": "FBJ6s6yRFdLD"
   },
   "outputs": [],
   "source": [
    "# Instanciate some cards and test the class methods.\n"
   ]
  },
  {
   "cell_type": "markdown",
   "metadata": {
    "id": "2NygnclVvm8D"
   },
   "source": [
    "#### Class Deck\n",
    "\n",
    "This is the class for the deck (list) of cards. In our case we have 4 suits and 8 ranks. The deck is stored in the class attribute `deck`. The methods for this class are\n",
    "* `__len__` returns the length of the card deck (number pf cards)\n",
    "* `add_card` adds a card to the deck\n",
    "* `pop_card` returns the top most card and removes it form the deck\n",
    "* `shuffle` shuffles the card deck\n",
    "\n",
    "The code you need to add is in the `__init__` method. Use two loops to add card of all suits and ranks to the list `self.deck[]`."
   ]
  },
  {
   "cell_type": "code",
   "execution_count": null,
   "metadata": {
    "id": "ctAG1Lf0XOZ1"
   },
   "outputs": [],
   "source": [
    "class Deck:\n",
    "  def __init__(self):\n",
    "    self.deck = []\n",
    "\n",
    "    # Loop over all suits (4) and ranks(8) and populate the\n",
    "    # list self.deck - Hint use two loops\n",
    "    ## Add your code here\n",
    "\n",
    "    self.shuffle()\n",
    "\n",
    "  def __len__(self):\n",
    "    return len(self.deck)\n",
    "\n",
    "  def add_card(self, card):\n",
    "    self.deck.append(card)\n",
    "\n",
    "  def pop_card(self):\n",
    "    return self.deck.pop()\n",
    "\n",
    "  def shuffle(self):\n",
    "    random.shuffle(self.deck)"
   ]
  },
  {
   "cell_type": "markdown",
   "metadata": {
    "id": "sXZ2cYdOGohu"
   },
   "source": [
    "As before, test your class by instanciating a deck and check the methods wprk as you expect."
   ]
  },
  {
   "cell_type": "code",
   "execution_count": null,
   "metadata": {
    "id": "KJpspeG-GyOO"
   },
   "outputs": [],
   "source": [
    "# Instanciate a deck here and check the methods\n"
   ]
  },
  {
   "cell_type": "markdown",
   "metadata": {
    "id": "vA52QFNdwFdF"
   },
   "source": [
    "#### Class Hand\n",
    "\n",
    "This is the hand of a player. It inherits from Deck. We have three instance attributes `deck` holding the cards, `label` to store the name of the player and `win_count` where we track how many rounds this player won. The methods are\n",
    "\n",
    "* `__str__` shows the cards in the Hand\n",
    "* `get_label` returns the player name (label)\n",
    "* `get_win_count` returns how many times this player won\n",
    "* `round_winner` makes this player the winner of the round\n",
    "\n",
    "Good news - the code is already written 🙂"
   ]
  },
  {
   "cell_type": "code",
   "execution_count": null,
   "metadata": {
    "id": "ib6-afmWXSUm"
   },
   "outputs": [],
   "source": [
    "class Hand(Deck):\n",
    "  def __init__(self, label):\n",
    "    self.deck = []\n",
    "    self.label = label\n",
    "    self.win_count = 0\n",
    "\n",
    "  def __str__(self):\n",
    "    return self.label + ': ' + ' '.join([str(card) for card in self.deck])\n",
    "\n",
    "  def get_label(self):\n",
    "    return self.label\n",
    "\n",
    "  def get_win_count(self):\n",
    "    return self.win_count\n",
    "\n",
    "  def round_winner(self):\n",
    "    self.win_count = self.win_count + 1"
   ]
  },
  {
   "cell_type": "markdown",
   "metadata": {
    "id": "dGVthhqZIK-R"
   },
   "source": [
    "You know the drill. Instanciate some Hands and add cards. Note this class will have the Deck and Hand methods. The `__init__` method for the Hand class is overwritten, so the hand starts of with no cards when instanciated."
   ]
  },
  {
   "cell_type": "code",
   "execution_count": null,
   "metadata": {
    "id": "rWbTWFICIgxa"
   },
   "outputs": [],
   "source": [
    "# Play with the Hands class here\n"
   ]
  },
  {
   "cell_type": "markdown",
   "metadata": {
    "id": "XKDcUo-SQPf9"
   },
   "source": [
    "## Game\n",
    "\n",
    "Using the classes we defined aboove, we will create a simple game following thse rules.\n",
    "\n",
    "* Create a Deck of cards.\n",
    "* Create 4 players\n",
    "* Divided all cards to 4 players.\n",
    "* Assume you are the first player, print the hand of player one.\n",
    "* The game ends when all cards are played:\n",
    "    - Each player plays top card in hand.\n",
    "    - The player with highest card wins.\n",
    "    - Update the score for the winning hand.\n",
    "    - Print cards played in round and the winner (with winning card).\n",
    "* After all cards are played – print score for all players."
   ]
  },
  {
   "cell_type": "code",
   "execution_count": null,
   "metadata": {
    "id": "XxZfkn-CXYwE"
   },
   "outputs": [],
   "source": [
    "deck = Deck()\n",
    "hands = # Add code to create a list of four instances Hand"
   ]
  },
  {
   "cell_type": "code",
   "execution_count": null,
   "metadata": {
    "id": "v2O9XNs7QF3w"
   },
   "outputs": [],
   "source": [
    "# Deal the cards\n",
    "while len(deck) > 0:\n",
    "  for hand in hands:\n",
    "    hand.append(deck.pop_card())\n",
    "\n",
    "# Print your own hand on the screen\n",
    "## Add your code here\n"
   ]
  },
  {
   "cell_type": "code",
   "execution_count": null,
   "metadata": {
    "id": "1KLkGtf-QQCP"
   },
   "outputs": [],
   "source": [
    "# Now play\n",
    "for i in range(len(hands[0])):\n",
    "  input() # Just hit enter to play the next card\n",
    "  played_cards = []\n",
    "  for hand in hands:\n",
    "    played_cards.append(hand.pop_card())\n",
    "\n",
    "  winner_card = max(played_cards)\n",
    "  winner_hand = hands[played_cards.index(winner_card)]\n",
    "  winner_hand.round_winner()\n",
    "\n",
    "  print(f\"R{i}: \" + ' '.join([str(card) for card in played_cards]) + f' Winner: {winner_hand.get_label()} {str(winner_card)}')"
   ]
  },
  {
   "cell_type": "code",
   "execution_count": null,
   "metadata": {
    "id": "hckw8oq9Xe_U"
   },
   "outputs": [],
   "source": [
    "# Use a loop to display the name and win count for each player\n",
    "## Add your code here"
   ]
  }
 ],
 "metadata": {
  "colab": {
   "authorship_tag": "ABX9TyOg3ktBPxXHLK3Tec4OrLW7",
   "include_colab_link": true,
   "name": "CardGame.ipynb",
   "private_outputs": true,
   "provenance": []
  },
  "kernelspec": {
   "display_name": "Python 3 (ipykernel)",
   "language": "python",
   "name": "python3"
  },
  "language_info": {
   "codemirror_mode": {
    "name": "ipython",
    "version": 3
   },
   "file_extension": ".py",
   "mimetype": "text/x-python",
   "name": "python",
   "nbconvert_exporter": "python",
   "pygments_lexer": "ipython3",
   "version": "3.11.5"
  }
 },
 "nbformat": 4,
 "nbformat_minor": 1
}
