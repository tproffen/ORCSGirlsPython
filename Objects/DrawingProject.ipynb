{
  "nbformat": 4,
  "nbformat_minor": 0,
  "metadata": {
    "colab": {
      "name": "DrawingProject",
      "provenance": [],
      "include_colab_link": true
    },
    "kernelspec": {
      "display_name": "Python 3",
      "language": "python",
      "name": "python3"
    }
  },
  "cells": [
    {
      "cell_type": "markdown",
      "metadata": {
        "id": "view-in-github",
        "colab_type": "text"
      },
      "source": [
        "<a href=\"https://colab.research.google.com/github/tproffen/ORCSGirlsPython/blob/master/Objects/DrawingProject.ipynb\" target=\"_parent\"><img src=\"https://colab.research.google.com/assets/colab-badge.svg\" alt=\"Open In Colab\"/></a>"
      ]
    },
    {
      "cell_type": "markdown",
      "metadata": {
        "id": "Rk48Ab5CzRsE"
      },
      "source": [
        "\n",
        "<img src=\"https://github.com/tproffen/ORCSGirlsPython/blob/master/Images/Logo.png?raw=1\" width=\"10%\" align=\"right\" hspace=\"50\">\n",
        "\n",
        "# Object Oriented Programming\n",
        "## Activity: Drawing Program\n",
        "\n",
        "In this section, you are going to learn about basic *Python* commands.\n",
        "Follow along and enter your commands below. Remember to press `shift+return` to execute a command."
      ]
    },
    {
      "cell_type": "markdown",
      "metadata": {
        "id": "D0FVwrYECsoE"
      },
      "source": [
        "## Setup\n",
        "Remember, **you need to run the commands below first** to load the needed libraries. If this cell is not run, you will get an error in the later part of the notebook."
      ]
    },
    {
      "cell_type": "code",
      "metadata": {
        "id": "4g41pep-C4A5",
        "outputId": "5cb06188-7d34-49b8-b647-ef2b2e439230",
        "colab": {
          "base_uri": "https://localhost:8080/"
        }
      },
      "source": [
        "!curl -s -o setup.sh https://raw.githubusercontent.com/tproffen/ORCSGirlsPython/master/Objects/Helpers/setup_activities.sh\n",
        "!bash setup.sh\n",
        "from Helpers.helpers import *"
      ],
      "execution_count": 1,
      "outputs": [
        {
          "output_type": "stream",
          "name": "stdout",
          "text": [
            "Fetching needed files ..\n",
            "Done\n"
          ]
        }
      ]
    },
    {
      "cell_type": "markdown",
      "source": [
        "#### Here we go"
      ],
      "metadata": {
        "id": "HTGIKGMozqBe"
      }
    },
    {
      "cell_type": "code",
      "source": [
        "class Shape():\n",
        "  def __init__(self, vertices_x, vertices_y, color=\"red\"):\n",
        "    self.vertices_x = vertices_x\n",
        "    self.vertices_y = vertices_y\n",
        "    self.color = color\n",
        "\n",
        "    self.set_color(color)\n",
        "\n",
        "  def draw(self):\n",
        "    penup()\n",
        "    for i in range(len(self.vertices_x)):\n",
        "      goto(self.vertices_x[i],self.vertices_y[i])\n",
        "      pendown()\n",
        "\n",
        "  def set_color(self, c):\n",
        "    self.color = c\n",
        "    color(c)\n"
      ],
      "metadata": {
        "id": "vkQ2-gtqzuby"
      },
      "execution_count": 26,
      "outputs": []
    },
    {
      "cell_type": "code",
      "source": [
        "class Rectangle(Shape):\n",
        "  def __init__(self, center_x, center_y, width, height, color=\"blue\"):\n",
        "    vertices_x = [center_x-width/2, center_x+width/2, center_x+width/2, center_x-width/2, center_x-width/2]\n",
        "    vertices_y = [center_y-height/2,center_y-height/2,center_y+height/2,center_y+height/2,center_y-height/2]\n",
        "    super().__init__(vertices_x, vertices_y, color)\n"
      ],
      "metadata": {
        "id": "aKndarSo04MG"
      },
      "execution_count": 40,
      "outputs": []
    },
    {
      "cell_type": "code",
      "metadata": {
        "id": "erZThCN1HiPG",
        "outputId": "fc54c67e-a2ce-4826-9ae3-8a50618fda7e",
        "colab": {
          "base_uri": "https://localhost:8080/",
          "height": 681
        }
      },
      "source": [
        "initializeTurtle()\n",
        "showturtle()\n",
        "pendown()\n",
        "\n",
        "square=Rectangle(200,200,200,100,color='yellow')\n",
        "square.draw()\n",
        "\n",
        "triangle=Shape([500,13,100],[150,100,600])\n",
        "triangle.set_color('green')\n",
        "triangle.draw()\n",
        "\n",
        "\n",
        "\n",
        "show()"
      ],
      "execution_count": 41,
      "outputs": [
        {
          "output_type": "display_data",
          "data": {
            "text/plain": [
              "<IPython.core.display.HTML object>"
            ],
            "text/html": [
              "\n",
              "<style>\n",
              "table {border-collapse: collapse;}\n",
              "button {width: 80px; margin: 5px 5px 5px 0px; text-align: center; font-size: 1em;}\n",
              "canvas {margin-top: 5px;}\n",
              "#status {background-color: #cdcdff; font-size: 1em;}\n",
              "#art {text-align: center; background-color: #efefff; padding: 0px 5px 0px 5px;}\n",
              ".right {text-align: right;}\n",
              ".left {text-align: left;}\n",
              ".numbers {margin: 0px 10px 0px 10px; font-size: 1em; color: 'purple'; \n",
              "white-space: pre; font-family: 'Courier New', monospace;}\n",
              "</style>\n",
              "<table>\n",
              "<tr><td colspan=4 id='art'><canvas id=\"turtleCanvas\"></td></tr>\n",
              "<tr id=\"status\"><td class=\"left\"><div id=\"info\">\n",
              "<div class=\"numbers\"><b>Turtle</b> - Waiting ..                </div>\n",
              "</div></td><td class=\"left\"><div id=\"coord\">\n",
              "<div class='numbers'><b>Mouse</b> - x:   0 y:   0</div></div></td>\n",
              "<td class=\"right\"><button onClick=\"replay();\" id=\"replay\">Replay</button>\n",
              "<button onClick=\"saveImg();\" id=\"save\">Save</button></td></tr>\n",
              "</table>\n",
              "<script>\n",
              "function saveImg() {\n",
              "  var a = document.createElement(\"a\");\n",
              "  a.download = \"turtle.png\"; a.href = c.toDataURL(\"image/png\"); a.click();\n",
              "}\n",
              "function replay() {\n",
              "  var t=Math.max(Math.round(2000/p.length), 1);\n",
              "  disableControls(true);\n",
              "  setTimeout(function() { play(t); }, 50);\n",
              "}\n",
              "function disableControls(disable) {\n",
              "  document.getElementById(\"replay\").disabled = disable;\n",
              "  document.getElementById(\"save\").disabled = disable;\n",
              "}\n",
              "function play(delay) {\n",
              "  clearCanvas(bgcolor);\n",
              "  cold = ctx.getImageData(0, 0, c.width, c.height);\n",
              "  if(delay > 0) {\n",
              "    (function myLoop(i) {\n",
              "      setTimeout(function() {\n",
              "        plot(i, delay);\n",
              "        if (++i < p.length) { myLoop(i); } else { disableControls(false); }\n",
              "      }, delay)\n",
              "    })(1);\n",
              "  } else {\n",
              "    for (var ip=1; ip<p.length; ip++) { plot(ip, delay); }\n",
              "    disableControls(false);\n",
              "  }\n",
              "}\n",
              "function plot(ip, delay) {\n",
              "  if(dirty) { ctx.putImageData(cold, 0, 0); }\n",
              "  if(p[ip-1].fill!=p[ip].fill   || p[ip-1].width!=p[ip].width || \n",
              "     p[ip-1].color!=p[ip].color || p[ip-1].fillcolor!=p[ip].fillcolor ||\n",
              "     ip==1) {\n",
              "    if(p[ip-1].fill) {     \n",
              "      ctx.fillStyle = p[ip-1].fillcolor;\n",
              "      ctx.fill(); \n",
              "    }\n",
              "    ctx.beginPath();\n",
              "    ctx.moveTo(p[ip-1].x, p[ip-1].y);\n",
              "    ctx.strokeStyle = p[ip].color;\n",
              "    ctx.lineWidth = p[ip].width;\n",
              "  }\n",
              "  if(p[ip].pen) { ctx.lineTo(p[ip].x, p[ip].y); }\n",
              "  else          { ctx.moveTo(p[ip].x, p[ip].y); }\n",
              "  ctx.stroke();\n",
              "  if(turtle && (delay > 0 || ip==p.length-1)) { showTurtle(ip); }\n",
              "  updateStatus(p[ip].x, p[ip].y, p[ip].h, ip);\n",
              "}\n",
              "function updateStatus(x,y,h,ip) {\n",
              "  px=String(Math.round(x)).padStart(4,' ');\n",
              "  py=String(Math.round(y)).padStart(4,' ');\n",
              "  ph=String(Math.round(h)).padStart(4,' ');\n",
              "  pi=String(ip).padStart(6,' ');\n",
              "  document.getElementById(\"info\").innerHTML=\n",
              "  \"<div class='numbers'><b>Turtle</b> - x:\"+px+\" y:\"+py+\n",
              "  \" Heading:\"+ph+\" - Points:\"+pi+\"</div>\";\n",
              "}\n",
              "function updateStatusStatic(ip) {\n",
              "  pi=String(ip).padStart(6,' ');\n",
              "  document.getElementById(\"info\").innerHTML=\n",
              "  \"<div class='numbers'><b>Turtle</b> - Points:\"+pi+\n",
              "  \" (non interactive)           </div>\";\n",
              "}\n",
              "function getCoordinates(e) {\n",
              "  var rect = c.getBoundingClientRect();\n",
              "  mx=String(Math.round(e.clientX-rect.left)).padStart(4,' ');\n",
              "  my=String(Math.round(e.clientY-rect.top)).padStart(4,' ');\n",
              "  document.getElementById(\"coord\").innerHTML=\n",
              "  \"<div class='numbers'><b>Mouse</b> - x:\"+mx+\" y:\"+my+\"</div>\"; \n",
              "}\n",
              "function showTurtle(ip) {\n",
              "  cold = ctx.getImageData(0, 0, c.width, c.height);\n",
              "  ctx.translate(p[ip].x, p[ip].y);\n",
              "  ctx.rotate(p[ip].h*Math.PI/180.);\n",
              "  ctx.drawImage(timg, -timg.width/2, -timg.height / 2, timg.width, timg.height);\n",
              "  ctx.rotate(-p[ip].h*Math.PI/180.);\n",
              "  ctx.translate(-p[ip].x, -p[ip].y);\n",
              "  dirty = true;\n",
              "}\n",
              "function clearCanvas(color){\n",
              "  bgcolor = color;\n",
              "  ctx.fillStyle = color;\n",
              "  ctx.fillRect(0, 0, c.width, c.height);\n",
              "}\n",
              "function initTurtle() {\n",
              "  var turl = \"https://raw.githubusercontent.com/tproffen/ORCSGirlsPython/master/Images/turtle.png\";\n",
              "  timg = new Image();\n",
              "  timg.src = turl; timg.setAttribute('crossorigin', 'anonymous');\n",
              "}\n",
              "//-----------------------------------------------------------------//\n",
              "//----------- Functions called from Python ------------------------//\n",
              "//-----------------------------------------------------------------//\n",
              "function updateDrawingCanvas(json) { \n",
              "  var art = JSON.parse(json);\n",
              "  bgcolor = art.bgcolor;\n",
              "  turtle = art.turtle;\n",
              "  c.width = art.width; c.height = art.height;\n",
              "  document.getElementById(\"art\").style.backgroundColor  = art.canvascolor;\n",
              "  document.getElementById(\"status\").style.backgroundColor  = art.statuscolor;\n",
              "\n",
              "  p=art.lines;\n",
              "  disableControls(true);\n",
              "  setTimeout(function() { play(art.delay); }, 50);\n",
              "}\n",
              "//-----------------------------------------------------------------//\n",
              "function updateDrawingSVG(svg,np) {\n",
              "  \n",
              "  blob = new Blob([svg],{type:'image/svg+xml;charset=utf-8'});\n",
              "  url = URL.createObjectURL(blob);\n",
              "  var img = new Image();\n",
              "  img.onload = function(e){\n",
              "    c.width=img.width; c.height=img.height;\n",
              "    ctx.drawImage( img, 0, 0 ); \n",
              "  };\n",
              "  img.src = url;\n",
              "  document.getElementById(\"save\").disabled = false;\n",
              "  updateStatusStatic(np);\n",
              "}\n",
              "//-----------------------------------------------------------------//\n",
              "//-----------------------------------------------------------------//\n",
              "var c = document.getElementById(\"turtleCanvas\");\n",
              "var ctx = c.getContext(\"2d\");\n",
              "var cold = ctx.getImageData(0, 0, c.width, c.height);\n",
              "var p = [], timg, turtle = false; path = false; dirty = false;\n",
              "\n",
              "initTurtle(); disableControls(true); c.addEventListener('mousemove',getCoordinates);\n",
              "</script>\n"
            ]
          },
          "metadata": {}
        },
        {
          "output_type": "display_data",
          "data": {
            "text/plain": [
              "<IPython.core.display.Javascript object>"
            ],
            "application/javascript": [
              "updateDrawingCanvas('{\"bgcolor\": \"white\", \"statuscolor\": \"#ededff\", \"turtle\": true, \"canvascolor\": \"#fafafa\", \"width\": 1000, \"height\": 600, \"delay\": 0, \"lines\": [{\"pen\": false, \"x\": 500.0, \"y\": 300.0, \"h\": 0.0, \"color\": \"blue\", \"width\": 2, \"fill\": false, \"fillcolor\": \"yellow\"}, {\"pen\": false, \"x\": 100.0, \"y\": 150.0, \"h\": 290.55604521958344, \"color\": \"yellow\", \"width\": 2, \"fill\": false, \"fillcolor\": \"yellow\"}, {\"pen\": true, \"x\": 300.0, \"y\": 150.0, \"h\": 90.0, \"color\": \"yellow\", \"width\": 2, \"fill\": false, \"fillcolor\": \"yellow\"}, {\"pen\": true, \"x\": 300.0, \"y\": 250.0, \"h\": 180.0, \"color\": \"yellow\", \"width\": 2, \"fill\": false, \"fillcolor\": \"yellow\"}, {\"pen\": true, \"x\": 100.0, \"y\": 250.0, \"h\": 270.0, \"color\": \"yellow\", \"width\": 2, \"fill\": false, \"fillcolor\": \"yellow\"}, {\"pen\": true, \"x\": 100.0, \"y\": 150.0, \"h\": 0.0, \"color\": \"yellow\", \"width\": 2, \"fill\": false, \"fillcolor\": \"yellow\"}, {\"pen\": false, \"x\": 500, \"y\": 150, \"h\": 90.0, \"color\": \"green\", \"width\": 2, \"fill\": false, \"fillcolor\": \"yellow\"}, {\"pen\": true, \"x\": 13, \"y\": 100, \"h\": 275.8619840725134, \"color\": \"green\", \"width\": 2, \"fill\": false, \"fillcolor\": \"yellow\"}, {\"pen\": true, \"x\": 100, \"y\": 600, \"h\": 170.1293571538622, \"color\": \"green\", \"width\": 2, \"fill\": false, \"fillcolor\": \"yellow\"}]}')"
            ]
          },
          "metadata": {}
        }
      ]
    },
    {
      "cell_type": "code",
      "source": [
        "triangle.set_color('red')\n",
        "triangle.draw()\n",
        "show()"
      ],
      "metadata": {
        "id": "BeUDajSs2NOy",
        "outputId": "d773ebc1-bc38-4698-d119-7564dbed78a3",
        "colab": {
          "base_uri": "https://localhost:8080/",
          "height": 681
        }
      },
      "execution_count": 22,
      "outputs": [
        {
          "output_type": "display_data",
          "data": {
            "text/plain": [
              "<IPython.core.display.HTML object>"
            ],
            "text/html": [
              "\n",
              "<style>\n",
              "table {border-collapse: collapse;}\n",
              "button {width: 80px; margin: 5px 5px 5px 0px; text-align: center; font-size: 1em;}\n",
              "canvas {margin-top: 5px;}\n",
              "#status {background-color: #cdcdff; font-size: 1em;}\n",
              "#art {text-align: center; background-color: #efefff; padding: 0px 5px 0px 5px;}\n",
              ".right {text-align: right;}\n",
              ".left {text-align: left;}\n",
              ".numbers {margin: 0px 10px 0px 10px; font-size: 1em; color: 'purple'; \n",
              "white-space: pre; font-family: 'Courier New', monospace;}\n",
              "</style>\n",
              "<table>\n",
              "<tr><td colspan=4 id='art'><canvas id=\"turtleCanvas\"></td></tr>\n",
              "<tr id=\"status\"><td class=\"left\"><div id=\"info\">\n",
              "<div class=\"numbers\"><b>Turtle</b> - Waiting ..                </div>\n",
              "</div></td><td class=\"left\"><div id=\"coord\">\n",
              "<div class='numbers'><b>Mouse</b> - x:   0 y:   0</div></div></td>\n",
              "<td class=\"right\"><button onClick=\"replay();\" id=\"replay\">Replay</button>\n",
              "<button onClick=\"saveImg();\" id=\"save\">Save</button></td></tr>\n",
              "</table>\n",
              "<script>\n",
              "function saveImg() {\n",
              "  var a = document.createElement(\"a\");\n",
              "  a.download = \"turtle.png\"; a.href = c.toDataURL(\"image/png\"); a.click();\n",
              "}\n",
              "function replay() {\n",
              "  var t=Math.max(Math.round(2000/p.length), 1);\n",
              "  disableControls(true);\n",
              "  setTimeout(function() { play(t); }, 50);\n",
              "}\n",
              "function disableControls(disable) {\n",
              "  document.getElementById(\"replay\").disabled = disable;\n",
              "  document.getElementById(\"save\").disabled = disable;\n",
              "}\n",
              "function play(delay) {\n",
              "  clearCanvas(bgcolor);\n",
              "  cold = ctx.getImageData(0, 0, c.width, c.height);\n",
              "  if(delay > 0) {\n",
              "    (function myLoop(i) {\n",
              "      setTimeout(function() {\n",
              "        plot(i, delay);\n",
              "        if (++i < p.length) { myLoop(i); } else { disableControls(false); }\n",
              "      }, delay)\n",
              "    })(1);\n",
              "  } else {\n",
              "    for (var ip=1; ip<p.length; ip++) { plot(ip, delay); }\n",
              "    disableControls(false);\n",
              "  }\n",
              "}\n",
              "function plot(ip, delay) {\n",
              "  if(dirty) { ctx.putImageData(cold, 0, 0); }\n",
              "  if(p[ip-1].fill!=p[ip].fill   || p[ip-1].width!=p[ip].width || \n",
              "     p[ip-1].color!=p[ip].color || p[ip-1].fillcolor!=p[ip].fillcolor ||\n",
              "     ip==1) {\n",
              "    if(p[ip-1].fill) {     \n",
              "      ctx.fillStyle = p[ip-1].fillcolor;\n",
              "      ctx.fill(); \n",
              "    }\n",
              "    ctx.beginPath();\n",
              "    ctx.moveTo(p[ip-1].x, p[ip-1].y);\n",
              "    ctx.strokeStyle = p[ip].color;\n",
              "    ctx.lineWidth = p[ip].width;\n",
              "  }\n",
              "  if(p[ip].pen) { ctx.lineTo(p[ip].x, p[ip].y); }\n",
              "  else          { ctx.moveTo(p[ip].x, p[ip].y); }\n",
              "  ctx.stroke();\n",
              "  if(turtle && (delay > 0 || ip==p.length-1)) { showTurtle(ip); }\n",
              "  updateStatus(p[ip].x, p[ip].y, p[ip].h, ip);\n",
              "}\n",
              "function updateStatus(x,y,h,ip) {\n",
              "  px=String(Math.round(x)).padStart(4,' ');\n",
              "  py=String(Math.round(y)).padStart(4,' ');\n",
              "  ph=String(Math.round(h)).padStart(4,' ');\n",
              "  pi=String(ip).padStart(6,' ');\n",
              "  document.getElementById(\"info\").innerHTML=\n",
              "  \"<div class='numbers'><b>Turtle</b> - x:\"+px+\" y:\"+py+\n",
              "  \" Heading:\"+ph+\" - Points:\"+pi+\"</div>\";\n",
              "}\n",
              "function updateStatusStatic(ip) {\n",
              "  pi=String(ip).padStart(6,' ');\n",
              "  document.getElementById(\"info\").innerHTML=\n",
              "  \"<div class='numbers'><b>Turtle</b> - Points:\"+pi+\n",
              "  \" (non interactive)           </div>\";\n",
              "}\n",
              "function getCoordinates(e) {\n",
              "  var rect = c.getBoundingClientRect();\n",
              "  mx=String(Math.round(e.clientX-rect.left)).padStart(4,' ');\n",
              "  my=String(Math.round(e.clientY-rect.top)).padStart(4,' ');\n",
              "  document.getElementById(\"coord\").innerHTML=\n",
              "  \"<div class='numbers'><b>Mouse</b> - x:\"+mx+\" y:\"+my+\"</div>\"; \n",
              "}\n",
              "function showTurtle(ip) {\n",
              "  cold = ctx.getImageData(0, 0, c.width, c.height);\n",
              "  ctx.translate(p[ip].x, p[ip].y);\n",
              "  ctx.rotate(p[ip].h*Math.PI/180.);\n",
              "  ctx.drawImage(timg, -timg.width/2, -timg.height / 2, timg.width, timg.height);\n",
              "  ctx.rotate(-p[ip].h*Math.PI/180.);\n",
              "  ctx.translate(-p[ip].x, -p[ip].y);\n",
              "  dirty = true;\n",
              "}\n",
              "function clearCanvas(color){\n",
              "  bgcolor = color;\n",
              "  ctx.fillStyle = color;\n",
              "  ctx.fillRect(0, 0, c.width, c.height);\n",
              "}\n",
              "function initTurtle() {\n",
              "  var turl = \"https://raw.githubusercontent.com/tproffen/ORCSGirlsPython/master/Images/turtle.png\";\n",
              "  timg = new Image();\n",
              "  timg.src = turl; timg.setAttribute('crossorigin', 'anonymous');\n",
              "}\n",
              "//-----------------------------------------------------------------//\n",
              "//----------- Functions called from Python ------------------------//\n",
              "//-----------------------------------------------------------------//\n",
              "function updateDrawingCanvas(json) { \n",
              "  var art = JSON.parse(json);\n",
              "  bgcolor = art.bgcolor;\n",
              "  turtle = art.turtle;\n",
              "  c.width = art.width; c.height = art.height;\n",
              "  document.getElementById(\"art\").style.backgroundColor  = art.canvascolor;\n",
              "  document.getElementById(\"status\").style.backgroundColor  = art.statuscolor;\n",
              "\n",
              "  p=art.lines;\n",
              "  disableControls(true);\n",
              "  setTimeout(function() { play(art.delay); }, 50);\n",
              "}\n",
              "//-----------------------------------------------------------------//\n",
              "function updateDrawingSVG(svg,np) {\n",
              "  \n",
              "  blob = new Blob([svg],{type:'image/svg+xml;charset=utf-8'});\n",
              "  url = URL.createObjectURL(blob);\n",
              "  var img = new Image();\n",
              "  img.onload = function(e){\n",
              "    c.width=img.width; c.height=img.height;\n",
              "    ctx.drawImage( img, 0, 0 ); \n",
              "  };\n",
              "  img.src = url;\n",
              "  document.getElementById(\"save\").disabled = false;\n",
              "  updateStatusStatic(np);\n",
              "}\n",
              "//-----------------------------------------------------------------//\n",
              "//-----------------------------------------------------------------//\n",
              "var c = document.getElementById(\"turtleCanvas\");\n",
              "var ctx = c.getContext(\"2d\");\n",
              "var cold = ctx.getImageData(0, 0, c.width, c.height);\n",
              "var p = [], timg, turtle = false; path = false; dirty = false;\n",
              "\n",
              "initTurtle(); disableControls(true); c.addEventListener('mousemove',getCoordinates);\n",
              "</script>\n"
            ]
          },
          "metadata": {}
        },
        {
          "output_type": "display_data",
          "data": {
            "text/plain": [
              "<IPython.core.display.Javascript object>"
            ],
            "application/javascript": [
              "updateDrawingCanvas('{\"bgcolor\": \"white\", \"statuscolor\": \"#ededff\", \"turtle\": true, \"canvascolor\": \"#fafafa\", \"width\": 1000, \"height\": 600, \"delay\": 0, \"lines\": [{\"pen\": false, \"x\": 500.0, \"y\": 300.0, \"h\": 0.0, \"color\": \"blue\", \"width\": 2, \"fill\": false, \"fillcolor\": \"yellow\"}, {\"pen\": false, \"x\": 50, \"y\": 150, \"h\": 288.434948822922, \"color\": \"red\", \"width\": 1, \"fill\": false, \"fillcolor\": \"yellow\"}, {\"pen\": true, \"x\": 500, \"y\": 100, \"h\": 83.65980825409008, \"color\": \"red\", \"width\": 1, \"fill\": false, \"fillcolor\": \"yellow\"}, {\"pen\": true, \"x\": 123, \"y\": 180, \"h\": 258.01946052715266, \"color\": \"red\", \"width\": 1, \"fill\": false, \"fillcolor\": \"yellow\"}, {\"pen\": true, \"x\": 100, \"y\": 600, \"h\": 183.13449521213158, \"color\": \"red\", \"width\": 1, \"fill\": false, \"fillcolor\": \"yellow\"}, {\"pen\": false, \"x\": 500, \"y\": 150, \"h\": 41.63353933657021, \"color\": \"green\", \"width\": 1, \"fill\": false, \"fillcolor\": \"yellow\"}, {\"pen\": true, \"x\": 13, \"y\": 100, \"h\": 275.8619840725134, \"color\": \"green\", \"width\": 1, \"fill\": false, \"fillcolor\": \"yellow\"}, {\"pen\": true, \"x\": 100, \"y\": 600, \"h\": 170.1293571538622, \"color\": \"green\", \"width\": 1, \"fill\": false, \"fillcolor\": \"yellow\"}, {\"pen\": false, \"x\": 500, \"y\": 150, \"h\": 41.63353933657021, \"color\": \"red\", \"width\": 3, \"fill\": false, \"fillcolor\": \"yellow\"}, {\"pen\": true, \"x\": 13, \"y\": 100, \"h\": 275.8619840725134, \"color\": \"red\", \"width\": 3, \"fill\": false, \"fillcolor\": \"yellow\"}, {\"pen\": true, \"x\": 100, \"y\": 600, \"h\": 170.1293571538622, \"color\": \"red\", \"width\": 3, \"fill\": false, \"fillcolor\": \"yellow\"}]}')"
            ]
          },
          "metadata": {}
        }
      ]
    },
    {
      "cell_type": "code",
      "source": [
        "print(square.color)"
      ],
      "metadata": {
        "id": "2ZC7ZIJfyW5S",
        "outputId": "7ef90338-875e-4520-9159-07dd5e71cc31",
        "colab": {
          "base_uri": "https://localhost:8080/"
        }
      },
      "execution_count": 16,
      "outputs": [
        {
          "output_type": "stream",
          "name": "stdout",
          "text": [
            "red\n"
          ]
        }
      ]
    },
    {
      "cell_type": "markdown",
      "metadata": {
        "id": "AvKW1lgMJWtI"
      },
      "source": [
        "### Now change the distance in the forward command to a variable above.\n",
        "\n",
        "Variables are initialized with the name of the variable then an equal sign followed by the value of the variable.\n",
        "\n",
        "     my_variable_name = 10\n",
        "\n",
        "To use a variable just insert the name of the variable in the place for the value.\n",
        "\n",
        "     forward(my_variable_name)\n",
        "\n",
        "### Make your own variable in the cell above. ☝️☝️"
      ]
    },
    {
      "cell_type": "markdown",
      "metadata": {
        "id": "2qb20U7vLEqy"
      },
      "source": [
        "## Let's add a loop to make a diagonal line.\n",
        "Make sure there is an indent for the code after the loop, otherwise it won't run the specified number of times.\n",
        "\n",
        "If our equation for this line is:\n",
        "          \n",
        "\n",
        "```\n",
        "x = t\n",
        "y = 2t\n",
        "```\n",
        "As t increases, x and y increase. How would I make the line more horizontal? Vertical?\n",
        "\n",
        "First calculate the values for x and y using t using a loop. Then use the goto(X_POS, Y_POS) command after calculating the x and y each loop.  Make t your counter variable in the loop.\n"
      ]
    },
    {
      "cell_type": "code",
      "metadata": {
        "id": "Ufz8I07i_IJp",
        "outputId": "299ed18a-0027-46fb-f672-ac4af7e37848",
        "colab": {
          "base_uri": "https://localhost:8080/",
          "height": 661
        }
      },
      "source": [
        "initializeTurtle()\n",
        "bgcolor('white')\n",
        "color('red')\n",
        "width(1)\n",
        "showturtle()\n",
        "\n",
        "# add your commands below\n",
        "# example for loop:\n",
        "# for i in range(1,10):\n",
        "#     code repeated here\n",
        "\n",
        "\n",
        "\n",
        "## add commands above me!\n",
        "show()\n",
        "\n"
      ],
      "execution_count": null,
      "outputs": [
        {
          "output_type": "display_data",
          "data": {
            "text/plain": [
              "<IPython.core.display.HTML object>"
            ],
            "text/html": [
              "\n",
              "<style>\n",
              "table {border-collapse: collapse;}\n",
              "button {width: 80px; margin: 5px 5px 5px 0px; text-align: center; font-size: 1em;}\n",
              "canvas {margin-top: 5px;}\n",
              "#status {background-color: #cdcdff; font-size: 1em;}\n",
              "#art {text-align: center; background-color: #efefff; padding: 0px 5px 0px 5px;}\n",
              ".right {text-align: right;}\n",
              ".left {text-align: left;}\n",
              ".numbers {margin: 0px 10px 0px 10px; font-size: 1em; color: 'purple'; \n",
              "white-space: pre; font-family: 'Courier New', monospace;}\n",
              "</style>\n",
              "<table>\n",
              "<tr><td colspan=4 id='art'><canvas id=\"turtleCanvas\"></td></tr>\n",
              "<tr id=\"status\"><td class=\"left\"><div id=\"info\">\n",
              "<div class=\"numbers\"><b>Turtle</b> - Waiting ..                </div>\n",
              "</div></td><td class=\"left\"><div id=\"coord\">\n",
              "<div class='numbers'><b>Mouse</b> - x:   0 y:   0</div></div></td>\n",
              "<td class=\"right\"><button onClick=\"replay();\" id=\"replay\">Replay</button>\n",
              "<button onClick=\"saveImg();\" id=\"save\">Save</button></td></tr>\n",
              "</table>\n",
              "<script>\n",
              "function saveImg() {\n",
              "  var a = document.createElement(\"a\");\n",
              "  a.download = \"turtle.png\"; a.href = c.toDataURL(\"image/png\"); a.click();\n",
              "}\n",
              "function replay() {\n",
              "  var t=Math.max(Math.round(2000/p.length), 1);\n",
              "  disableControls(true);\n",
              "  setTimeout(function() { play(t); }, 50);\n",
              "}\n",
              "function disableControls(disable) {\n",
              "  document.getElementById(\"replay\").disabled = disable;\n",
              "  document.getElementById(\"save\").disabled = disable;\n",
              "}\n",
              "function play(delay) {\n",
              "  clearCanvas(bgcolor);\n",
              "  cold = ctx.getImageData(0, 0, c.width, c.height);\n",
              "  if(delay > 0) {\n",
              "    (function myLoop(i) {\n",
              "      setTimeout(function() {\n",
              "        plot(i, delay);\n",
              "        if (++i < p.length) { myLoop(i); } else { disableControls(false); }\n",
              "      }, delay)\n",
              "    })(1);\n",
              "  } else {\n",
              "    for (var ip=1; ip<p.length; ip++) { plot(ip, delay); }\n",
              "    disableControls(false);\n",
              "  }\n",
              "}\n",
              "function plot(ip, delay) {\n",
              "  if(dirty) { ctx.putImageData(cold, 0, 0); }\n",
              "  if(p[ip-1].fill!=p[ip].fill   || p[ip-1].width!=p[ip].width || \n",
              "     p[ip-1].color!=p[ip].color || p[ip-1].fillcolor!=p[ip].fillcolor ||\n",
              "     ip==1) {\n",
              "    if(p[ip-1].fill) {     \n",
              "      ctx.fillStyle = p[ip-1].fillcolor;\n",
              "      ctx.fill(); \n",
              "    }\n",
              "    ctx.beginPath();\n",
              "    ctx.moveTo(p[ip-1].x, p[ip-1].y);\n",
              "    ctx.strokeStyle = p[ip].color;\n",
              "    ctx.lineWidth = p[ip].width;\n",
              "  }\n",
              "  if(p[ip].pen) { ctx.lineTo(p[ip].x, p[ip].y); }\n",
              "  else          { ctx.moveTo(p[ip].x, p[ip].y); }\n",
              "  ctx.stroke();\n",
              "  if(turtle && (delay > 0 || ip==p.length-1)) { showTurtle(ip); }\n",
              "  updateStatus(p[ip].x, p[ip].y, p[ip].h, ip);\n",
              "}\n",
              "function updateStatus(x,y,h,ip) {\n",
              "  px=String(Math.round(x)).padStart(4,' ');\n",
              "  py=String(Math.round(y)).padStart(4,' ');\n",
              "  ph=String(Math.round(h)).padStart(4,' ');\n",
              "  pi=String(ip).padStart(6,' ');\n",
              "  document.getElementById(\"info\").innerHTML=\n",
              "  \"<div class='numbers'><b>Turtle</b> - x:\"+px+\" y:\"+py+\n",
              "  \" Heading:\"+ph+\" - Points:\"+pi+\"</div>\";\n",
              "}\n",
              "function updateStatusStatic(ip) {\n",
              "  pi=String(ip).padStart(6,' ');\n",
              "  document.getElementById(\"info\").innerHTML=\n",
              "  \"<div class='numbers'><b>Turtle</b> - Points:\"+pi+\n",
              "  \" (non interactive)           </div>\";\n",
              "}\n",
              "function getCoordinates(e) {\n",
              "  var rect = c.getBoundingClientRect();\n",
              "  mx=String(Math.round(e.clientX-rect.left)).padStart(4,' ');\n",
              "  my=String(Math.round(e.clientY-rect.top)).padStart(4,' ');\n",
              "  document.getElementById(\"coord\").innerHTML=\n",
              "  \"<div class='numbers'><b>Mouse</b> - x:\"+mx+\" y:\"+my+\"</div>\"; \n",
              "}\n",
              "function showTurtle(ip) {\n",
              "  cold = ctx.getImageData(0, 0, c.width, c.height);\n",
              "  ctx.translate(p[ip].x, p[ip].y);\n",
              "  ctx.rotate(p[ip].h*Math.PI/180.);\n",
              "  ctx.drawImage(timg, -timg.width/2, -timg.height / 2, timg.width, timg.height);\n",
              "  ctx.rotate(-p[ip].h*Math.PI/180.);\n",
              "  ctx.translate(-p[ip].x, -p[ip].y);\n",
              "  dirty = true;\n",
              "}\n",
              "function clearCanvas(color){\n",
              "  bgcolor = color;\n",
              "  ctx.fillStyle = color;\n",
              "  ctx.fillRect(0, 0, c.width, c.height);\n",
              "}\n",
              "function initTurtle() {\n",
              "  var turl = \"https://raw.githubusercontent.com/tproffen/ORCSGirlsPython/master/Images/turtle.png\";\n",
              "  timg = new Image();\n",
              "  timg.src = turl; timg.setAttribute('crossorigin', 'anonymous');\n",
              "}\n",
              "//-----------------------------------------------------------------//\n",
              "//----------- Functions called from Python ------------------------//\n",
              "//-----------------------------------------------------------------//\n",
              "function updateDrawingCanvas(json) { \n",
              "  var art = JSON.parse(json);\n",
              "  bgcolor = art.bgcolor;\n",
              "  turtle = art.turtle;\n",
              "  c.width = art.width; c.height = art.height;\n",
              "  document.getElementById(\"art\").style.backgroundColor  = art.canvascolor;\n",
              "  document.getElementById(\"status\").style.backgroundColor  = art.statuscolor;\n",
              "\n",
              "  p=art.lines;\n",
              "  disableControls(true);\n",
              "  setTimeout(function() { play(art.delay); }, 50);\n",
              "}\n",
              "//-----------------------------------------------------------------//\n",
              "function updateDrawingSVG(svg,np) {\n",
              "  \n",
              "  blob = new Blob([svg],{type:'image/svg+xml;charset=utf-8'});\n",
              "  url = URL.createObjectURL(blob);\n",
              "  var img = new Image();\n",
              "  img.onload = function(e){\n",
              "    c.width=img.width; c.height=img.height;\n",
              "    ctx.drawImage( img, 0, 0 ); \n",
              "  };\n",
              "  img.src = url;\n",
              "  document.getElementById(\"save\").disabled = false;\n",
              "  updateStatusStatic(np);\n",
              "}\n",
              "//-----------------------------------------------------------------//\n",
              "//-----------------------------------------------------------------//\n",
              "var c = document.getElementById(\"turtleCanvas\");\n",
              "var ctx = c.getContext(\"2d\");\n",
              "var cold = ctx.getImageData(0, 0, c.width, c.height);\n",
              "var p = [], timg, turtle = false; path = false; dirty = false;\n",
              "\n",
              "initTurtle(); disableControls(true); c.addEventListener('mousemove',getCoordinates);\n",
              "</script>\n"
            ]
          },
          "metadata": {}
        },
        {
          "output_type": "display_data",
          "data": {
            "text/plain": [
              "<IPython.core.display.Javascript object>"
            ],
            "application/javascript": [
              "updateDrawingCanvas('{\"bgcolor\": \"white\", \"statuscolor\": \"#ededff\", \"turtle\": true, \"canvascolor\": \"#fafafa\", \"width\": 1000, \"height\": 600, \"delay\": 0, \"lines\": [{\"pen\": false, \"x\": 500.0, \"y\": 300.0, \"h\": 0.0, \"color\": \"blue\", \"width\": 2, \"fill\": false, \"fillcolor\": \"yellow\"}]}')"
            ]
          },
          "metadata": {}
        }
      ]
    },
    {
      "cell_type": "markdown",
      "metadata": {
        "id": "tNYd0wSN_t1f"
      },
      "source": [
        "### Can you change the color of the line?\n",
        "Hint: the command can be found at [this handout](https://docs.google.com/document/d/1uFlPmNaOr5KiEaF38CRKiqg6GeoHnvI3_jGnPAow1iQ/edit?usp=sharing).\n",
        "\n",
        "Reading documentation of commands is an important skill to have to learn to code on your own. New commands are created constantly and added to Python.  Reading the documentation about those commands allows you to use them effectively."
      ]
    }
  ]
}