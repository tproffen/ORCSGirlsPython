{
  "nbformat": 4,
  "nbformat_minor": 0,
  "metadata": {
    "colab": {
      "name": "DrawingProject",
      "provenance": [],
      "include_colab_link": true
    },
    "kernelspec": {
      "display_name": "Python 3",
      "language": "python",
      "name": "python3"
    }
  },
  "cells": [
    {
      "cell_type": "markdown",
      "metadata": {
        "id": "view-in-github",
        "colab_type": "text"
      },
      "source": [
        "<a href=\"https://colab.research.google.com/github/tproffen/ORCSGirlsPython/blob/master/Objects/DrawingProject.ipynb\" target=\"_parent\"><img src=\"https://colab.research.google.com/assets/colab-badge.svg\" alt=\"Open In Colab\"/></a>"
      ]
    },
    {
      "cell_type": "markdown",
      "metadata": {
        "id": "Rk48Ab5CzRsE"
      },
      "source": [
        "\n",
        "<img src=\"https://github.com/tproffen/ORCSGirlsPython/blob/master/Images/Logo.png?raw=1\" width=\"10%\" align=\"right\" hspace=\"50\">\n",
        "\n",
        "# Artistic Math\n",
        "## Activity: Getting to know the turtle\n",
        "\n",
        "In this section, you are going to learn about basic *Python* commands. \n",
        "Follow along and enter your commands below. Remember to press `shift+return` to execute a command."
      ]
    },
    {
      "cell_type": "markdown",
      "metadata": {
        "id": "D0FVwrYECsoE"
      },
      "source": [
        "## Setup \n",
        "Remember, **you need to run the commands below first** to load the needed libraries. If this cell is not run, you will get an error in the later part of the notebook."
      ]
    },
    {
      "cell_type": "code",
      "metadata": {
        "id": "4g41pep-C4A5"
      },
      "source": [
        "!curl -s -o setup.sh https://raw.githubusercontent.com/tproffen/ORCSGirlsPython/master/Objects/Helpers/setup_activities.sh\n",
        "!bash setup.sh\n",
        "from Helpers.helpers import *"
      ],
      "execution_count": null,
      "outputs": []
    },
    {
      "cell_type": "markdown",
      "metadata": {
        "id": "ePnD3bmcFsX9"
      },
      "source": [
        "## Python Introduction\n",
        "\n",
        "Here is a quick overview of the Python commands we will need today. Basically, we will learn about variables, conditional statements, loops and how to make a function."
      ]
    },
    {
      "cell_type": "markdown",
      "metadata": {
        "id": "Qdn4l2EYF-cT"
      },
      "source": [
        "### Variables\n",
        "\n",
        "A variable is a place to remember a number or a piece of text. Note text needs to be enclosed in \" - for example `\"Thonas\"`. Here are some examples:"
      ]
    },
    {
      "cell_type": "code",
      "metadata": {
        "id": "-9McxLGzGYvh"
      },
      "source": [
        "name = \"Thomas\"\n",
        "number = 5\n",
        "number = number + 4"
      ],
      "execution_count": null,
      "outputs": []
    },
    {
      "cell_type": "markdown",
      "metadata": {
        "id": "gyTw5lDGGh7T"
      },
      "source": [
        "What is the value of `number`? To see the content of a variable use the command `print` like shown below."
      ]
    },
    {
      "cell_type": "code",
      "metadata": {
        "id": "oCCqXhnDGqSd"
      },
      "source": [
        "print(name)\n",
        "print(number)"
      ],
      "execution_count": null,
      "outputs": []
    },
    {
      "cell_type": "markdown",
      "metadata": {
        "id": "7hGshHRSGyHF"
      },
      "source": [
        "### Conditionals\n",
        "\n",
        "These are commands that allow to execute certain code only if a condition is true. Look at the example below."
      ]
    },
    {
      "cell_type": "code",
      "metadata": {
        "id": "7LGJqDYxHC6H"
      },
      "source": [
        "age = 17\n",
        "\n",
        "if age < 18:\n",
        "  print(\"You are too young to vote\")\n",
        "else:\n",
        "  print(\"Yeah! Go vote.\")"
      ],
      "execution_count": null,
      "outputs": []
    },
    {
      "cell_type": "markdown",
      "metadata": {
        "id": "9y5HN5sr0z3o"
      },
      "source": [
        "### Loops\n",
        "\n",
        "Here we will only cver the `for` loop needed for our class. There are other types of loops in Python such as the `while` loop.\n",
        "\n",
        "This for loop will run 9 times and the variable `t` will take values from `1` to `9`. Remember, the last value is not reached.\n",
        "\n",
        "\n",
        "```\n",
        "for t in range (1, 10):\n",
        "  **all code that will be looped must be indented**\n",
        "```\n",
        "\n"
      ]
    },
    {
      "cell_type": "code",
      "metadata": {
        "id": "o2S-P6SrzRs8"
      },
      "source": [
        "for t in range (1,5):\n",
        "  print(t)"
      ],
      "execution_count": null,
      "outputs": []
    },
    {
      "cell_type": "markdown",
      "metadata": {
        "id": "josFhEl6wfVM"
      },
      "source": [
        "☝️☝️ Change the code above, so it counts from 1 to 10. The first number is the starting number and the last number is one after the last printed number."
      ]
    },
    {
      "cell_type": "markdown",
      "metadata": {
        "id": "IU1pu15EF10Y"
      },
      "source": [
        "## Time for the turtle\n",
        "### Let's now draw a line.  \n",
        "\n",
        "Write a pendown() and then a forward(100) below the comment.\n",
        "It should look like this:\n",
        "```\n",
        "pendown()\n",
        "forward(100)\n",
        "```\n",
        "\n"
      ]
    },
    {
      "cell_type": "code",
      "metadata": {
        "id": "erZThCN1HiPG"
      },
      "source": [
        "initializeTurtle()\n",
        "bgcolor('white')\n",
        "color('red')\n",
        "width(1)\n",
        "showturtle()\n",
        "\n",
        "#add your pendown() and forward() commands below\n",
        "\n",
        "## add commands above me!\n",
        "show()"
      ],
      "execution_count": null,
      "outputs": []
    },
    {
      "cell_type": "markdown",
      "metadata": {
        "id": "AvKW1lgMJWtI"
      },
      "source": [
        "### Now change the distance in the forward command to a variable above.\n",
        "\n",
        "Variables are initialized with the name of the variable then an equal sign followed by the value of the variable.\n",
        "\n",
        "     my_variable_name = 10\n",
        "\n",
        "To use a variable just insert the name of the variable in the place for the value.\n",
        "\n",
        "     forward(my_variable_name)\n",
        "\n",
        "### Make your own variable in the cell above. ☝️☝️ "
      ]
    },
    {
      "cell_type": "markdown",
      "metadata": {
        "id": "2qb20U7vLEqy"
      },
      "source": [
        "## Let's add a loop to make a diagonal line. \n",
        "Make sure there is an indent for the code after the loop, otherwise it won't run the specified number of times.\n",
        "\n",
        "If our equation for this line is:\n",
        "          \n",
        "\n",
        "```\n",
        "x = t\n",
        "y = 2t\n",
        "```\n",
        "As t increases, x and y increase. How would I make the line more horizontal? Vertical?\n",
        "\n",
        "First calculate the values for x and y using t using a loop. Then use the goto(X_POS, Y_POS) command after calculating the x and y each loop.  Make t your counter variable in the loop.\n"
      ]
    },
    {
      "cell_type": "code",
      "metadata": {
        "id": "Ufz8I07i_IJp"
      },
      "source": [
        "initializeTurtle()\n",
        "bgcolor('white')\n",
        "color('red')\n",
        "width(1)\n",
        "showturtle()\n",
        "\n",
        "# add your commands below\n",
        "# example for loop:\n",
        "# for i in range(1,10):\n",
        "#     code repeated here\n",
        "\n",
        "\n",
        "\n",
        "## add commands above me!\n",
        "show()\n",
        "\n"
      ],
      "execution_count": null,
      "outputs": []
    },
    {
      "cell_type": "markdown",
      "metadata": {
        "id": "tNYd0wSN_t1f"
      },
      "source": [
        "### Can you change the color of the line? \n",
        "Hint: the command can be found at [this handout](https://docs.google.com/document/d/1uFlPmNaOr5KiEaF38CRKiqg6GeoHnvI3_jGnPAow1iQ/edit?usp=sharing).\n",
        "\n",
        "Reading documentation of commands is an important skill to have to learn to code on your own. New commands are created constantly and added to Python.  Reading the documentation about those commands allows you to use them effectively."
      ]
    }
  ]
}