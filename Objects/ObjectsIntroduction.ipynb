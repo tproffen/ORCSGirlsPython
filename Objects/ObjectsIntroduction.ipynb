{
  "nbformat": 4,
  "nbformat_minor": 0,
  "metadata": {
    "colab": {
      "name": "ObjectsIntroduction.ipynb",
      "private_outputs": true,
      "provenance": [],
      "authorship_tag": "ABX9TyMOo7yYpdTPfwJG4y2n/+wK",
      "include_colab_link": true
    },
    "kernelspec": {
      "name": "python3",
      "display_name": "Python 3"
    },
    "language_info": {
      "name": "python"
    }
  },
  "cells": [
    {
      "cell_type": "markdown",
      "metadata": {
        "id": "view-in-github",
        "colab_type": "text"
      },
      "source": [
        "<a href=\"https://colab.research.google.com/github/tproffen/ORCSGirlsPython/blob/master/AdvancedPython/ObjectsIntroduction.ipynb\" target=\"_parent\"><img src=\"https://colab.research.google.com/assets/colab-badge.svg\" alt=\"Open In Colab\"/></a>"
      ]
    },
    {
      "cell_type": "markdown",
      "source": [
        "<img src=\"https://github.com/tproffen/ORCSGirlsPython/blob/master/Images/Logo.png?raw=1\" width=\"10%\" align=\"right\" hpsace=\"50\">\n",
        "\n",
        "# Object Oriented Programming\n",
        "\n",
        "# Activity: Objects in Python\n",
        "\n",
        "Before we get to objects and object oriented programming, we will go through all programming you will need for the rest of the class.\n",
        "\n",
        "So what are object oriented programming? Here is what [Wikipedia](https://en.wikipedia.org/wiki/Object-oriented_programming) says:\n",
        "\n",
        "*Object-oriented programming (OOP) is a programming paradigm based on the concept of \"objects\", which can contain data and code: data in the form of fields (often known as attributes or properties), and code, in the form of procedures (often known as methods).*\n",
        "\n",
        "*A feature of objects is that an object's own procedures can access and often modify the data fields of itself (objects have a notion of this or self). In OOP, computer programs are designed by making them out of objects that interact with one another. OOP languages are diverse, but the most popular ones are class-based, meaning that objects are instances of classes, which also determine their types.* \n",
        "\n",
        "**Let's try it.**\n"
      ],
      "metadata": {
        "id": "jbn0SIoS173R"
      }
    },
    {
      "cell_type": "markdown",
      "source": [
        "### Classes\n",
        "\n",
        "You can think of classes as a template for objects. Below we define a simple class we want to use for our pet store. Note the special method `__init__` which is called when we instantiate the class. You note the variable `self` used in the class definition - it refers to the object itself once instanciated.\n",
        "\n",
        "Let's create a class for our Pets."
      ],
      "metadata": {
        "id": "jYc7JcOOUnwK"
      }
    },
    {
      "cell_type": "code",
      "source": [
        "class Pet:\n",
        "\n",
        "  def info(self):\n",
        "    # Note the f\" line below allows to format variables in text\n",
        "    print (f\"{self.name} ----- Age: {self.age} - Breed: {self.breed}\")\n",
        "\n",
        "  def __init__(self, name, age, breed):\n",
        "    # These are instance attriutes, so they are specific to the class\n",
        "    self.name = name\n",
        "    self.age = age\n",
        "    self.breed = breed\n",
        "    print (f\"Welcome {self.name}\")\n"
      ],
      "metadata": {
        "id": "yG_beGDwThx1"
      },
      "execution_count": null,
      "outputs": []
    },
    {
      "cell_type": "markdown",
      "source": [
        "Our Pet class needs three things when we instantiate it: `name`, `age` and `breed`. Note the variable `self`, this refers to the instantiated object itself. So let us use it. First we make two pet instances."
      ],
      "metadata": {
        "id": "c2Jv9MHsWhvR"
      }
    },
    {
      "cell_type": "code",
      "source": [
        "# Create an instance of the class\n",
        "fluffy = Pet('Fluffy', 2, 'Dog')\n",
        "mitzi = Pet('Mitzi', 1, 'Cat')"
      ],
      "metadata": {
        "id": "WaDPsSDmXHuf"
      },
      "execution_count": null,
      "outputs": []
    },
    {
      "cell_type": "markdown",
      "source": [
        "Now let's see how we work with those instances. Read the comments for explanations of the commands."
      ],
      "metadata": {
        "id": "WP_KKInvXab0"
      }
    },
    {
      "cell_type": "code",
      "source": [
        "# Call the info methos for fluffy\n",
        "fluffy.info()\n",
        "\n",
        "# Add code below to see the info for mitzi\n",
        "## You code here|"
      ],
      "metadata": {
        "id": "ircmxqHBXh5s"
      },
      "execution_count": null,
      "outputs": []
    },
    {
      "cell_type": "code",
      "source": [
        "# Access instance attributes\n",
        "print(fluffy.age)\n",
        "\n",
        "# Happy birthday fluffy 🎂\n",
        "fluffy.age = fluffy.age + 1    # Happy birthday\n",
        "print(fluffy.age)\n",
        "\n",
        "# You made a mistake with Mitzi's age - how do yu set it to 2 years?\n",
        "## Your code here"
      ],
      "metadata": {
        "id": "MZCblcpAYfaU"
      },
      "execution_count": null,
      "outputs": []
    },
    {
      "cell_type": "code",
      "source": [
        "# How do we see all the attributed and methods in an object?\n",
        "dir(fluffy)"
      ],
      "metadata": {
        "id": "Dwqmei4KceuS"
      },
      "execution_count": null,
      "outputs": []
    },
    {
      "cell_type": "markdown",
      "source": [
        "### Lists of objects\n",
        "\n",
        "We can easily make a list of objects and then use loops for work with the instances. Here is an example."
      ],
      "metadata": {
        "id": "IMWXzlBLwhHF"
      }
    },
    {
      "cell_type": "code",
      "source": [
        "pets = [Pet('Fluffy', 2, 'Dog'), Pet('Spike', 2, 'Dog'), Pet('Fido', 1, 'Dog'), Pet('Sparky', 2, 'Dog')]"
      ],
      "metadata": {
        "id": "rR_7x0wVwy-r"
      },
      "execution_count": null,
      "outputs": []
    },
    {
      "cell_type": "code",
      "source": [
        "# loop over all pets and print info\n",
        "for pet in pets:\n",
        "  pet.info()"
      ],
      "metadata": {
        "id": "nGA6ky5-xQaF"
      },
      "execution_count": null,
      "outputs": []
    },
    {
      "cell_type": "markdown",
      "source": [
        "### Inheritance\n",
        "\n",
        "One cool thing is that you can create a class that inherits from a parent class. Here we make a class Dog that inherits from the Pet class. This way all attributes and methods from Pet are availabe. We can choose to overwrite them. Also note we can call the methods of the parent - here `Pet.__init__`."
      ],
      "metadata": {
        "id": "E9tH258qauc7"
      }
    },
    {
      "cell_type": "code",
      "source": [
        "class Dog(Pet):\n",
        "\n",
        "  def bark(self):\n",
        "    print('Woof Woof')\n",
        "\n",
        "  def __init__(self, name, age):\n",
        "      Pet.__init__(self, name, age, 'Dog')\n"
      ],
      "metadata": {
        "id": "8cCebqDGa7US"
      },
      "execution_count": null,
      "outputs": []
    },
    {
      "cell_type": "markdown",
      "source": [
        "Let's try it out."
      ],
      "metadata": {
        "id": "F3OlaesFcZ5R"
      }
    },
    {
      "cell_type": "code",
      "source": [
        "# We instaciate the class - note it does not require the breed argument\n",
        "doggo = Dog('Doggo',1)"
      ],
      "metadata": {
        "id": "m-pmMe38bR3_"
      },
      "execution_count": null,
      "outputs": []
    },
    {
      "cell_type": "code",
      "source": [
        "# The parent methods exist, so we can get info like before\n",
        "doggo.info()\n",
        "\n",
        "# But now we have a dog specific method - so we can make him bark\n",
        "doggo.bark()"
      ],
      "metadata": {
        "id": "dCaDtmQAbehK"
      },
      "execution_count": null,
      "outputs": []
    },
    {
      "cell_type": "markdown",
      "source": [
        "#### Make a Cat class"
      ],
      "metadata": {
        "id": "OwZgERabuHnk"
      }
    },
    {
      "cell_type": "code",
      "source": [
        "# Can you make a cat class that inherits form Pet and add a methos meow?\n",
        "## Add your code here"
      ],
      "metadata": {
        "id": "YZzkUyPKclFZ"
      },
      "execution_count": null,
      "outputs": []
    },
    {
      "cell_type": "code",
      "source": [
        ""
      ],
      "metadata": {
        "id": "X9j55u-s97xR"
      },
      "execution_count": null,
      "outputs": []
    }
  ]
}