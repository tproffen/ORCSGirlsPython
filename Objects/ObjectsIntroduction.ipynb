{
 "cells": [
  {
   "cell_type": "markdown",
   "metadata": {
    "colab_type": "text",
    "id": "view-in-github"
   },
   "source": [
    "<a href=\"https://colab.research.google.com/github/tproffen/ORCSGirlsPython/blob/master/Objects/ObjectsIntroduction.ipynb\" target=\"_parent\"><img src=\"https://colab.research.google.com/assets/colab-badge.svg\" alt=\"Open In Colab\"/></a>"
   ]
  },
  {
   "cell_type": "markdown",
   "metadata": {
    "id": "jbn0SIoS173R"
   },
   "source": [
    "<img src=\"https://github.com/tproffen/ORCSGirlsPython/blob/master/Images/Logo.png?raw=1\" width=\"10%\" align=\"right\" hpsace=\"50\">\n",
    "\n",
    "# Object Oriented Programming\n",
    "\n",
    "# Activity: Objects in Python\n",
    "\n",
    "Before we get to objects and object oriented programming, we will go through all programming you will need for the rest of the class.\n",
    "\n",
    "So what are object oriented programming? Here is what [Wikipedia](https://en.wikipedia.org/wiki/Object-oriented_programming) says:\n",
    "\n",
    "*Object-oriented programming (OOP) is a programming paradigm based on the concept of \"objects\", which can contain data and code: data in the form of fields (often known as attributes or properties), and code, in the form of procedures (often known as methods).*\n",
    "\n",
    "*A feature of objects is that an object's own procedures can access and often modify the data fields of itself (objects have a notion of this or self). In OOP, computer programs are designed by making them out of objects that interact with one another. OOP languages are diverse, but the most popular ones are class-based, meaning that objects are instances of classes, which also determine their types.*\n",
    "\n",
    "**Let's try it.**\n"
   ]
  },
  {
   "cell_type": "markdown",
   "metadata": {
    "id": "jYc7JcOOUnwK"
   },
   "source": [
    "### Classes\n",
    "\n",
    "You can think of classes as a template for objects. Below we define a simple class we want to use for our pet store. Note the special method `__init__` which is called when we instantiate the class. You note the variable `self` used in the class definition - it refers to the object itself once instanciated.\n",
    "\n",
    "Let's create a class for our Pets."
   ]
  },
  {
   "cell_type": "code",
   "execution_count": null,
   "metadata": {
    "id": "yG_beGDwThx1"
   },
   "outputs": [],
   "source": [
    "class Pet:\n",
    "\n",
    "  def info(self):\n",
    "    # Note the f\" line below allows to format variables in text\n",
    "    print (f\"{self.name} ----- Age: {self.age} - Breed: {self.breed}\")\n",
    "\n",
    "  def __init__(self, name, age, breed):\n",
    "    # These are instance attriutes, so they are specific to the class\n",
    "    self.name = name\n",
    "    self.age = age\n",
    "    self.breed = breed\n",
    "    print (f\"Welcome {self.name}\")\n"
   ]
  },
  {
   "cell_type": "markdown",
   "metadata": {
    "id": "c2Jv9MHsWhvR"
   },
   "source": [
    "Our Pet class needs three things when we instantiate it: `name`, `age` and `breed`. Note the variable `self`, this refers to the instantiated object itself. So let us use it. First we make two pet instances."
   ]
  },
  {
   "cell_type": "code",
   "execution_count": null,
   "metadata": {
    "id": "WaDPsSDmXHuf"
   },
   "outputs": [],
   "source": [
    "# Create an instance of the class\n",
    "fluffy = Pet('Fluffy', 2, 'Dog')\n",
    "mitzi = Pet('Mitzi', 1, 'Cat')"
   ]
  },
  {
   "cell_type": "markdown",
   "metadata": {
    "id": "WP_KKInvXab0"
   },
   "source": [
    "Now let's see how we work with those instances. Read the comments for explanations of the commands."
   ]
  },
  {
   "cell_type": "code",
   "execution_count": null,
   "metadata": {
    "id": "ircmxqHBXh5s"
   },
   "outputs": [],
   "source": [
    "# Call the info methos for fluffy\n",
    "fluffy.info()\n",
    "\n",
    "# Add code below to see the info for mitzi\n",
    "## You code here|"
   ]
  },
  {
   "cell_type": "code",
   "execution_count": null,
   "metadata": {
    "id": "MZCblcpAYfaU"
   },
   "outputs": [],
   "source": [
    "# Access instance attributes\n",
    "print(fluffy.age)\n",
    "\n",
    "# Happy birthday fluffy 🎂\n",
    "fluffy.age = fluffy.age + 1    # Happy birthday\n",
    "print(fluffy.age)\n",
    "\n",
    "# You made a mistake with Mitzi's age - how do yu set it to 2 years?\n",
    "## Your code here"
   ]
  },
  {
   "cell_type": "code",
   "execution_count": null,
   "metadata": {
    "id": "Dwqmei4KceuS"
   },
   "outputs": [],
   "source": [
    "# How do we see all the attributed and methods in an object?\n",
    "dir(fluffy)"
   ]
  },
  {
   "cell_type": "markdown",
   "metadata": {
    "id": "IMWXzlBLwhHF"
   },
   "source": [
    "### Lists of objects\n",
    "\n",
    "We can easily make a list of objects and then use loops for work with the instances. Here is an example."
   ]
  },
  {
   "cell_type": "code",
   "execution_count": null,
   "metadata": {
    "id": "rR_7x0wVwy-r"
   },
   "outputs": [],
   "source": [
    "pets = [Pet('Fluffy', 2, 'Dog'), Pet('Spike', 2, 'Dog'), Pet('Fido', 1, 'Dog'), Pet('Sparky', 2, 'Dog')]"
   ]
  },
  {
   "cell_type": "code",
   "execution_count": null,
   "metadata": {
    "id": "nGA6ky5-xQaF"
   },
   "outputs": [],
   "source": [
    "# loop over all pets and print info\n",
    "for pet in pets:\n",
    "  pet.info()"
   ]
  },
  {
   "cell_type": "markdown",
   "metadata": {
    "id": "E9tH258qauc7"
   },
   "source": [
    "### Inheritance\n",
    "\n",
    "One cool thing is that you can create a class that inherits from a parent class. Here we make a class Dog that inherits from the Pet class. This way all attributes and methods from Pet are availabe. We can choose to overwrite them. Also note we can call the methods of the parent - here `Pet.__init__`."
   ]
  },
  {
   "cell_type": "code",
   "execution_count": null,
   "metadata": {
    "id": "8cCebqDGa7US"
   },
   "outputs": [],
   "source": [
    "class Dog(Pet):\n",
    "\n",
    "  def bark(self):\n",
    "    print('Woof Woof')\n",
    "\n",
    "  def __init__(self, name, age):\n",
    "      Pet.__init__(self, name, age, 'Dog')\n"
   ]
  },
  {
   "cell_type": "markdown",
   "metadata": {
    "id": "F3OlaesFcZ5R"
   },
   "source": [
    "Let's try it out."
   ]
  },
  {
   "cell_type": "code",
   "execution_count": null,
   "metadata": {
    "id": "m-pmMe38bR3_"
   },
   "outputs": [],
   "source": [
    "# We instaciate the class - note it does not require the breed argument\n",
    "doggo = Dog('Doggo',1)"
   ]
  },
  {
   "cell_type": "code",
   "execution_count": null,
   "metadata": {
    "id": "dCaDtmQAbehK"
   },
   "outputs": [],
   "source": [
    "# The parent methods exist, so we can get info like before\n",
    "doggo.info()\n",
    "\n",
    "# But now we have a dog specific method - so we can make him bark\n",
    "doggo.bark()"
   ]
  },
  {
   "cell_type": "markdown",
   "metadata": {
    "id": "OwZgERabuHnk"
   },
   "source": [
    "#### Make a Cat class"
   ]
  },
  {
   "cell_type": "code",
   "execution_count": null,
   "metadata": {
    "id": "YZzkUyPKclFZ"
   },
   "outputs": [],
   "source": [
    "# Can you make a cat class that inherits form Pet and add a methos meow?\n",
    "## Add your code here"
   ]
  },
  {
   "cell_type": "code",
   "execution_count": null,
   "metadata": {
    "id": "X9j55u-s97xR"
   },
   "outputs": [],
   "source": []
  }
 ],
 "metadata": {
  "colab": {
   "authorship_tag": "ABX9TyPOsdoC7HUGFxxmhofvXHIO",
   "include_colab_link": true,
   "name": "ObjectsIntroduction.ipynb",
   "private_outputs": true,
   "provenance": []
  },
  "kernelspec": {
   "display_name": "Python 3 (ipykernel)",
   "language": "python",
   "name": "python3"
  },
  "language_info": {
   "codemirror_mode": {
    "name": "ipython",
    "version": 3
   },
   "file_extension": ".py",
   "mimetype": "text/x-python",
   "name": "python",
   "nbconvert_exporter": "python",
   "pygments_lexer": "ipython3",
   "version": "3.11.5"
  }
 },
 "nbformat": 4,
 "nbformat_minor": 1
}
