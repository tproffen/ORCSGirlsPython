{
  "cells": [
    {
      "cell_type": "markdown",
      "metadata": {
        "id": "view-in-github",
        "colab_type": "text"
      },
      "source": [
        "<a href=\"https://colab.research.google.com/github/tproffen/ORCSGirlsPython/blob/master/Objects/ObjectsGame.ipynb\" target=\"_parent\"><img src=\"https://colab.research.google.com/assets/colab-badge.svg\" alt=\"Open In Colab\"/></a>"
      ]
    },
    {
      "cell_type": "code",
      "source": [
        "# Run this first\n",
        "from IPython.display import clear_output"
      ],
      "metadata": {
        "id": "azeQ4FPPAZdL"
      },
      "execution_count": null,
      "outputs": []
    },
    {
      "cell_type": "markdown",
      "metadata": {
        "id": "7dV-TGuITuJo"
      },
      "source": [
        "<img src=\"https://github.com/tproffen/ORCSGirlsPython/blob/master/Images/Logo.png?raw=1\" width=\"10%\" align=\"right\" hpsace=\"50\">\n",
        "\n",
        "# Object Oriented Programming - Solution\n",
        "\n",
        "We will learn about classes and objects by creating a simple game. This example is based on this <a href=\"https://github.com/orkslayergamedev/python-classes-text-battle\">code</a>."
      ]
    },
    {
      "cell_type": "markdown",
      "source": [
        "### Weapons class\n",
        "\n",
        "First we make a class for different weapons our chacters may use. For now weapons with have a `name` and a value for `damage` which is the value we will subtract from the characters health during the games. We could also implement a `show` method to pront details on the screen"
      ],
      "metadata": {
        "id": "IEkgvzvqLR0_"
      }
    },
    {
      "cell_type": "code",
      "execution_count": null,
      "metadata": {
        "id": "832qATl3T4OH"
      },
      "outputs": [],
      "source": [
        "class Weapon:\n",
        "  # Add the code here"
      ]
    },
    {
      "cell_type": "markdown",
      "source": [
        "Let's see what we can do with it."
      ],
      "metadata": {
        "id": "nVknemdSTqNF"
      }
    },
    {
      "cell_type": "code",
      "source": [
        "# make some weapons objects"
      ],
      "metadata": {
        "id": "14dIB3UdTt_l"
      },
      "execution_count": null,
      "outputs": []
    },
    {
      "cell_type": "markdown",
      "source": [
        "### Character Class\n",
        "\n",
        "One of the elements of our game are the characters. Our characters will have a `name`, a `weapon`, and a `health` value. What can they do? Hmm, maybe `attack`, `status` to print the status of the character and `is_alive`, so we can check if the character is alive. We also want to be able to use print to see the health of the character. The class we are buidling below is the blueprint for our characters.[link text](https://)"
      ],
      "metadata": {
        "id": "nLhqiX1SIt_5"
      }
    },
    {
      "cell_type": "code",
      "execution_count": null,
      "metadata": {
        "id": "wJ5wSvCKTg-z"
      },
      "outputs": [],
      "source": [
        "class Character:\n",
        "  # Add the code here"
      ]
    },
    {
      "cell_type": "markdown",
      "source": [
        "Now lets make some characters. Remember, the class is the template. Lets make some weapons objects by instanciating the Weapons class."
      ],
      "metadata": {
        "id": "CZGfCdv_LzEs"
      }
    },
    {
      "cell_type": "code",
      "source": [
        "# Make a sord, a bow and fists as our weapons"
      ],
      "metadata": {
        "id": "vzVL-oeLMHdF"
      },
      "execution_count": null,
      "outputs": []
    },
    {
      "cell_type": "markdown",
      "source": [
        "And now for instanciating two characters and print the status of each chacter."
      ],
      "metadata": {
        "id": "aXjOlxIaMkBT"
      }
    },
    {
      "cell_type": "code",
      "source": [
        "# Make a hero and an enemy chacter and show their status"
      ],
      "metadata": {
        "id": "sUnaxWQ9My-8"
      },
      "execution_count": null,
      "outputs": []
    },
    {
      "cell_type": "markdown",
      "source": [
        "Now we are ready for an attack and then show the status of both characters again."
      ],
      "metadata": {
        "id": "519qIRtfwEMn"
      }
    },
    {
      "cell_type": "code",
      "source": [
        "# Enemy attacks"
      ],
      "metadata": {
        "id": "A0AoRD6uNcFo"
      },
      "execution_count": null,
      "outputs": []
    },
    {
      "cell_type": "markdown",
      "source": [
        "###  Hero Class\n",
        "\n",
        "Now imagine we want our hero in the game to have special powers, like being able to change weapons or any other hero type things :) Now we could make a completely new class, but our Hero will have lots in common with the Character class. We can take advantage of that by inheriting the Character class and add or overwrite what we want to be new or different from the parent class.\n",
        "\n",
        "Here we want to add the ability to `equip` the hero with a weapon and also to `drop` the current weapon and revert to the default weapon - this is the one the hero started with."
      ],
      "metadata": {
        "id": "rt9N7qpRN37F"
      }
    },
    {
      "cell_type": "code",
      "source": [
        "# Create a Hero class that inherits the from the Character class."
      ],
      "metadata": {
        "id": "vpmopOmoN3Dt"
      },
      "execution_count": null,
      "outputs": []
    },
    {
      "cell_type": "markdown",
      "source": [
        "## Let's make a game\n",
        "\n",
        "Now we can make a simple game where the player is the hero and can change weapons. We have a single enemy and will continue attacks until either the player or the enemy is dead (health <=0). Each time ask the player to pich a weapon for the hero using the command `input`."
      ],
      "metadata": {
        "id": "sxJ1tngtPJOS"
      }
    },
    {
      "cell_type": "code",
      "execution_count": null,
      "metadata": {
        "id": "FwF2y8_OT7Mo"
      },
      "outputs": [],
      "source": [
        "# Game logic here"
      ]
    },
    {
      "cell_type": "markdown",
      "source": [
        "From here think of other features to add to the game. Have fun."
      ],
      "metadata": {
        "id": "U6iihz2WPxk8"
      }
    }
  ],
  "metadata": {
    "colab": {
      "private_outputs": true,
      "provenance": [],
      "include_colab_link": true
    },
    "kernelspec": {
      "display_name": "Python 3 (ipykernel)",
      "language": "python",
      "name": "python3"
    },
    "language_info": {
      "codemirror_mode": {
        "name": "ipython",
        "version": 3
      },
      "file_extension": ".py",
      "mimetype": "text/x-python",
      "name": "python",
      "nbconvert_exporter": "python",
      "pygments_lexer": "ipython3",
      "version": "3.11.5"
    }
  },
  "nbformat": 4,
  "nbformat_minor": 0
}