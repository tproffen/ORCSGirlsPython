{
  "cells": [
    {
      "cell_type": "markdown",
      "metadata": {
        "id": "view-in-github",
        "colab_type": "text"
      },
      "source": [
        "<a href=\"https://colab.research.google.com/github/tproffen/ORCSGirlsPython/blob/master/Objects/ObjectsGameDemo.ipynb\" target=\"_parent\"><img src=\"https://colab.research.google.com/assets/colab-badge.svg\" alt=\"Open In Colab\"/></a>"
      ]
    },
    {
      "cell_type": "markdown",
      "metadata": {
        "id": "7dV-TGuITuJo"
      },
      "source": [
        "Based on https://github.com/orkslayergamedev/python-classes-text-battle .."
      ]
    },
    {
      "cell_type": "code",
      "execution_count": null,
      "metadata": {
        "id": "wJ5wSvCKTg-z"
      },
      "outputs": [],
      "source": [
        "# ------------ parent class setup ------------\n",
        "class Character:\n",
        "    def __init__(self, name, health, weapon):\n",
        "        self.name = name\n",
        "        self.weapon = weapon\n",
        "        self.health = health\n",
        "        self.health_max = health\n",
        "\n",
        "        # Add a healthbar object\n",
        "        self.health_bar = HealthBar(self)\n",
        "\n",
        "    def attack(self, target):\n",
        "        target.health -= self.weapon.damage\n",
        "        target.health = max(target.health, 0)\n",
        "        target.health_bar.update()\n",
        "        print(f\"{self.name} dealt {self.weapon.damage} damage to \"\n",
        "              f\"{target.name} with {self.weapon.name}\")\n",
        "\n",
        "    def is_alive(self):\n",
        "      return self.health > 0\n",
        "\n",
        "\n",
        "# ------------ subclass setup ------------\n",
        "class Hero(Character):\n",
        "    def __init__(self, name, health, weapon):\n",
        "        super().__init__(name=name, health=health, weapon=weapon)\n",
        "        self.default_weapon = self.weapon\n",
        "\n",
        "    def equip(self, weapon) -> None:\n",
        "        self.weapon = weapon\n",
        "        print(f\"{self.name} equipped a(n) {self.weapon.name}!\")\n",
        "\n",
        "    def drop(self) -> None:\n",
        "        print(f\"{self.name} dropped the {self.weapon.name}!\")\n",
        "        self.weapon = self.default_weapon"
      ]
    },
    {
      "cell_type": "code",
      "execution_count": null,
      "metadata": {
        "id": "832qATl3T4OH"
      },
      "outputs": [],
      "source": [
        "# ------------ class setup ------------\n",
        "class Weapon:\n",
        "    def __init__(self, name, damage):\n",
        "        self.name = name\n",
        "        self.damage = damage"
      ]
    },
    {
      "cell_type": "code",
      "execution_count": null,
      "metadata": {
        "id": "3k7zH3WaTz7I"
      },
      "outputs": [],
      "source": [
        "# ------------ class setup ------------\n",
        "class HealthBar:\n",
        "    def __init__(self, entity, length=40):\n",
        "        self.entity = entity\n",
        "        self.length = length\n",
        "        self.current_value = entity.health\n",
        "        self.max_value = entity.health_max\n",
        "\n",
        "    def update(self) -> None:\n",
        "        self.current_value = self.entity.health\n",
        "\n",
        "    def draw(self) -> None:\n",
        "        remaining_bars = round(self.current_value / self.max_value * self.length)\n",
        "        lost_bars = self.length - remaining_bars\n",
        "        print(f\"{self.entity.name}'s HEALTH: {self.entity.health}/{self.entity.health_max}\")\n",
        "        print(f\"|{remaining_bars * '*'}{lost_bars * '_'}|\")\n"
      ]
    },
    {
      "cell_type": "code",
      "execution_count": null,
      "metadata": {
        "id": "FwF2y8_OT7Mo"
      },
      "outputs": [],
      "source": [
        "# ------------ setup ------------\n",
        "sword = Weapon(name=\"Iron Sword\", damage=10)\n",
        "bow = Weapon(name=\"Short Bow\", damage=15)\n",
        "fists = Weapon(name=\"Fists\", damage=5)\n",
        "\n",
        "hero = Hero(name=\"Hero\", health=100, weapon=fists)\n",
        "enemy = Character(name=\"Enemy\", health=100, weapon=sword)\n",
        "\n",
        "# ------------ game loop ------------\n",
        "while hero.is_alive() and enemy.is_alive():\n",
        "    hero.health_bar.draw()\n",
        "    enemy.health_bar.draw()\n",
        "\n",
        "    choice=input('\\nCommand (s=sword, b=bow,  f=fist):\\n')\n",
        "\n",
        "    if choice=='s':\n",
        "      hero.equip(sword)\n",
        "    elif choice=='b':\n",
        "      hero.equip(bow)\n",
        "    elif choice=='f':\n",
        "      hero.equip(fists)\n",
        "\n",
        "    hero.attack(enemy)\n",
        "    enemy.attack(hero)\n",
        "\n",
        "# Who won?\n",
        "if hero.is_alive():\n",
        "  print(\"Woohoo - the hero won\")\n",
        "else:\n",
        "  print(\"Nooo the hero died\")"
      ]
    },
    {
      "cell_type": "code",
      "execution_count": null,
      "metadata": {
        "id": "jt5cbERLT_BI"
      },
      "outputs": [],
      "source": []
    }
  ],
  "metadata": {
    "colab": {
      "private_outputs": true,
      "provenance": [],
      "include_colab_link": true
    },
    "kernelspec": {
      "display_name": "Python 3 (ipykernel)",
      "language": "python",
      "name": "python3"
    },
    "language_info": {
      "codemirror_mode": {
        "name": "ipython",
        "version": 3
      },
      "file_extension": ".py",
      "mimetype": "text/x-python",
      "name": "python",
      "nbconvert_exporter": "python",
      "pygments_lexer": "ipython3",
      "version": "3.11.5"
    }
  },
  "nbformat": 4,
  "nbformat_minor": 0
}