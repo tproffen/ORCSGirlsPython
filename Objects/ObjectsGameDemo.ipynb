{
  "nbformat": 4,
  "nbformat_minor": 0,
  "metadata": {
    "colab": {
      "private_outputs": true,
      "provenance": [],
      "authorship_tag": "ABX9TyOvgE3Jul70M1BSIl4ATs8D",
      "include_colab_link": true
    },
    "kernelspec": {
      "name": "python3",
      "display_name": "Python 3"
    },
    "language_info": {
      "name": "python"
    }
  },
  "cells": [
    {
      "cell_type": "markdown",
      "metadata": {
        "id": "view-in-github",
        "colab_type": "text"
      },
      "source": [
        "<a href=\"https://colab.research.google.com/github/tproffen/ORCSGirlsPython/blob/master/Objects/ObjectsGameDemo.ipynb\" target=\"_parent\"><img src=\"https://colab.research.google.com/assets/colab-badge.svg\" alt=\"Open In Colab\"/></a>"
      ]
    },
    {
      "cell_type": "markdown",
      "source": [
        "Based on https://github.com/orkslayergamedev/python-classes-text-battle .."
      ],
      "metadata": {
        "id": "7dV-TGuITuJo"
      }
    },
    {
      "cell_type": "code",
      "execution_count": null,
      "metadata": {
        "id": "wJ5wSvCKTg-z"
      },
      "outputs": [],
      "source": [
        "# ------------ parent class setup ------------\n",
        "class Character:\n",
        "    def __init__(self,\n",
        "                 name: str,\n",
        "                 health: int,\n",
        "                 ) -> None:\n",
        "        self.name = name\n",
        "        self.health = health\n",
        "        self.health_max = health\n",
        "\n",
        "        self.weapon = fists\n",
        "\n",
        "    def attack(self, target) -> None:\n",
        "        target.health -= self.weapon.damage\n",
        "        target.health = max(target.health, 0)\n",
        "        target.health_bar.update()\n",
        "        print(f\"{self.name} dealt {self.weapon.damage} damage to \"\n",
        "              f\"{target.name} with {self.weapon.name}\")\n",
        "\n",
        "\n",
        "# ------------ subclass setup ------------\n",
        "class Hero(Character):\n",
        "    def __init__(self,\n",
        "                 name: str,\n",
        "                 health: int\n",
        "                 ) -> None:\n",
        "        super().__init__(name=name, health=health)\n",
        "\n",
        "        self.default_weapon = self.weapon\n",
        "        self.health_bar = HealthBar(self, color=\"green\")\n",
        "\n",
        "    def equip(self, weapon) -> None:\n",
        "        self.weapon = weapon\n",
        "        print(f\"{self.name} equipped a(n) {self.weapon.name}!\")\n",
        "\n",
        "    def drop(self) -> None:\n",
        "        print(f\"{self.name} dropped the {self.weapon.name}!\")\n",
        "        self.weapon = self.default_weapon\n",
        "\n",
        "\n",
        "# ------------ subclass setup ------------\n",
        "class Enemy(Character):\n",
        "    def __init__(self,\n",
        "                 name: str,\n",
        "                 health: int,\n",
        "                 weapon,\n",
        "                 ) -> None:\n",
        "        super().__init__(name=name, health=health)\n",
        "        self.weapon = weapon\n",
        "\n",
        "        self.health_bar = HealthBar(self, color=\"red\")"
      ]
    },
    {
      "cell_type": "code",
      "source": [
        "# ------------ class setup ------------\n",
        "class HealthBar:\n",
        "    symbol_remaining: str = \"█\"\n",
        "    symbol_lost: str = \"_\"\n",
        "    barrier: str = \"|\"\n",
        "    colors: dict = {\"red\": \"\\033[91m\",\n",
        "                    \"purple\": \"\\33[95m\",\n",
        "                    \"blue\": \"\\33[34m\",\n",
        "                    \"blue2\": \"\\33[36m\",\n",
        "                    \"blue3\": \"\\33[96m\",\n",
        "                    \"green\": \"\\033[92m\",\n",
        "                    \"green2\": \"\\033[32m\",\n",
        "                    \"brown\": \"\\33[33m\",\n",
        "                    \"yellow\": \"\\33[93m\",\n",
        "                    \"grey\": \"\\33[37m\",\n",
        "                    \"default\": \"\\033[0m\"\n",
        "                    }\n",
        "\n",
        "    def __init__(self,\n",
        "                 entity,\n",
        "                 length: int = 20,\n",
        "                 is_colored: bool = True,\n",
        "                 color: str = \"\") -> None:\n",
        "        self.entity = entity\n",
        "        self.length = length\n",
        "        self.max_value = entity.health_max\n",
        "        self.current_value = entity.health\n",
        "\n",
        "        self.is_colored = is_colored\n",
        "        self.color = self.colors.get(color) or self.colors[\"default\"]\n",
        "\n",
        "    def update(self) -> None:\n",
        "        self.current_value = self.entity.health\n",
        "\n",
        "    def draw(self) -> None:\n",
        "        remaining_bars = round(self.current_value / self.max_value * self.length)\n",
        "        lost_bars = self.length - remaining_bars\n",
        "        print(f\"{self.entity.name}'s HEALTH: {self.entity.health}/{self.entity.health_max}\")\n",
        "        print(f\"{self.barrier}\"\n",
        "              f\"{self.color if self.is_colored else ''}\"\n",
        "              f\"{remaining_bars * self.symbol_remaining}\"\n",
        "              f\"{lost_bars * self.symbol_lost}\"\n",
        "              f\"{self.colors['default'] if self.is_colored else ''}\"\n",
        "              f\"{self.barrier}\")"
      ],
      "metadata": {
        "id": "3k7zH3WaTz7I"
      },
      "execution_count": null,
      "outputs": []
    },
    {
      "cell_type": "code",
      "source": [
        "# ------------ class setup ------------\n",
        "class Weapon:\n",
        "    def __init__(self,\n",
        "                 name: str,\n",
        "                 weapon_type: str,\n",
        "                 damage: int,\n",
        "                 value: int\n",
        "                 ) -> None:\n",
        "        self.name = name\n",
        "        self.weapon_type = weapon_type\n",
        "        self.damage = damage\n",
        "        self.value = value\n",
        "\n",
        "\n",
        "# ------------ object creation ------------\n",
        "iron_sword = Weapon(name=\"Iron Sword\",\n",
        "                    weapon_type=\"sharp\",\n",
        "                    damage=5,\n",
        "                    value=10)\n",
        "\n",
        "short_bow = Weapon(name=\"Short Bow\",\n",
        "                   weapon_type=\"ranged\",\n",
        "                   damage=4,\n",
        "                   value=8)\n",
        "\n",
        "fists = Weapon(name=\"Fists\",\n",
        "               weapon_type=\"blunt\",\n",
        "               damage=2,\n",
        "               value=0)"
      ],
      "metadata": {
        "id": "832qATl3T4OH"
      },
      "execution_count": null,
      "outputs": []
    },
    {
      "cell_type": "code",
      "source": [
        "\n",
        "\n",
        "from IPython.display import clear_output\n",
        "\n",
        "# ------------ setup ------------\n",
        "hero = Hero(name=\"Hero\", health=100)\n",
        "hero.equip(iron_sword)\n",
        "enemy = Enemy(name=\"Enemy\", health=100, weapon=short_bow)\n",
        "\n",
        "# ------------ game loop ------------\n",
        "try:\n",
        "  while True:\n",
        "\n",
        "      clear_output(wait=True)\n",
        "      hero.attack(enemy)\n",
        "      enemy.attack(hero)\n",
        "\n",
        "      hero.health_bar.draw()\n",
        "      enemy.health_bar.draw()\n",
        "\n",
        "      # Add some loging to choose weapon for player\n",
        "      # Count moves?!\n",
        "\n",
        "      input()\n",
        "except KeyboardInterrupt:\n",
        "  print(\"Bye\")"
      ],
      "metadata": {
        "id": "FwF2y8_OT7Mo"
      },
      "execution_count": null,
      "outputs": []
    },
    {
      "cell_type": "code",
      "source": [],
      "metadata": {
        "id": "jt5cbERLT_BI"
      },
      "execution_count": null,
      "outputs": []
    }
  ]
}