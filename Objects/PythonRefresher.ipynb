{
 "cells": [
  {
   "cell_type": "markdown",
   "metadata": {
    "colab_type": "text",
    "id": "view-in-github"
   },
   "source": [
    "<a href=\"https://colab.research.google.com/github/tproffen/ORCSGirlsPython/blob/master/Objects/PythonRefresher.ipynb\" target=\"_parent\"><img src=\"https://colab.research.google.com/assets/colab-badge.svg\" alt=\"Open In Colab\"/></a>"
   ]
  },
  {
   "cell_type": "markdown",
   "metadata": {
    "id": "6qSUkwefvzWA"
   },
   "source": [
    "<img src=\"https://github.com/tproffen/ORCSGirlsPython/blob/master/Images/Logo.png?raw=1\" width=\"10%\" align=\"right\" hpsace=\"50\">\n",
    "\n",
    "# Object Oriented Programming\n",
    "\n",
    "# Activity: Python Refresher\n",
    "\n",
    "Before we get to objects and object oriented programming, we will go through all programming you will need for the rest of the class."
   ]
  },
  {
   "cell_type": "markdown",
   "metadata": {
    "collapsed": true,
    "id": "rdwDfxLMvzWC"
   },
   "source": [
    "\n",
    "We are running this notebook using <a href=\"https://colab.research.google.com/\">Google Colaboratory</a>. You can use the **+ Code** and **+ Text** buttons to add **Markdown** and **Code** cells. Execute a cell by pressing `shift` + `enter` or clocking the play button next to the cell.\n",
    "\n",
    "Let us start with writing `Hello, World!` on the screen. Click in the cell below and enter\n",
    "\n",
    "> `print (\"Hello, World!\")`\n",
    "\n",
    "and press `shift+enter` (or the little \"play\" button)."
   ]
  },
  {
   "cell_type": "code",
   "execution_count": null,
   "metadata": {
    "id": "tJwHrKWMvzWG",
    "scrolled": true
   },
   "outputs": [],
   "source": [
    "print(\"Hello, World!\")"
   ]
  },
  {
   "cell_type": "markdown",
   "metadata": {
    "id": "CbwZx9wLvzWJ"
   },
   "source": [
    "\n",
    "In the following sections, we will cover four Python elements we will need for today's class:\n",
    "* Variables\n",
    "* Lists\n",
    "* Loops\n",
    "* Conditionals"
   ]
  },
  {
   "cell_type": "markdown",
   "metadata": {
    "id": "64_u-9fATtc1"
   },
   "source": [
    "### Variables\n",
    "\n",
    "Variables are a way for us to store information thay we may need later on. Say you are trying to remember somebody's name:"
   ]
  },
  {
   "cell_type": "code",
   "execution_count": null,
   "metadata": {
    "id": "_diYlHQTvzWa"
   },
   "outputs": [],
   "source": [
    "# Text needs to be written with quotation marks\n",
    "\n",
    "my_name = \"Thomas\"\n",
    "print(\"Hello,\", my_name)"
   ]
  },
  {
   "cell_type": "markdown",
   "metadata": {
    "id": "339PfHpfX1KO"
   },
   "source": [
    "Variables can also contain numbers:"
   ]
  },
  {
   "cell_type": "code",
   "execution_count": null,
   "metadata": {
    "id": "pR1NvMUDX1KO"
   },
   "outputs": [],
   "source": [
    "number = 1\n",
    "decimal = 3.45\n",
    "\n",
    "print(number)\n",
    "print(decimal)"
   ]
  },
  {
   "cell_type": "markdown",
   "metadata": {
    "id": "_9VtAfBHvzWd"
   },
   "source": [
    "### Lists\n",
    "\n",
    "If you want Python to remember several things (like several names) you can use lists. Lists are created with squared brackets: [ and ]. Lists can contain text or numbers or indeed Python objects 😎 Let's create a list:"
   ]
  },
  {
   "cell_type": "code",
   "execution_count": null,
   "metadata": {
    "id": "n3hCxfj3vzWg"
   },
   "outputs": [],
   "source": [
    "names = [\"Harry\", \"Ron\", \"Hermione\", \"Hagrid\", \"Dobby\"]\n",
    "print(names)"
   ]
  },
  {
   "cell_type": "markdown",
   "metadata": {
    "id": "KLOuSqRPvzWo"
   },
   "source": [
    "You can access a member of a list, you can use its sequence number. The first member has number 0, second is number 1, third is number 2 and so on (notice the numbers start from zero). Before running the next cell, what is going to be printed on the screen?"
   ]
  },
  {
   "cell_type": "code",
   "execution_count": null,
   "metadata": {
    "id": "U9u_7bMdvzWp"
   },
   "outputs": [],
   "source": [
    "print(names[2]) # numbering starts from zero, so the third member can be accessed with number 2"
   ]
  },
  {
   "cell_type": "markdown",
   "metadata": {
    "id": "UnLhl0S2vzWr"
   },
   "source": [
    "Lists are not static, you can add to them. When you add to a list, the new member is also put at the end:"
   ]
  },
  {
   "cell_type": "code",
   "execution_count": null,
   "metadata": {
    "id": "OhUIQFM_vzWs"
   },
   "outputs": [],
   "source": [
    "names.append(\"Dumbledore\")\n",
    "print(names)"
   ]
  },
  {
   "cell_type": "markdown",
   "metadata": {
    "id": "SoVUwAvgR1Tf"
   },
   "source": [
    "We can get the length of a list using the function `len(list)`."
   ]
  },
  {
   "cell_type": "code",
   "execution_count": null,
   "metadata": {
    "id": "VfnwJhoMR8d1"
   },
   "outputs": [],
   "source": [
    "n = len(names)\n",
    "print (n)"
   ]
  },
  {
   "cell_type": "markdown",
   "metadata": {
    "id": "zUIi9-IdSCat"
   },
   "source": [
    "We can also 'pop' an element from the list using `list.pop()`. With no argument it will return the last element and remove if from the list. What will happen if you run the cell multiple times?"
   ]
  },
  {
   "cell_type": "code",
   "execution_count": null,
   "metadata": {
    "id": "TkcF0m3GSSsj"
   },
   "outputs": [],
   "source": [
    "last = names.pop()\n",
    "print (last)"
   ]
  },
  {
   "cell_type": "markdown",
   "metadata": {
    "id": "bgUiS924Sh7g"
   },
   "source": [
    "Next we will sort the list and then shuffle it so it has a random order. Note we need to `import random` for the shuffle function."
   ]
  },
  {
   "cell_type": "code",
   "execution_count": null,
   "metadata": {
    "id": "apvKwyb6St35"
   },
   "outputs": [],
   "source": [
    "names.sort()\n",
    "print (names)"
   ]
  },
  {
   "cell_type": "code",
   "execution_count": null,
   "metadata": {
    "id": "eEMdWUMNS5zo"
   },
   "outputs": [],
   "source": [
    "import random\n",
    "\n",
    "random.shuffle(names)\n",
    "print (names)"
   ]
  },
  {
   "cell_type": "markdown",
   "metadata": {
    "id": "DkHHBd2avzW8"
   },
   "source": [
    "### Loops\n",
    "\n",
    "Loops are a way to do something with many variables. Remember the list of names we just created?"
   ]
  },
  {
   "cell_type": "code",
   "execution_count": null,
   "metadata": {
    "id": "YWaTA8fBvzW9"
   },
   "outputs": [],
   "source": [
    "print(names)"
   ]
  },
  {
   "cell_type": "markdown",
   "metadata": {
    "id": "sMhDYwiQvzXA"
   },
   "source": [
    "If we want to say hello to everyone on this list, we can simply use a loop like this. Notice that you need to use a colon to end the first line and then the indentation (spaces) on the second line. This is very important."
   ]
  },
  {
   "cell_type": "code",
   "execution_count": null,
   "metadata": {
    "id": "nBGRyliFvzXE"
   },
   "outputs": [],
   "source": [
    "for name in names:\n",
    "  print(\"Hello,\", name)"
   ]
  },
  {
   "cell_type": "markdown",
   "metadata": {
    "id": "gtnLHK3PWaPb"
   },
   "source": [
    "### Conditionals\n",
    "\n",
    "These are commands that allow to execute certain code only if a condition is true. Look at the example below."
   ]
  },
  {
   "cell_type": "code",
   "execution_count": null,
   "metadata": {
    "id": "40q4pH1RWd8i"
   },
   "outputs": [],
   "source": [
    "age = 17\n",
    "\n",
    "if age < 18:\n",
    "  print(\"You are too young to vote\")\n",
    "else:\n",
    "  print(\"Yeah! Go vote.\")"
   ]
  },
  {
   "cell_type": "code",
   "execution_count": null,
   "metadata": {
    "id": "oAhIsHWoXv5X"
   },
   "outputs": [],
   "source": [
    "# You can try more commands here :)"
   ]
  },
  {
   "cell_type": "code",
   "execution_count": null,
   "metadata": {
    "id": "3hTAR6gUXyZr"
   },
   "outputs": [],
   "source": []
  }
 ],
 "metadata": {
  "colab": {
   "include_colab_link": true,
   "name": "PythonRefresher.ipynb",
   "provenance": []
  },
  "kernelspec": {
   "display_name": "Python 3 (ipykernel)",
   "language": "python",
   "name": "python3"
  },
  "language_info": {
   "codemirror_mode": {
    "name": "ipython",
    "version": 3
   },
   "file_extension": ".py",
   "mimetype": "text/x-python",
   "name": "python",
   "nbconvert_exporter": "python",
   "pygments_lexer": "ipython3",
   "version": "3.11.5"
  }
 },
 "nbformat": 4,
 "nbformat_minor": 1
}
