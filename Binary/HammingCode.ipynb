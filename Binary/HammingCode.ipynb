{
  "nbformat": 4,
  "nbformat_minor": 0,
  "metadata": {
    "colab": {
      "private_outputs": true,
      "provenance": [],
      "authorship_tag": "ABX9TyM+aeMrSTnxT/24wL3Ad0hJ",
      "include_colab_link": true
    },
    "kernelspec": {
      "name": "python3",
      "display_name": "Python 3"
    },
    "language_info": {
      "name": "python"
    }
  },
  "cells": [
    {
      "cell_type": "markdown",
      "metadata": {
        "id": "view-in-github",
        "colab_type": "text"
      },
      "source": [
        "<a href=\"https://colab.research.google.com/github/tproffen/ORCSGirlsPython/blob/master/Binary/HammingCode.ipynb\" target=\"_parent\"><img src=\"https://colab.research.google.com/assets/colab-badge.svg\" alt=\"Open In Colab\"/></a>"
      ]
    },
    {
      "cell_type": "code",
      "execution_count": null,
      "metadata": {
        "id": "7ehCGLlk6Ux_"
      },
      "outputs": [],
      "source": [
        "a=0b0110"
      ]
    },
    {
      "cell_type": "code",
      "source": [
        "print(a)"
      ],
      "metadata": {
        "id": "1v8_7cv96XIa"
      },
      "execution_count": null,
      "outputs": []
    },
    {
      "cell_type": "code",
      "source": [
        "print(a ^ a)"
      ],
      "metadata": {
        "id": "pzQporBH6oWk"
      },
      "execution_count": null,
      "outputs": []
    },
    {
      "cell_type": "code",
      "source": [
        "import numpy as np\n",
        "import operator as op\n",
        "from functools import reduce"
      ],
      "metadata": {
        "id": "E0j2TyUP6sxR"
      },
      "execution_count": null,
      "outputs": []
    },
    {
      "cell_type": "code",
      "source": [
        "bits=np.random.randint(0,2,16)"
      ],
      "metadata": {
        "id": "f7qO6IAw7ab3"
      },
      "execution_count": null,
      "outputs": []
    },
    {
      "cell_type": "code",
      "source": [
        "list(enumerate(bits))"
      ],
      "metadata": {
        "id": "lSKfsbqN7eZ5"
      },
      "execution_count": null,
      "outputs": []
    },
    {
      "cell_type": "code",
      "source": [
        "[i for i, bit in enumerate(bits)]"
      ],
      "metadata": {
        "id": "vlbM6MgV7msO"
      },
      "execution_count": null,
      "outputs": []
    },
    {
      "cell_type": "code",
      "source": [
        "[i for i, bit in enumerate(bits) if bit]"
      ],
      "metadata": {
        "id": "BLr3vQFz7xSV"
      },
      "execution_count": null,
      "outputs": []
    },
    {
      "cell_type": "code",
      "source": [
        "bits"
      ],
      "metadata": {
        "id": "58BMl8KM70JN"
      },
      "execution_count": null,
      "outputs": []
    },
    {
      "cell_type": "code",
      "source": [
        "reduce(op.xor, [i for i, bit in enumerate(bits) if bit])"
      ],
      "metadata": {
        "id": "svX5DE1Q7-_q"
      },
      "execution_count": null,
      "outputs": []
    },
    {
      "cell_type": "code",
      "source": [
        "bin(10)"
      ],
      "metadata": {
        "id": "8bLpKrvg8MLj"
      },
      "execution_count": null,
      "outputs": []
    },
    {
      "cell_type": "code",
      "source": [
        "# Setting parity bits for 1000 (8) and 0010 (2) to make a well formed block\n",
        "bits[8] = not bits[8]\n",
        "bits[2] = not bits[2]"
      ],
      "metadata": {
        "id": "L0tqoAHS8Z6b"
      },
      "execution_count": null,
      "outputs": []
    },
    {
      "cell_type": "code",
      "source": [
        "reduce(op.xor, [i for i, bit in enumerate(bits) if bit])"
      ],
      "metadata": {
        "id": "i0edarZi9Hr2"
      },
      "execution_count": null,
      "outputs": []
    },
    {
      "cell_type": "code",
      "source": [
        "bits[5] = not bits[5]"
      ],
      "metadata": {
        "id": "8_uXHcdE9JJ9"
      },
      "execution_count": null,
      "outputs": []
    },
    {
      "cell_type": "code",
      "source": [
        "reduce(op.xor, [i for i, bit in enumerate(bits) if bit])"
      ],
      "metadata": {
        "id": "74LMtja19WtE"
      },
      "execution_count": null,
      "outputs": []
    },
    {
      "cell_type": "code",
      "source": [
        "# Bit 5 is wrong :)"
      ],
      "metadata": {
        "id": "ElYw3tRq9X4n"
      },
      "execution_count": null,
      "outputs": []
    },
    {
      "cell_type": "code",
      "source": [],
      "metadata": {
        "id": "uHVW3F2M9au1"
      },
      "execution_count": null,
      "outputs": []
    }
  ]
}