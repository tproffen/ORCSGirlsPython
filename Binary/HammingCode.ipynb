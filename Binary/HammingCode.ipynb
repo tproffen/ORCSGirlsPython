{
  "nbformat": 4,
  "nbformat_minor": 0,
  "metadata": {
    "colab": {
      "private_outputs": true,
      "provenance": [],
      "authorship_tag": "ABX9TyN9ZZBLEGXGPGfA6TmsOAst",
      "include_colab_link": true
    },
    "kernelspec": {
      "name": "python3",
      "display_name": "Python 3"
    },
    "language_info": {
      "name": "python"
    }
  },
  "cells": [
    {
      "cell_type": "markdown",
      "metadata": {
        "id": "view-in-github",
        "colab_type": "text"
      },
      "source": [
        "<a href=\"https://colab.research.google.com/github/tproffen/ORCSGirlsPython/blob/master/Binary/HammingCode.ipynb\" target=\"_parent\"><img src=\"https://colab.research.google.com/assets/colab-badge.svg\" alt=\"Open In Colab\"/></a>"
      ]
    },
    {
      "cell_type": "markdown",
      "source": [
        "## Binary numbers in Python\n",
        "\n",
        "You can assign a binary number to a variable by using `0b` in front of it. For example `0b1001` for 1001. If you print it, Python will show you the decimal value. Let's try.\n",
        "\n",
        "```\n",
        "# This is formatted as code\n",
        "```\n",
        "\n"
      ],
      "metadata": {
        "id": "Ar7LKi6oA2uK"
      }
    },
    {
      "cell_type": "code",
      "execution_count": null,
      "metadata": {
        "id": "7ehCGLlk6Ux_"
      },
      "outputs": [],
      "source": [
        "a=0b0110\n",
        "print(a)"
      ]
    },
    {
      "cell_type": "markdown",
      "source": [
        "To show a number as binary number use the command `bin` like below."
      ],
      "metadata": {
        "id": "x7cWpCieBXtc"
      }
    },
    {
      "cell_type": "code",
      "source": [
        "print(bin(212))"
      ],
      "metadata": {
        "id": "1v8_7cv96XIa"
      },
      "execution_count": null,
      "outputs": []
    },
    {
      "cell_type": "markdown",
      "source": [
        "Let's look at math with binary numbers. In addition to normal operations like +,-,* and / and so on which give you the expected result, there are so called bitwise operaterations. Here the operation is done bit by bit and nothing is carried over. Here are the operations\n",
        "\n",
        "* **x & y** -- Does a \"bitwise and\". Each bit of the output is 1 if the corresponding bit of x AND of y is 1, otherwise it's 0.\n",
        "* **x | y** -- Does a \"bitwise or\". Each bit of the output is 0 if the corresponding bit of x AND of y is 0, otherwise it's 1.\n",
        "* **~ x** --Returns the complement of x - the number you get by switching each 1 for a 0 and each 0 for a 1. This is the same as -x - 1.\n",
        "* **x ^ y** -- Does a \"bitwise exclusive or\". Each bit of the output is the same as the corresponding bit in x if that bit in y is 0, and it's the complement of the bit in x if that bit in y is 1.\n",
        "\n",
        "Hmm, so let's look at some examples."
      ],
      "metadata": {
        "id": "PkksWr5UB3cJ"
      }
    },
    {
      "cell_type": "code",
      "source": [
        "print (2+2)    # This is 2+2 as you expect 4\n",
        "print (2 & 2)  # This is bitwise and for 10 and 10 - so it is 10 or 2"
      ],
      "metadata": {
        "id": "pzQporBH6oWk"
      },
      "execution_count": null,
      "outputs": []
    },
    {
      "cell_type": "markdown",
      "source": [
        "The xor or `^` operation we want to have a closer look at. You might remember from the logic simulator that is bot input bits are the same, the result is 0, otherwise it is one. Look atthe example below."
      ],
      "metadata": {
        "id": "NW8SUqkNDsxt"
      }
    },
    {
      "cell_type": "code",
      "source": [
        "print (4^5)"
      ],
      "metadata": {
        "id": "VkdKdJ4zD_yB"
      },
      "execution_count": null,
      "outputs": []
    },
    {
      "cell_type": "code",
      "source": [
        "# Lets look at it in binary\n",
        "print (bin(4)[2:].zfill(8))\n",
        "print (bin(5)[2:].zfill(8))\n",
        "print (bin(4^5)[2:].zfill(8))"
      ],
      "metadata": {
        "id": "DfBN-G39EPfh"
      },
      "execution_count": null,
      "outputs": []
    },
    {
      "cell_type": "markdown",
      "source": [
        "## Error Correction\n",
        "\n",
        "From communcation to CDs, there can be errors by random bit flips. So how do you recover? The magic of bits :) Check the class slides for details on this so called Hamming code."
      ],
      "metadata": {
        "id": "JdWCQKDeB1jp"
      }
    },
    {
      "cell_type": "code",
      "source": [
        "# Load some useful things\n",
        "import numpy as np\n",
        "import operator as op\n",
        "from functools import reduce"
      ],
      "metadata": {
        "id": "E0j2TyUP6sxR"
      },
      "execution_count": null,
      "outputs": []
    },
    {
      "cell_type": "code",
      "source": [
        "# We create a list of 16 random bits (0 or 1)\n",
        "bits=np.random.randint(0,2,16)\n",
        "print (bits)"
      ],
      "metadata": {
        "id": "f7qO6IAw7ab3"
      },
      "execution_count": null,
      "outputs": []
    },
    {
      "cell_type": "code",
      "source": [
        "# This let's us see the index (position in the list) where the but is 1. Remember counting starts at 0 :)\n",
        "[i for i, bit in enumerate(bits) if bit]"
      ],
      "metadata": {
        "id": "vlbM6MgV7msO"
      },
      "execution_count": null,
      "outputs": []
    },
    {
      "cell_type": "code",
      "source": [
        "# Remember parity - basically we want to set the parity bits (at positons 1,2,4,8) so that the number\n",
        "# of 1's in the complete block is even. The xor (or ^) of all positions (!) with 1's tells us how\n",
        "# to set those bits.\n",
        "\n",
        "# First xor all those positions together\n",
        "reduce(op.xor, [i for i, bit in enumerate(bits) if bit])"
      ],
      "metadata": {
        "id": "svX5DE1Q7-_q"
      },
      "execution_count": null,
      "outputs": []
    },
    {
      "cell_type": "code",
      "source": [
        "# What is it in binary\n",
        "bin(9)"
      ],
      "metadata": {
        "id": "8bLpKrvg8MLj"
      },
      "execution_count": null,
      "outputs": []
    },
    {
      "cell_type": "code",
      "source": [
        "# Setting parity bits for 1000 (8) and 0001 (1) to make a well formed block\n",
        "bits[8] = not bits[8]\n",
        "bits[1] = not bits[1]"
      ],
      "metadata": {
        "id": "L0tqoAHS8Z6b"
      },
      "execution_count": null,
      "outputs": []
    },
    {
      "cell_type": "code",
      "source": [
        "# Check if it now is 0 - so it has the right parity bits\n",
        "reduce(op.xor, [i for i, bit in enumerate(bits) if bit])"
      ],
      "metadata": {
        "id": "i0edarZi9Hr2"
      },
      "execution_count": null,
      "outputs": []
    },
    {
      "cell_type": "code",
      "source": [
        "# Woohoo - so we send the bit on the way\n",
        "# And them an evit hacker flips a bit in transity\n",
        "# 😨\n",
        "bits[5] = not bits[5]"
      ],
      "metadata": {
        "id": "8_uXHcdE9JJ9"
      },
      "execution_count": null,
      "outputs": []
    },
    {
      "cell_type": "code",
      "source": [
        "# But the receiver runs the same check where you expect 0 and gets\n",
        "reduce(op.xor, [i for i, bit in enumerate(bits) if bit])"
      ],
      "metadata": {
        "id": "74LMtja19WtE"
      },
      "execution_count": null,
      "outputs": []
    },
    {
      "cell_type": "code",
      "source": [
        "# The index of the bit that was messed with 🥳\n",
        "# And fixes it\n",
        "bits[5] = not bits[5]"
      ],
      "metadata": {
        "id": "ElYw3tRq9X4n"
      },
      "execution_count": null,
      "outputs": []
    },
    {
      "cell_type": "code",
      "source": [
        "# Compare it to the original bit list from the beginning.\n",
        "print(bits)"
      ],
      "metadata": {
        "id": "uHVW3F2M9au1"
      },
      "execution_count": null,
      "outputs": []
    },
    {
      "cell_type": "code",
      "source": [],
      "metadata": {
        "id": "lX92UjAeKwCQ"
      },
      "execution_count": null,
      "outputs": []
    }
  ]
}