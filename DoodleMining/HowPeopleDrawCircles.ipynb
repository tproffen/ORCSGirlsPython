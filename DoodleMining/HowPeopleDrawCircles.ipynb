{
  "nbformat": 4,
  "nbformat_minor": 0,
  "metadata": {
    "colab": {
      "name": "HowPeopleDrawCircles.ipynb",
      "private_outputs": true,
      "provenance": [],
      "include_colab_link": true
    },
    "kernelspec": {
      "name": "python3",
      "display_name": "Python 3"
    }
  },
  "cells": [
    {
      "cell_type": "markdown",
      "metadata": {
        "id": "view-in-github",
        "colab_type": "text"
      },
      "source": [
        "<a href=\"https://colab.research.google.com/github/tproffen/ORCSGirlsPython/blob/master/DoodleMining/HowPeopleDrawCircles.ipynb\" target=\"_parent\"><img src=\"https://colab.research.google.com/assets/colab-badge.svg\" alt=\"Open In Colab\"/></a>"
      ]
    },
    {
      "cell_type": "markdown",
      "metadata": {
        "id": "xy07cjGx0KRJ"
      },
      "source": [
        "<img src=\"https://github.com/tproffen/ORCSGirlsPython/blob/master/Images/Logo.png?raw=1\" width=\"10%\" align=\"right\" hpsace=\"50\">\n",
        "\n",
        "# Doodle Data Mining\n",
        "\n",
        "## How People Draw\n",
        "\n",
        "If you need more information, check the <a href=\"https://quickdraw.readthedocs.io/en/latest/index.html\" target=\"_blank\">QuickDraw Python API documentation</a>. A list of all categories of drawings can be found <a href=\"https://github.com/googlecreativelab/quickdraw-dataset/blob/master/categories.txt\" target=\"_blank\">here</a>."
      ]
    },
    {
      "cell_type": "markdown",
      "metadata": {
        "id": "GCkU9KXJi4MR"
      },
      "source": [
        "## Run these calls first\n",
        "\n",
        "The two cells below need to be executed first. They install the Quickdraw API and load the needed Python modules."
      ]
    },
    {
      "cell_type": "code",
      "metadata": {
        "id": "LkcKJcjhwmHe"
      },
      "source": [
        "!curl -s -o setup.sh https://raw.githubusercontent.com/tproffen/ORCSGirlsPython/master/DoodleMining/Helpers/setup_activity1.sh\n",
        "!bash setup.sh\n",
        "\n",
        "from Helpers.helpers import *"
      ],
      "execution_count": null,
      "outputs": []
    },
    {
      "cell_type": "markdown",
      "metadata": {
        "id": "13xv7PRm4isd"
      },
      "source": [
        "## Let's see how a doodle was drawn\n",
        "\n",
        "So far we have used `get_image()` to retrieve an image of the doodle, but the data set contains the `x` and `y` coordinates of every line the player drew. First let's get a group of drawings and see how the information is stored.\n",
        "\n",
        "\n",
        "\n"
      ]
    },
    {
      "cell_type": "code",
      "metadata": {
        "id": "gl7oRruA5q4l"
      },
      "source": [
        "what=\"sun\"\n",
        "doodles = QuickDrawDataGroup(what)"
      ],
      "execution_count": null,
      "outputs": []
    },
    {
      "cell_type": "code",
      "metadata": {
        "id": "UY5dj2nxpJ4k"
      },
      "source": [
        "doodle = doodles.get_drawing()\n",
        "\n",
        "# print doodle\n",
        "## Your code here\n",
        "\n",
        "# print the number of lines\n",
        "## Your code here\n",
        "\n",
        "# Get the points for the first line line\n",
        "line = ## Your code here\n",
        "print (line)\n",
        "\n",
        "# now get the x and y of the first point (there are a tuple, so you can do (x,y) = ..)\n",
        "(x,y) = ## Your code here\n",
        "print(x,y)"
      ],
      "execution_count": null,
      "outputs": []
    },
    {
      "cell_type": "markdown",
      "metadata": {
        "id": "1gcWzdI7qO4v"
      },
      "source": [
        "### Draw it\n",
        "\n",
        "Remember the turtle graphics. We can use it here and plot the all the points in the strokes. We will need to loop over all lines and then have a second loop over all points in each line. Remember the `goto(x,y)` and `pendown()` commands? Complete the code below."
      ]
    },
    {
      "cell_type": "code",
      "metadata": {
        "id": "k4bpM5kW4mE2"
      },
      "source": [
        "initializeTurtle()\n",
        "showturtle()\n",
        "\n",
        "for stroke in doodle.strokes:\n",
        "  penup()\n",
        "  for x,y in stroke:\n",
        "    ## Your code here\n",
        "\n",
        "show()"
      ],
      "execution_count": null,
      "outputs": []
    },
    {
      "cell_type": "markdown",
      "metadata": {
        "id": "3o9j316IqsnF"
      },
      "source": [
        "Try different objects or change colors or line width. Click the *Replay* button to see the doodle being drawn."
      ]
    },
    {
      "cell_type": "markdown",
      "metadata": {
        "id": "0byynswA7XOI"
      },
      "source": [
        "\n",
        "## Project: How do people draw circles\n",
        "\n",
        "See if we can determine if a circle is drawing clock wise or counter clock wise and see if there are differences by country.\n",
        "\n",
        "First here is a function `winding(stroke)` that can determine if a polygon is drawn clockwise (cw) or counter clockwise (ccw). The argument is a single stroke line from the QuickDraw dataset. The function will return a positive number for cw and a negative number for ccw. The equation is based on some <a href=\"https://en.wikipedia.org/wiki/Curve_orientation#Orientation_of_a_simple_polygon\" target=\"_blank\">vector math</a>. How did we find it? Google 😎\n",
        "\n",
        "**Make sure you run the cell below, otherwise you will get an error when the functions is called later.**"
      ]
    },
    {
      "cell_type": "code",
      "metadata": {
        "id": "CWqgHGYBFsnH"
      },
      "source": [
        "def winding(stroke):\n",
        "  if (len(stroke) < 3):\n",
        "    return 0\n",
        "  else:\n",
        "    (xa,ya) = stroke[0]\n",
        "    (xb,yb) = stroke[1]\n",
        "    (xc,yc) = stroke[2]\n",
        "    return (xb*yc+xa*yb+ya*xc) - (ya*xb+yb*xc+xa*yc)"
      ],
      "execution_count": null,
      "outputs": []
    },
    {
      "cell_type": "markdown",
      "metadata": {
        "id": "kG52c6Pfr-HR"
      },
      "source": [
        "Let us get a group of circles. We need many circles, so we start asking for 50,000."
      ]
    },
    {
      "cell_type": "code",
      "metadata": {
        "id": "I-7NSKs1Kt4i"
      },
      "source": [
        "what = \"circle\"\n",
        "all = QuickDrawDataGroup(what, max_drawings=50000, recognized=True)"
      ],
      "execution_count": null,
      "outputs": []
    },
    {
      "cell_type": "code",
      "metadata": {
        "id": "wYwMYMoO8SmY"
      },
      "source": [
        "countries = [\"US\", \"JP\", \"DE\", \"TW\"]\n",
        "countries_cw = []\n",
        "\n",
        "for country in countries:\n",
        "  doodles=all.search_drawings(countrycode=country)\n",
        "  count=0\n",
        "  for doodle in doodles:\n",
        "    ## We need code here that calls winding with the\n",
        "    ## current stroke. Since you have possible more\n",
        "    ## than one, you can pass the first one as\n",
        "    ## doodle.strokes[0] or the last one as\n",
        "    ## doodle.strokes[-1]. Then check the return value\n",
        "    ## and if it is > 0 add one to count.\n",
        "\n",
        "    ## Your code here\n",
        "\n",
        "  percent_cw=100*count/len(doodles)\n",
        "  countries_cw.append(percent_cw)\n",
        "\n",
        "print(countries, countries_cw)"
      ],
      "execution_count": null,
      "outputs": []
    },
    {
      "cell_type": "markdown",
      "metadata": {
        "id": "_v9hCrEftyEl"
      },
      "source": [
        "Let's visualize the percentages of cirlcles drawn clockwise."
      ]
    },
    {
      "cell_type": "code",
      "metadata": {
        "id": "OIGNRvgXtuqX"
      },
      "source": [
        "plot(countries_cw, countries)"
      ],
      "execution_count": null,
      "outputs": []
    },
    {
      "cell_type": "markdown",
      "metadata": {
        "id": "gzWJuD1eugzW"
      },
      "source": [
        "### Visualize by plotting the circles for each case\n",
        "\n",
        "Let us plot the circles from US and JP separate for clock wise and counter clock wise circles. We need to run the loop again and save the strokes in different arrays for the two cases and two countries. To make things easier to use, we create two new functions: One to sort the doodles into cw and ccw and one to draw the circles using the turtle."
      ]
    },
    {
      "cell_type": "code",
      "metadata": {
        "id": "jOkhLlAnx8GC"
      },
      "source": [
        "# Let create two functions, so we can reuse them as needed.\n",
        "\n",
        "# Function sort_doodles\n",
        "# Sort the doodles into cw and ccw\n",
        "\n",
        "def sort_doodles(doodles):\n",
        "  cw = []\n",
        "  ccw = []\n",
        "\n",
        "  for doodle in doodles[:30]:\n",
        "    w=winding(doodle.strokes[-1])\n",
        "    if (w>0):\n",
        "      cw.append(doodle.strokes[-1])\n",
        "    else:\n",
        "      ccw.append(doodle.strokes[-1])\n",
        "  return(cw, ccw)\n",
        "\n",
        "# Function draw_doodles\n",
        "# Draw doodles using the turtle. Needs to be called\n",
        "# after initializeTurtle.\n",
        "\n",
        "def draw_doodles(x_start,y_start,col,strokes):\n",
        "  for stroke in strokes:\n",
        "    color(col)\n",
        "    penup()\n",
        "    for x,y in stroke:\n",
        "      goto(x_start+x,y_start+y)\n",
        "      pendown()\n",
        "\n",
        "\n",
        "# Making the master plot using our new functions\n",
        "\n",
        "initializeTurtle()\n",
        "\n",
        "doodles=all.search_drawings(countrycode=\"US\")\n",
        "## Look atthe functions we defined. Call\n",
        "## sort_doodles to get the cw and ccw\n",
        "## strokes. Hint: (cw, ccw) = sort_doodles..\n",
        "## Then call draw_doodles twice for the\n",
        "## cw and ccw lists.\n",
        "\n",
        "## Your Code here\n",
        "\n",
        "show()\n",
        "\n",
        "## Do the same for Japan and put it all on one plot.\n",
        "\n",
        "## Your code here\n",
        "\n",
        "show()\n"
      ],
      "execution_count": null,
      "outputs": []
    },
    {
      "cell_type": "markdown",
      "metadata": {
        "id": "IgffPrlNuN1e"
      },
      "source": [
        "Compare your result with the one shown in the <a href=\"https://qz.com/994486/the-way-you-draw-circles-says-a-lot-about-you/\" target=\"_blank\">this article</a>. Note they used more drawings, so the numbers will be somewhat different.\n",
        "\n",
        "# You are a data scientist now!"
      ]
    },
    {
      "cell_type": "code",
      "metadata": {
        "id": "GOt0pAGozMpi"
      },
      "source": [],
      "execution_count": null,
      "outputs": []
    }
  ]
}